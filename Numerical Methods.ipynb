{
 "cells": [
  {
   "cell_type": "markdown",
   "metadata": {},
   "source": [
    "Rusty Bargain used car sales service is developing an app to attract new customers. In that app, you can quickly find out the market value of your car. You have access to historical data: technical specifications, trim versions, and prices. You need to build the model to determine the value. \n",
    "\n",
    "Rusty Bargain is interested in:\n",
    "\n",
    "- the quality of the prediction;\n",
    "- the speed of the prediction;\n",
    "- the time required for training"
   ]
  },
  {
   "cell_type": "markdown",
   "metadata": {},
   "source": [
    "## Data preparation"
   ]
  },
  {
   "cell_type": "code",
   "execution_count": 203,
   "metadata": {},
   "outputs": [],
   "source": [
    "import pandas as pd\n",
    "import numpy as np\n",
    "from sklearn.model_selection import GridSearchCV\n",
    "from sklearn.ensemble import RandomForestRegressor\n",
    "from sklearn.linear_model import LinearRegression\n",
    "\n",
    "from sklearn.model_selection import train_test_split\n",
    "\n",
    "from catboost import CatBoostRegressor\n",
    "import lightgbm as lgb\n",
    "import xgboost as xgb\n",
    "from sklearn.preprocessing import OrdinalEncoder\n",
    "from sklearn.metrics import mean_squared_error\n",
    "from sklearn.preprocessing import StandardScaler \n",
    "import math\n",
    "import warnings\n",
    "from datetime import date\n",
    "import time\n",
    "\n",
    "RANDOM_STATE = 12345\n",
    "warnings.filterwarnings('ignore')"
   ]
  },
  {
   "cell_type": "markdown",
   "metadata": {},
   "source": [
    "### Download and look at the data"
   ]
  },
  {
   "cell_type": "code",
   "execution_count": 204,
   "metadata": {},
   "outputs": [],
   "source": [
    "car_data = pd.read_csv('https://code.s3.yandex.net/datasets/car_data.csv')"
   ]
  },
  {
   "cell_type": "code",
   "execution_count": 205,
   "metadata": {},
   "outputs": [
    {
     "data": {
      "text/plain": [
       "72809     31/03/2016 23:54\n",
       "262683    31/03/2016 23:51\n",
       "36473     31/03/2016 23:50\n",
       "231191    31/03/2016 23:48\n",
       "158969    31/03/2016 23:47\n",
       "                ...       \n",
       "105825    01/04/2016 00:15\n",
       "328139    01/04/2016 00:15\n",
       "237989    01/04/2016 00:15\n",
       "286293    01/04/2016 00:15\n",
       "323643    01/04/2016 00:15\n",
       "Name: LastSeen, Length: 354369, dtype: object"
      ]
     },
     "execution_count": 205,
     "metadata": {},
     "output_type": "execute_result"
    }
   ],
   "source": [
    "car_data['LastSeen'].sort_values(ascending=False)"
   ]
  },
  {
   "cell_type": "code",
   "execution_count": 206,
   "metadata": {},
   "outputs": [
    {
     "data": {
      "text/plain": [
       "0     37352\n",
       "3     34373\n",
       "6     31508\n",
       "4     29270\n",
       "5     29153\n",
       "7     27213\n",
       "10    26099\n",
       "12    24289\n",
       "11    24186\n",
       "9     23813\n",
       "1     23219\n",
       "8     22627\n",
       "2     21267\n",
       "Name: RegistrationMonth, dtype: int64"
      ]
     },
     "execution_count": 206,
     "metadata": {},
     "output_type": "execute_result"
    }
   ],
   "source": [
    "car_data['RegistrationMonth'].value_counts()"
   ]
  },
  {
   "cell_type": "code",
   "execution_count": null,
   "metadata": {},
   "outputs": [],
   "source": []
  },
  {
   "cell_type": "code",
   "execution_count": 207,
   "metadata": {},
   "outputs": [
    {
     "name": "stdout",
     "output_type": "stream",
     "text": [
      "There are 37352 observations with RegistrationMonth=0 \n"
     ]
    }
   ],
   "source": [
    "RegistrationMonth = car_data[car_data['RegistrationMonth'] ==0]['RegistrationMonth'].count()\n",
    "print(f\"There are {RegistrationMonth} observations with RegistrationMonth=0 \")"
   ]
  },
  {
   "cell_type": "code",
   "execution_count": 208,
   "metadata": {},
   "outputs": [
    {
     "name": "stdout",
     "output_type": "stream",
     "text": [
      "There are 10772 observations with illogical price values \n"
     ]
    }
   ],
   "source": [
    "price = car_data[car_data['Price']<=0]['Price'].count()\n",
    "print(f\"There are {price} observations with illogical price values \")"
   ]
  },
  {
   "cell_type": "code",
   "execution_count": 209,
   "metadata": {},
   "outputs": [
    {
     "name": "stdout",
     "output_type": "stream",
     "text": [
      "There are 171 observations with illogical RegistrationYear values \n"
     ]
    }
   ],
   "source": [
    "# The first car was made in 1886 \n",
    "RegistrationYear = car_data[(car_data['RegistrationYear'] > date.today().year) | \\\n",
    "                                (car_data['RegistrationYear'] < 1885)]['Price'].count()\n",
    "print(f\"There are {RegistrationYear} observations with illogical RegistrationYear values \")"
   ]
  },
  {
   "cell_type": "code",
   "execution_count": 210,
   "metadata": {},
   "outputs": [
    {
     "name": "stdout",
     "output_type": "stream",
     "text": [
      "There are 203 observations with illogical power values \n"
     ]
    }
   ],
   "source": [
    "#  illogical power values  \n",
    "power = car_data[car_data['Power'] >1500]['Price'].count()\n",
    "print(f\"There are {power} observations with illogical power values \")"
   ]
  },
  {
   "cell_type": "code",
   "execution_count": 211,
   "metadata": {},
   "outputs": [],
   "source": [
    "#delete illogical price values \n",
    "car_data = car_data[car_data['Price']>0]\n",
    "#delete illogical RegistrationMonth values \n",
    "car_data = car_data[car_data['RegistrationMonth'] >0]\n",
    "\n",
    "# delete illogical RegistrationYear values  \n",
    "car_data = car_data[(car_data['RegistrationYear'] <= date.today().year) & \\\n",
    "                                (car_data['RegistrationYear'] > 1885)]\n",
    "\n",
    "# delete illogical power values  \n",
    "car_data = car_data[car_data['Power'] <1500]\n",
    "\n"
   ]
  },
  {
   "cell_type": "code",
   "execution_count": 212,
   "metadata": {},
   "outputs": [
    {
     "data": {
      "text/plain": [
       "(310522, 16)"
      ]
     },
     "execution_count": 212,
     "metadata": {},
     "output_type": "execute_result"
    }
   ],
   "source": [
    "car_data.shape"
   ]
  },
  {
   "cell_type": "code",
   "execution_count": null,
   "metadata": {},
   "outputs": [],
   "source": []
  },
  {
   "cell_type": "code",
   "execution_count": 213,
   "metadata": {},
   "outputs": [
    {
     "data": {
      "text/html": [
       "<div>\n",
       "<style scoped>\n",
       "    .dataframe tbody tr th:only-of-type {\n",
       "        vertical-align: middle;\n",
       "    }\n",
       "\n",
       "    .dataframe tbody tr th {\n",
       "        vertical-align: top;\n",
       "    }\n",
       "\n",
       "    .dataframe thead th {\n",
       "        text-align: right;\n",
       "    }\n",
       "</style>\n",
       "<table border=\"1\" class=\"dataframe\">\n",
       "  <thead>\n",
       "    <tr style=\"text-align: right;\">\n",
       "      <th></th>\n",
       "      <th>DateCrawled</th>\n",
       "      <th>Price</th>\n",
       "      <th>VehicleType</th>\n",
       "      <th>RegistrationYear</th>\n",
       "      <th>Gearbox</th>\n",
       "      <th>Power</th>\n",
       "      <th>Model</th>\n",
       "      <th>Mileage</th>\n",
       "      <th>RegistrationMonth</th>\n",
       "      <th>FuelType</th>\n",
       "      <th>Brand</th>\n",
       "      <th>NotRepaired</th>\n",
       "      <th>DateCreated</th>\n",
       "      <th>NumberOfPictures</th>\n",
       "      <th>PostalCode</th>\n",
       "      <th>LastSeen</th>\n",
       "    </tr>\n",
       "  </thead>\n",
       "  <tbody>\n",
       "    <tr>\n",
       "      <td>25460</td>\n",
       "      <td>11/03/2016 08:36</td>\n",
       "      <td>2500</td>\n",
       "      <td>NaN</td>\n",
       "      <td>2017</td>\n",
       "      <td>auto</td>\n",
       "      <td>136</td>\n",
       "      <td>other</td>\n",
       "      <td>150000</td>\n",
       "      <td>9</td>\n",
       "      <td>petrol</td>\n",
       "      <td>suzuki</td>\n",
       "      <td>no</td>\n",
       "      <td>11/03/2016 00:00</td>\n",
       "      <td>0</td>\n",
       "      <td>39576</td>\n",
       "      <td>21/03/2016 15:44</td>\n",
       "    </tr>\n",
       "    <tr>\n",
       "      <td>267235</td>\n",
       "      <td>04/04/2016 19:39</td>\n",
       "      <td>50</td>\n",
       "      <td>sedan</td>\n",
       "      <td>2000</td>\n",
       "      <td>NaN</td>\n",
       "      <td>0</td>\n",
       "      <td>NaN</td>\n",
       "      <td>5000</td>\n",
       "      <td>1</td>\n",
       "      <td>petrol</td>\n",
       "      <td>smart</td>\n",
       "      <td>NaN</td>\n",
       "      <td>04/04/2016 00:00</td>\n",
       "      <td>0</td>\n",
       "      <td>93107</td>\n",
       "      <td>06/04/2016 21:45</td>\n",
       "    </tr>\n",
       "    <tr>\n",
       "      <td>292076</td>\n",
       "      <td>08/03/2016 15:53</td>\n",
       "      <td>850</td>\n",
       "      <td>sedan</td>\n",
       "      <td>1997</td>\n",
       "      <td>manual</td>\n",
       "      <td>75</td>\n",
       "      <td>golf</td>\n",
       "      <td>150000</td>\n",
       "      <td>3</td>\n",
       "      <td>petrol</td>\n",
       "      <td>volkswagen</td>\n",
       "      <td>NaN</td>\n",
       "      <td>08/03/2016 00:00</td>\n",
       "      <td>0</td>\n",
       "      <td>27211</td>\n",
       "      <td>06/04/2016 20:19</td>\n",
       "    </tr>\n",
       "    <tr>\n",
       "      <td>327289</td>\n",
       "      <td>16/03/2016 13:37</td>\n",
       "      <td>9199</td>\n",
       "      <td>sedan</td>\n",
       "      <td>2005</td>\n",
       "      <td>auto</td>\n",
       "      <td>249</td>\n",
       "      <td>NaN</td>\n",
       "      <td>150000</td>\n",
       "      <td>11</td>\n",
       "      <td>petrol</td>\n",
       "      <td>sonstige_autos</td>\n",
       "      <td>no</td>\n",
       "      <td>16/03/2016 00:00</td>\n",
       "      <td>0</td>\n",
       "      <td>46535</td>\n",
       "      <td>06/04/2016 09:17</td>\n",
       "    </tr>\n",
       "    <tr>\n",
       "      <td>254597</td>\n",
       "      <td>01/04/2016 17:37</td>\n",
       "      <td>1590</td>\n",
       "      <td>NaN</td>\n",
       "      <td>2016</td>\n",
       "      <td>manual</td>\n",
       "      <td>58</td>\n",
       "      <td>agila</td>\n",
       "      <td>100000</td>\n",
       "      <td>12</td>\n",
       "      <td>petrol</td>\n",
       "      <td>opel</td>\n",
       "      <td>no</td>\n",
       "      <td>01/04/2016 00:00</td>\n",
       "      <td>0</td>\n",
       "      <td>92363</td>\n",
       "      <td>03/04/2016 13:48</td>\n",
       "    </tr>\n",
       "    <tr>\n",
       "      <td>297537</td>\n",
       "      <td>31/03/2016 08:55</td>\n",
       "      <td>5500</td>\n",
       "      <td>sedan</td>\n",
       "      <td>2002</td>\n",
       "      <td>auto</td>\n",
       "      <td>333</td>\n",
       "      <td>NaN</td>\n",
       "      <td>150000</td>\n",
       "      <td>4</td>\n",
       "      <td>petrol</td>\n",
       "      <td>bmw</td>\n",
       "      <td>no</td>\n",
       "      <td>31/03/2016 00:00</td>\n",
       "      <td>0</td>\n",
       "      <td>21522</td>\n",
       "      <td>31/03/2016 09:49</td>\n",
       "    </tr>\n",
       "    <tr>\n",
       "      <td>121527</td>\n",
       "      <td>24/03/2016 09:57</td>\n",
       "      <td>300</td>\n",
       "      <td>NaN</td>\n",
       "      <td>2016</td>\n",
       "      <td>auto</td>\n",
       "      <td>60</td>\n",
       "      <td>corsa</td>\n",
       "      <td>150000</td>\n",
       "      <td>9</td>\n",
       "      <td>petrol</td>\n",
       "      <td>opel</td>\n",
       "      <td>NaN</td>\n",
       "      <td>24/03/2016 00:00</td>\n",
       "      <td>0</td>\n",
       "      <td>27616</td>\n",
       "      <td>06/04/2016 23:45</td>\n",
       "    </tr>\n",
       "    <tr>\n",
       "      <td>48988</td>\n",
       "      <td>20/03/2016 22:48</td>\n",
       "      <td>2899</td>\n",
       "      <td>NaN</td>\n",
       "      <td>2016</td>\n",
       "      <td>manual</td>\n",
       "      <td>75</td>\n",
       "      <td>golf</td>\n",
       "      <td>100000</td>\n",
       "      <td>5</td>\n",
       "      <td>petrol</td>\n",
       "      <td>volkswagen</td>\n",
       "      <td>NaN</td>\n",
       "      <td>20/03/2016 00:00</td>\n",
       "      <td>0</td>\n",
       "      <td>61352</td>\n",
       "      <td>22/03/2016 13:10</td>\n",
       "    </tr>\n",
       "    <tr>\n",
       "      <td>197381</td>\n",
       "      <td>09/03/2016 13:54</td>\n",
       "      <td>10500</td>\n",
       "      <td>sedan</td>\n",
       "      <td>2008</td>\n",
       "      <td>manual</td>\n",
       "      <td>143</td>\n",
       "      <td>1er</td>\n",
       "      <td>125000</td>\n",
       "      <td>10</td>\n",
       "      <td>petrol</td>\n",
       "      <td>bmw</td>\n",
       "      <td>NaN</td>\n",
       "      <td>09/03/2016 00:00</td>\n",
       "      <td>0</td>\n",
       "      <td>54570</td>\n",
       "      <td>09/03/2016 13:54</td>\n",
       "    </tr>\n",
       "    <tr>\n",
       "      <td>64325</td>\n",
       "      <td>11/03/2016 11:50</td>\n",
       "      <td>7999</td>\n",
       "      <td>suv</td>\n",
       "      <td>2000</td>\n",
       "      <td>auto</td>\n",
       "      <td>184</td>\n",
       "      <td>cherokee</td>\n",
       "      <td>150000</td>\n",
       "      <td>3</td>\n",
       "      <td>petrol</td>\n",
       "      <td>jeep</td>\n",
       "      <td>NaN</td>\n",
       "      <td>11/03/2016 00:00</td>\n",
       "      <td>0</td>\n",
       "      <td>22527</td>\n",
       "      <td>05/04/2016 12:55</td>\n",
       "    </tr>\n",
       "    <tr>\n",
       "      <td>269214</td>\n",
       "      <td>04/04/2016 16:58</td>\n",
       "      <td>1880</td>\n",
       "      <td>NaN</td>\n",
       "      <td>2017</td>\n",
       "      <td>manual</td>\n",
       "      <td>90</td>\n",
       "      <td>impreza</td>\n",
       "      <td>150000</td>\n",
       "      <td>4</td>\n",
       "      <td>NaN</td>\n",
       "      <td>subaru</td>\n",
       "      <td>no</td>\n",
       "      <td>04/04/2016 00:00</td>\n",
       "      <td>0</td>\n",
       "      <td>48341</td>\n",
       "      <td>06/04/2016 19:17</td>\n",
       "    </tr>\n",
       "    <tr>\n",
       "      <td>71275</td>\n",
       "      <td>01/04/2016 12:53</td>\n",
       "      <td>11500</td>\n",
       "      <td>convertible</td>\n",
       "      <td>1999</td>\n",
       "      <td>manual</td>\n",
       "      <td>252</td>\n",
       "      <td>boxster</td>\n",
       "      <td>150000</td>\n",
       "      <td>12</td>\n",
       "      <td>petrol</td>\n",
       "      <td>porsche</td>\n",
       "      <td>NaN</td>\n",
       "      <td>01/04/2016 00:00</td>\n",
       "      <td>0</td>\n",
       "      <td>47608</td>\n",
       "      <td>01/04/2016 13:39</td>\n",
       "    </tr>\n",
       "    <tr>\n",
       "      <td>152345</td>\n",
       "      <td>29/03/2016 01:00</td>\n",
       "      <td>850</td>\n",
       "      <td>sedan</td>\n",
       "      <td>1992</td>\n",
       "      <td>manual</td>\n",
       "      <td>150</td>\n",
       "      <td>NaN</td>\n",
       "      <td>150000</td>\n",
       "      <td>8</td>\n",
       "      <td>petrol</td>\n",
       "      <td>bmw</td>\n",
       "      <td>NaN</td>\n",
       "      <td>29/03/2016 00:00</td>\n",
       "      <td>0</td>\n",
       "      <td>27729</td>\n",
       "      <td>03/04/2016 17:18</td>\n",
       "    </tr>\n",
       "    <tr>\n",
       "      <td>196310</td>\n",
       "      <td>26/03/2016 15:47</td>\n",
       "      <td>300</td>\n",
       "      <td>small</td>\n",
       "      <td>1996</td>\n",
       "      <td>manual</td>\n",
       "      <td>45</td>\n",
       "      <td>NaN</td>\n",
       "      <td>150000</td>\n",
       "      <td>4</td>\n",
       "      <td>petrol</td>\n",
       "      <td>volkswagen</td>\n",
       "      <td>yes</td>\n",
       "      <td>26/03/2016 00:00</td>\n",
       "      <td>0</td>\n",
       "      <td>48346</td>\n",
       "      <td>02/04/2016 06:16</td>\n",
       "    </tr>\n",
       "    <tr>\n",
       "      <td>309785</td>\n",
       "      <td>09/03/2016 20:56</td>\n",
       "      <td>10999</td>\n",
       "      <td>NaN</td>\n",
       "      <td>2017</td>\n",
       "      <td>manual</td>\n",
       "      <td>105</td>\n",
       "      <td>touran</td>\n",
       "      <td>150000</td>\n",
       "      <td>4</td>\n",
       "      <td>NaN</td>\n",
       "      <td>volkswagen</td>\n",
       "      <td>no</td>\n",
       "      <td>09/03/2016 00:00</td>\n",
       "      <td>0</td>\n",
       "      <td>19059</td>\n",
       "      <td>29/03/2016 10:44</td>\n",
       "    </tr>\n",
       "    <tr>\n",
       "      <td>47917</td>\n",
       "      <td>09/03/2016 16:58</td>\n",
       "      <td>9500</td>\n",
       "      <td>coupe</td>\n",
       "      <td>1978</td>\n",
       "      <td>NaN</td>\n",
       "      <td>92</td>\n",
       "      <td>other</td>\n",
       "      <td>70000</td>\n",
       "      <td>2</td>\n",
       "      <td>NaN</td>\n",
       "      <td>renault</td>\n",
       "      <td>no</td>\n",
       "      <td>09/03/2016 00:00</td>\n",
       "      <td>0</td>\n",
       "      <td>90556</td>\n",
       "      <td>19/03/2016 19:18</td>\n",
       "    </tr>\n",
       "    <tr>\n",
       "      <td>56538</td>\n",
       "      <td>14/03/2016 17:48</td>\n",
       "      <td>300</td>\n",
       "      <td>small</td>\n",
       "      <td>1999</td>\n",
       "      <td>manual</td>\n",
       "      <td>60</td>\n",
       "      <td>ibiza</td>\n",
       "      <td>150000</td>\n",
       "      <td>8</td>\n",
       "      <td>petrol</td>\n",
       "      <td>seat</td>\n",
       "      <td>NaN</td>\n",
       "      <td>14/03/2016 00:00</td>\n",
       "      <td>0</td>\n",
       "      <td>95515</td>\n",
       "      <td>21/03/2016 08:46</td>\n",
       "    </tr>\n",
       "    <tr>\n",
       "      <td>301060</td>\n",
       "      <td>01/04/2016 14:38</td>\n",
       "      <td>6800</td>\n",
       "      <td>bus</td>\n",
       "      <td>2007</td>\n",
       "      <td>manual</td>\n",
       "      <td>136</td>\n",
       "      <td>other</td>\n",
       "      <td>150000</td>\n",
       "      <td>8</td>\n",
       "      <td>NaN</td>\n",
       "      <td>citroen</td>\n",
       "      <td>yes</td>\n",
       "      <td>01/04/2016 00:00</td>\n",
       "      <td>0</td>\n",
       "      <td>73529</td>\n",
       "      <td>07/04/2016 11:17</td>\n",
       "    </tr>\n",
       "    <tr>\n",
       "      <td>305009</td>\n",
       "      <td>03/04/2016 12:39</td>\n",
       "      <td>13400</td>\n",
       "      <td>convertible</td>\n",
       "      <td>1977</td>\n",
       "      <td>NaN</td>\n",
       "      <td>50</td>\n",
       "      <td>kaefer</td>\n",
       "      <td>70000</td>\n",
       "      <td>1</td>\n",
       "      <td>NaN</td>\n",
       "      <td>volkswagen</td>\n",
       "      <td>no</td>\n",
       "      <td>03/04/2016 00:00</td>\n",
       "      <td>0</td>\n",
       "      <td>88317</td>\n",
       "      <td>07/04/2016 14:57</td>\n",
       "    </tr>\n",
       "    <tr>\n",
       "      <td>4012</td>\n",
       "      <td>30/03/2016 12:38</td>\n",
       "      <td>4400</td>\n",
       "      <td>convertible</td>\n",
       "      <td>2005</td>\n",
       "      <td>NaN</td>\n",
       "      <td>61</td>\n",
       "      <td>fortwo</td>\n",
       "      <td>60000</td>\n",
       "      <td>5</td>\n",
       "      <td>petrol</td>\n",
       "      <td>smart</td>\n",
       "      <td>no</td>\n",
       "      <td>30/03/2016 00:00</td>\n",
       "      <td>0</td>\n",
       "      <td>20253</td>\n",
       "      <td>01/04/2016 06:16</td>\n",
       "    </tr>\n",
       "    <tr>\n",
       "      <td>313596</td>\n",
       "      <td>06/03/2016 15:48</td>\n",
       "      <td>1600</td>\n",
       "      <td>suv</td>\n",
       "      <td>2001</td>\n",
       "      <td>manual</td>\n",
       "      <td>86</td>\n",
       "      <td>NaN</td>\n",
       "      <td>100000</td>\n",
       "      <td>10</td>\n",
       "      <td>petrol</td>\n",
       "      <td>suzuki</td>\n",
       "      <td>yes</td>\n",
       "      <td>06/03/2016 00:00</td>\n",
       "      <td>0</td>\n",
       "      <td>57462</td>\n",
       "      <td>06/03/2016 15:48</td>\n",
       "    </tr>\n",
       "    <tr>\n",
       "      <td>217161</td>\n",
       "      <td>26/03/2016 14:38</td>\n",
       "      <td>300</td>\n",
       "      <td>coupe</td>\n",
       "      <td>1996</td>\n",
       "      <td>manual</td>\n",
       "      <td>125</td>\n",
       "      <td>a3</td>\n",
       "      <td>150000</td>\n",
       "      <td>12</td>\n",
       "      <td>petrol</td>\n",
       "      <td>audi</td>\n",
       "      <td>NaN</td>\n",
       "      <td>26/03/2016 00:00</td>\n",
       "      <td>0</td>\n",
       "      <td>71254</td>\n",
       "      <td>26/03/2016 14:38</td>\n",
       "    </tr>\n",
       "    <tr>\n",
       "      <td>46467</td>\n",
       "      <td>04/04/2016 21:51</td>\n",
       "      <td>1450</td>\n",
       "      <td>wagon</td>\n",
       "      <td>2003</td>\n",
       "      <td>manual</td>\n",
       "      <td>136</td>\n",
       "      <td>mondeo</td>\n",
       "      <td>150000</td>\n",
       "      <td>9</td>\n",
       "      <td>gasoline</td>\n",
       "      <td>ford</td>\n",
       "      <td>NaN</td>\n",
       "      <td>04/04/2016 00:00</td>\n",
       "      <td>0</td>\n",
       "      <td>21109</td>\n",
       "      <td>07/04/2016 00:45</td>\n",
       "    </tr>\n",
       "    <tr>\n",
       "      <td>319421</td>\n",
       "      <td>14/03/2016 20:38</td>\n",
       "      <td>2500</td>\n",
       "      <td>wagon</td>\n",
       "      <td>2006</td>\n",
       "      <td>NaN</td>\n",
       "      <td>150</td>\n",
       "      <td>zafira</td>\n",
       "      <td>150000</td>\n",
       "      <td>3</td>\n",
       "      <td>gasoline</td>\n",
       "      <td>opel</td>\n",
       "      <td>no</td>\n",
       "      <td>14/03/2016 00:00</td>\n",
       "      <td>0</td>\n",
       "      <td>16767</td>\n",
       "      <td>14/03/2016 20:38</td>\n",
       "    </tr>\n",
       "    <tr>\n",
       "      <td>66829</td>\n",
       "      <td>04/04/2016 15:47</td>\n",
       "      <td>1500</td>\n",
       "      <td>small</td>\n",
       "      <td>1986</td>\n",
       "      <td>manual</td>\n",
       "      <td>0</td>\n",
       "      <td>NaN</td>\n",
       "      <td>125000</td>\n",
       "      <td>12</td>\n",
       "      <td>petrol</td>\n",
       "      <td>sonstige_autos</td>\n",
       "      <td>no</td>\n",
       "      <td>04/04/2016 00:00</td>\n",
       "      <td>0</td>\n",
       "      <td>85445</td>\n",
       "      <td>06/04/2016 17:18</td>\n",
       "    </tr>\n",
       "    <tr>\n",
       "      <td>265122</td>\n",
       "      <td>07/03/2016 18:50</td>\n",
       "      <td>799</td>\n",
       "      <td>wagon</td>\n",
       "      <td>1997</td>\n",
       "      <td>manual</td>\n",
       "      <td>116</td>\n",
       "      <td>NaN</td>\n",
       "      <td>150000</td>\n",
       "      <td>11</td>\n",
       "      <td>petrol</td>\n",
       "      <td>bmw</td>\n",
       "      <td>no</td>\n",
       "      <td>07/03/2016 00:00</td>\n",
       "      <td>0</td>\n",
       "      <td>44147</td>\n",
       "      <td>14/03/2016 08:17</td>\n",
       "    </tr>\n",
       "    <tr>\n",
       "      <td>243578</td>\n",
       "      <td>04/04/2016 22:51</td>\n",
       "      <td>10990</td>\n",
       "      <td>NaN</td>\n",
       "      <td>2016</td>\n",
       "      <td>auto</td>\n",
       "      <td>109</td>\n",
       "      <td>a_klasse</td>\n",
       "      <td>90000</td>\n",
       "      <td>12</td>\n",
       "      <td>NaN</td>\n",
       "      <td>mercedes_benz</td>\n",
       "      <td>no</td>\n",
       "      <td>04/04/2016 00:00</td>\n",
       "      <td>0</td>\n",
       "      <td>41470</td>\n",
       "      <td>07/04/2016 01:46</td>\n",
       "    </tr>\n",
       "    <tr>\n",
       "      <td>28479</td>\n",
       "      <td>05/04/2016 12:46</td>\n",
       "      <td>199</td>\n",
       "      <td>sedan</td>\n",
       "      <td>1997</td>\n",
       "      <td>manual</td>\n",
       "      <td>0</td>\n",
       "      <td>3_reihe</td>\n",
       "      <td>150000</td>\n",
       "      <td>10</td>\n",
       "      <td>petrol</td>\n",
       "      <td>mazda</td>\n",
       "      <td>NaN</td>\n",
       "      <td>05/04/2016 00:00</td>\n",
       "      <td>0</td>\n",
       "      <td>40549</td>\n",
       "      <td>05/04/2016 12:46</td>\n",
       "    </tr>\n",
       "    <tr>\n",
       "      <td>238368</td>\n",
       "      <td>11/03/2016 23:54</td>\n",
       "      <td>350</td>\n",
       "      <td>small</td>\n",
       "      <td>1999</td>\n",
       "      <td>manual</td>\n",
       "      <td>75</td>\n",
       "      <td>NaN</td>\n",
       "      <td>150000</td>\n",
       "      <td>11</td>\n",
       "      <td>petrol</td>\n",
       "      <td>renault</td>\n",
       "      <td>no</td>\n",
       "      <td>11/03/2016 00:00</td>\n",
       "      <td>0</td>\n",
       "      <td>40229</td>\n",
       "      <td>12/03/2016 22:15</td>\n",
       "    </tr>\n",
       "    <tr>\n",
       "      <td>351886</td>\n",
       "      <td>25/03/2016 17:41</td>\n",
       "      <td>1400</td>\n",
       "      <td>NaN</td>\n",
       "      <td>2016</td>\n",
       "      <td>manual</td>\n",
       "      <td>0</td>\n",
       "      <td>astra</td>\n",
       "      <td>150000</td>\n",
       "      <td>9</td>\n",
       "      <td>petrol</td>\n",
       "      <td>opel</td>\n",
       "      <td>no</td>\n",
       "      <td>25/03/2016 00:00</td>\n",
       "      <td>0</td>\n",
       "      <td>41460</td>\n",
       "      <td>28/03/2016 17:16</td>\n",
       "    </tr>\n",
       "    <tr>\n",
       "      <td>93427</td>\n",
       "      <td>13/03/2016 15:52</td>\n",
       "      <td>750</td>\n",
       "      <td>small</td>\n",
       "      <td>1998</td>\n",
       "      <td>auto</td>\n",
       "      <td>75</td>\n",
       "      <td>fiesta</td>\n",
       "      <td>100000</td>\n",
       "      <td>5</td>\n",
       "      <td>petrol</td>\n",
       "      <td>ford</td>\n",
       "      <td>NaN</td>\n",
       "      <td>13/03/2016 00:00</td>\n",
       "      <td>0</td>\n",
       "      <td>73312</td>\n",
       "      <td>15/03/2016 18:15</td>\n",
       "    </tr>\n",
       "    <tr>\n",
       "      <td>69877</td>\n",
       "      <td>10/03/2016 19:38</td>\n",
       "      <td>7300</td>\n",
       "      <td>wagon</td>\n",
       "      <td>2007</td>\n",
       "      <td>manual</td>\n",
       "      <td>140</td>\n",
       "      <td>a4</td>\n",
       "      <td>150000</td>\n",
       "      <td>7</td>\n",
       "      <td>gasoline</td>\n",
       "      <td>audi</td>\n",
       "      <td>NaN</td>\n",
       "      <td>10/03/2016 00:00</td>\n",
       "      <td>0</td>\n",
       "      <td>27578</td>\n",
       "      <td>21/03/2016 09:45</td>\n",
       "    </tr>\n",
       "    <tr>\n",
       "      <td>270332</td>\n",
       "      <td>14/03/2016 20:52</td>\n",
       "      <td>500</td>\n",
       "      <td>sedan</td>\n",
       "      <td>1988</td>\n",
       "      <td>manual</td>\n",
       "      <td>0</td>\n",
       "      <td>other</td>\n",
       "      <td>150000</td>\n",
       "      <td>1</td>\n",
       "      <td>petrol</td>\n",
       "      <td>ford</td>\n",
       "      <td>NaN</td>\n",
       "      <td>14/03/2016 00:00</td>\n",
       "      <td>0</td>\n",
       "      <td>84381</td>\n",
       "      <td>06/04/2016 09:45</td>\n",
       "    </tr>\n",
       "    <tr>\n",
       "      <td>268230</td>\n",
       "      <td>06/03/2016 12:37</td>\n",
       "      <td>3000</td>\n",
       "      <td>sedan</td>\n",
       "      <td>2004</td>\n",
       "      <td>NaN</td>\n",
       "      <td>0</td>\n",
       "      <td>3er</td>\n",
       "      <td>150000</td>\n",
       "      <td>5</td>\n",
       "      <td>gasoline</td>\n",
       "      <td>bmw</td>\n",
       "      <td>NaN</td>\n",
       "      <td>06/03/2016 00:00</td>\n",
       "      <td>0</td>\n",
       "      <td>10707</td>\n",
       "      <td>06/03/2016 12:37</td>\n",
       "    </tr>\n",
       "    <tr>\n",
       "      <td>287835</td>\n",
       "      <td>07/03/2016 14:51</td>\n",
       "      <td>800</td>\n",
       "      <td>wagon</td>\n",
       "      <td>2003</td>\n",
       "      <td>manual</td>\n",
       "      <td>70</td>\n",
       "      <td>rio</td>\n",
       "      <td>150000</td>\n",
       "      <td>2</td>\n",
       "      <td>NaN</td>\n",
       "      <td>kia</td>\n",
       "      <td>no</td>\n",
       "      <td>07/03/2016 00:00</td>\n",
       "      <td>0</td>\n",
       "      <td>25746</td>\n",
       "      <td>14/03/2016 08:46</td>\n",
       "    </tr>\n",
       "    <tr>\n",
       "      <td>152145</td>\n",
       "      <td>22/03/2016 12:38</td>\n",
       "      <td>500</td>\n",
       "      <td>suv</td>\n",
       "      <td>1997</td>\n",
       "      <td>auto</td>\n",
       "      <td>193</td>\n",
       "      <td>other</td>\n",
       "      <td>150000</td>\n",
       "      <td>5</td>\n",
       "      <td>petrol</td>\n",
       "      <td>chevrolet</td>\n",
       "      <td>NaN</td>\n",
       "      <td>22/03/2016 00:00</td>\n",
       "      <td>0</td>\n",
       "      <td>27777</td>\n",
       "      <td>02/04/2016 02:44</td>\n",
       "    </tr>\n",
       "    <tr>\n",
       "      <td>38468</td>\n",
       "      <td>03/04/2016 15:53</td>\n",
       "      <td>4500</td>\n",
       "      <td>wagon</td>\n",
       "      <td>1995</td>\n",
       "      <td>manual</td>\n",
       "      <td>230</td>\n",
       "      <td>other</td>\n",
       "      <td>150000</td>\n",
       "      <td>1</td>\n",
       "      <td>petrol</td>\n",
       "      <td>audi</td>\n",
       "      <td>NaN</td>\n",
       "      <td>03/04/2016 00:00</td>\n",
       "      <td>0</td>\n",
       "      <td>87634</td>\n",
       "      <td>05/04/2016 15:16</td>\n",
       "    </tr>\n",
       "    <tr>\n",
       "      <td>229196</td>\n",
       "      <td>08/03/2016 17:54</td>\n",
       "      <td>750</td>\n",
       "      <td>sedan</td>\n",
       "      <td>1993</td>\n",
       "      <td>manual</td>\n",
       "      <td>90</td>\n",
       "      <td>80</td>\n",
       "      <td>150000</td>\n",
       "      <td>6</td>\n",
       "      <td>NaN</td>\n",
       "      <td>audi</td>\n",
       "      <td>no</td>\n",
       "      <td>08/03/2016 00:00</td>\n",
       "      <td>0</td>\n",
       "      <td>4936</td>\n",
       "      <td>15/03/2016 03:46</td>\n",
       "    </tr>\n",
       "    <tr>\n",
       "      <td>30439</td>\n",
       "      <td>26/03/2016 09:50</td>\n",
       "      <td>6599</td>\n",
       "      <td>NaN</td>\n",
       "      <td>2016</td>\n",
       "      <td>manual</td>\n",
       "      <td>60</td>\n",
       "      <td>polo</td>\n",
       "      <td>50000</td>\n",
       "      <td>4</td>\n",
       "      <td>NaN</td>\n",
       "      <td>volkswagen</td>\n",
       "      <td>no</td>\n",
       "      <td>26/03/2016 00:00</td>\n",
       "      <td>0</td>\n",
       "      <td>72116</td>\n",
       "      <td>01/04/2016 23:18</td>\n",
       "    </tr>\n",
       "    <tr>\n",
       "      <td>158411</td>\n",
       "      <td>21/03/2016 19:58</td>\n",
       "      <td>580</td>\n",
       "      <td>NaN</td>\n",
       "      <td>2017</td>\n",
       "      <td>manual</td>\n",
       "      <td>70</td>\n",
       "      <td>clio</td>\n",
       "      <td>150000</td>\n",
       "      <td>9</td>\n",
       "      <td>petrol</td>\n",
       "      <td>renault</td>\n",
       "      <td>no</td>\n",
       "      <td>21/03/2016 00:00</td>\n",
       "      <td>0</td>\n",
       "      <td>65933</td>\n",
       "      <td>21/03/2016 20:31</td>\n",
       "    </tr>\n",
       "    <tr>\n",
       "      <td>154787</td>\n",
       "      <td>02/04/2016 20:53</td>\n",
       "      <td>5990</td>\n",
       "      <td>small</td>\n",
       "      <td>2009</td>\n",
       "      <td>manual</td>\n",
       "      <td>69</td>\n",
       "      <td>NaN</td>\n",
       "      <td>125000</td>\n",
       "      <td>12</td>\n",
       "      <td>petrol</td>\n",
       "      <td>fiat</td>\n",
       "      <td>no</td>\n",
       "      <td>02/04/2016 00:00</td>\n",
       "      <td>0</td>\n",
       "      <td>76829</td>\n",
       "      <td>06/04/2016 21:44</td>\n",
       "    </tr>\n",
       "    <tr>\n",
       "      <td>43622</td>\n",
       "      <td>17/03/2016 19:58</td>\n",
       "      <td>6500</td>\n",
       "      <td>bus</td>\n",
       "      <td>2004</td>\n",
       "      <td>NaN</td>\n",
       "      <td>105</td>\n",
       "      <td>touran</td>\n",
       "      <td>150000</td>\n",
       "      <td>4</td>\n",
       "      <td>gasoline</td>\n",
       "      <td>volkswagen</td>\n",
       "      <td>yes</td>\n",
       "      <td>17/03/2016 00:00</td>\n",
       "      <td>0</td>\n",
       "      <td>24568</td>\n",
       "      <td>20/03/2016 23:16</td>\n",
       "    </tr>\n",
       "    <tr>\n",
       "      <td>227598</td>\n",
       "      <td>20/03/2016 17:49</td>\n",
       "      <td>800</td>\n",
       "      <td>NaN</td>\n",
       "      <td>2016</td>\n",
       "      <td>NaN</td>\n",
       "      <td>90</td>\n",
       "      <td>golf</td>\n",
       "      <td>150000</td>\n",
       "      <td>6</td>\n",
       "      <td>NaN</td>\n",
       "      <td>volkswagen</td>\n",
       "      <td>NaN</td>\n",
       "      <td>20/03/2016 00:00</td>\n",
       "      <td>0</td>\n",
       "      <td>25421</td>\n",
       "      <td>07/04/2016 00:46</td>\n",
       "    </tr>\n",
       "    <tr>\n",
       "      <td>59870</td>\n",
       "      <td>10/03/2016 08:36</td>\n",
       "      <td>1699</td>\n",
       "      <td>small</td>\n",
       "      <td>2002</td>\n",
       "      <td>manual</td>\n",
       "      <td>95</td>\n",
       "      <td>NaN</td>\n",
       "      <td>150000</td>\n",
       "      <td>3</td>\n",
       "      <td>gasoline</td>\n",
       "      <td>mercedes_benz</td>\n",
       "      <td>no</td>\n",
       "      <td>10/03/2016 00:00</td>\n",
       "      <td>0</td>\n",
       "      <td>48599</td>\n",
       "      <td>17/03/2016 06:17</td>\n",
       "    </tr>\n",
       "    <tr>\n",
       "      <td>187785</td>\n",
       "      <td>04/04/2016 18:42</td>\n",
       "      <td>1400</td>\n",
       "      <td>small</td>\n",
       "      <td>2004</td>\n",
       "      <td>manual</td>\n",
       "      <td>0</td>\n",
       "      <td>kalos</td>\n",
       "      <td>125000</td>\n",
       "      <td>11</td>\n",
       "      <td>petrol</td>\n",
       "      <td>daewoo</td>\n",
       "      <td>NaN</td>\n",
       "      <td>04/04/2016 00:00</td>\n",
       "      <td>0</td>\n",
       "      <td>41564</td>\n",
       "      <td>04/04/2016 18:42</td>\n",
       "    </tr>\n",
       "    <tr>\n",
       "      <td>110735</td>\n",
       "      <td>30/03/2016 18:54</td>\n",
       "      <td>5500</td>\n",
       "      <td>NaN</td>\n",
       "      <td>2017</td>\n",
       "      <td>manual</td>\n",
       "      <td>105</td>\n",
       "      <td>golf</td>\n",
       "      <td>150000</td>\n",
       "      <td>8</td>\n",
       "      <td>gasoline</td>\n",
       "      <td>volkswagen</td>\n",
       "      <td>no</td>\n",
       "      <td>30/03/2016 00:00</td>\n",
       "      <td>0</td>\n",
       "      <td>94347</td>\n",
       "      <td>30/03/2016 18:54</td>\n",
       "    </tr>\n",
       "    <tr>\n",
       "      <td>146636</td>\n",
       "      <td>31/03/2016 14:41</td>\n",
       "      <td>1700</td>\n",
       "      <td>sedan</td>\n",
       "      <td>1998</td>\n",
       "      <td>manual</td>\n",
       "      <td>118</td>\n",
       "      <td>3er</td>\n",
       "      <td>150000</td>\n",
       "      <td>7</td>\n",
       "      <td>petrol</td>\n",
       "      <td>bmw</td>\n",
       "      <td>NaN</td>\n",
       "      <td>31/03/2016 00:00</td>\n",
       "      <td>0</td>\n",
       "      <td>4746</td>\n",
       "      <td>04/04/2016 06:22</td>\n",
       "    </tr>\n",
       "    <tr>\n",
       "      <td>262518</td>\n",
       "      <td>10/03/2016 19:57</td>\n",
       "      <td>4900</td>\n",
       "      <td>wagon</td>\n",
       "      <td>2004</td>\n",
       "      <td>auto</td>\n",
       "      <td>129</td>\n",
       "      <td>verso</td>\n",
       "      <td>100000</td>\n",
       "      <td>8</td>\n",
       "      <td>petrol</td>\n",
       "      <td>toyota</td>\n",
       "      <td>NaN</td>\n",
       "      <td>10/03/2016 00:00</td>\n",
       "      <td>0</td>\n",
       "      <td>24790</td>\n",
       "      <td>12/03/2016 12:16</td>\n",
       "    </tr>\n",
       "    <tr>\n",
       "      <td>10065</td>\n",
       "      <td>23/03/2016 06:03</td>\n",
       "      <td>2500</td>\n",
       "      <td>sedan</td>\n",
       "      <td>1998</td>\n",
       "      <td>manual</td>\n",
       "      <td>170</td>\n",
       "      <td>5er</td>\n",
       "      <td>150000</td>\n",
       "      <td>11</td>\n",
       "      <td>NaN</td>\n",
       "      <td>bmw</td>\n",
       "      <td>NaN</td>\n",
       "      <td>23/03/2016 00:00</td>\n",
       "      <td>0</td>\n",
       "      <td>45899</td>\n",
       "      <td>01/04/2016 08:16</td>\n",
       "    </tr>\n",
       "    <tr>\n",
       "      <td>233655</td>\n",
       "      <td>02/04/2016 16:54</td>\n",
       "      <td>16900</td>\n",
       "      <td>NaN</td>\n",
       "      <td>2018</td>\n",
       "      <td>auto</td>\n",
       "      <td>387</td>\n",
       "      <td>other</td>\n",
       "      <td>150000</td>\n",
       "      <td>9</td>\n",
       "      <td>petrol</td>\n",
       "      <td>mercedes_benz</td>\n",
       "      <td>no</td>\n",
       "      <td>02/04/2016 00:00</td>\n",
       "      <td>0</td>\n",
       "      <td>51371</td>\n",
       "      <td>06/04/2016 16:16</td>\n",
       "    </tr>\n",
       "  </tbody>\n",
       "</table>\n",
       "</div>"
      ],
      "text/plain": [
       "             DateCrawled  Price  VehicleType  RegistrationYear Gearbox  Power  \\\n",
       "25460   11/03/2016 08:36   2500          NaN              2017    auto    136   \n",
       "267235  04/04/2016 19:39     50        sedan              2000     NaN      0   \n",
       "292076  08/03/2016 15:53    850        sedan              1997  manual     75   \n",
       "327289  16/03/2016 13:37   9199        sedan              2005    auto    249   \n",
       "254597  01/04/2016 17:37   1590          NaN              2016  manual     58   \n",
       "297537  31/03/2016 08:55   5500        sedan              2002    auto    333   \n",
       "121527  24/03/2016 09:57    300          NaN              2016    auto     60   \n",
       "48988   20/03/2016 22:48   2899          NaN              2016  manual     75   \n",
       "197381  09/03/2016 13:54  10500        sedan              2008  manual    143   \n",
       "64325   11/03/2016 11:50   7999          suv              2000    auto    184   \n",
       "269214  04/04/2016 16:58   1880          NaN              2017  manual     90   \n",
       "71275   01/04/2016 12:53  11500  convertible              1999  manual    252   \n",
       "152345  29/03/2016 01:00    850        sedan              1992  manual    150   \n",
       "196310  26/03/2016 15:47    300        small              1996  manual     45   \n",
       "309785  09/03/2016 20:56  10999          NaN              2017  manual    105   \n",
       "47917   09/03/2016 16:58   9500        coupe              1978     NaN     92   \n",
       "56538   14/03/2016 17:48    300        small              1999  manual     60   \n",
       "301060  01/04/2016 14:38   6800          bus              2007  manual    136   \n",
       "305009  03/04/2016 12:39  13400  convertible              1977     NaN     50   \n",
       "4012    30/03/2016 12:38   4400  convertible              2005     NaN     61   \n",
       "313596  06/03/2016 15:48   1600          suv              2001  manual     86   \n",
       "217161  26/03/2016 14:38    300        coupe              1996  manual    125   \n",
       "46467   04/04/2016 21:51   1450        wagon              2003  manual    136   \n",
       "319421  14/03/2016 20:38   2500        wagon              2006     NaN    150   \n",
       "66829   04/04/2016 15:47   1500        small              1986  manual      0   \n",
       "265122  07/03/2016 18:50    799        wagon              1997  manual    116   \n",
       "243578  04/04/2016 22:51  10990          NaN              2016    auto    109   \n",
       "28479   05/04/2016 12:46    199        sedan              1997  manual      0   \n",
       "238368  11/03/2016 23:54    350        small              1999  manual     75   \n",
       "351886  25/03/2016 17:41   1400          NaN              2016  manual      0   \n",
       "93427   13/03/2016 15:52    750        small              1998    auto     75   \n",
       "69877   10/03/2016 19:38   7300        wagon              2007  manual    140   \n",
       "270332  14/03/2016 20:52    500        sedan              1988  manual      0   \n",
       "268230  06/03/2016 12:37   3000        sedan              2004     NaN      0   \n",
       "287835  07/03/2016 14:51    800        wagon              2003  manual     70   \n",
       "152145  22/03/2016 12:38    500          suv              1997    auto    193   \n",
       "38468   03/04/2016 15:53   4500        wagon              1995  manual    230   \n",
       "229196  08/03/2016 17:54    750        sedan              1993  manual     90   \n",
       "30439   26/03/2016 09:50   6599          NaN              2016  manual     60   \n",
       "158411  21/03/2016 19:58    580          NaN              2017  manual     70   \n",
       "154787  02/04/2016 20:53   5990        small              2009  manual     69   \n",
       "43622   17/03/2016 19:58   6500          bus              2004     NaN    105   \n",
       "227598  20/03/2016 17:49    800          NaN              2016     NaN     90   \n",
       "59870   10/03/2016 08:36   1699        small              2002  manual     95   \n",
       "187785  04/04/2016 18:42   1400        small              2004  manual      0   \n",
       "110735  30/03/2016 18:54   5500          NaN              2017  manual    105   \n",
       "146636  31/03/2016 14:41   1700        sedan              1998  manual    118   \n",
       "262518  10/03/2016 19:57   4900        wagon              2004    auto    129   \n",
       "10065   23/03/2016 06:03   2500        sedan              1998  manual    170   \n",
       "233655  02/04/2016 16:54  16900          NaN              2018    auto    387   \n",
       "\n",
       "           Model  Mileage  RegistrationMonth  FuelType           Brand  \\\n",
       "25460      other   150000                  9    petrol          suzuki   \n",
       "267235       NaN     5000                  1    petrol           smart   \n",
       "292076      golf   150000                  3    petrol      volkswagen   \n",
       "327289       NaN   150000                 11    petrol  sonstige_autos   \n",
       "254597     agila   100000                 12    petrol            opel   \n",
       "297537       NaN   150000                  4    petrol             bmw   \n",
       "121527     corsa   150000                  9    petrol            opel   \n",
       "48988       golf   100000                  5    petrol      volkswagen   \n",
       "197381       1er   125000                 10    petrol             bmw   \n",
       "64325   cherokee   150000                  3    petrol            jeep   \n",
       "269214   impreza   150000                  4       NaN          subaru   \n",
       "71275    boxster   150000                 12    petrol         porsche   \n",
       "152345       NaN   150000                  8    petrol             bmw   \n",
       "196310       NaN   150000                  4    petrol      volkswagen   \n",
       "309785    touran   150000                  4       NaN      volkswagen   \n",
       "47917      other    70000                  2       NaN         renault   \n",
       "56538      ibiza   150000                  8    petrol            seat   \n",
       "301060     other   150000                  8       NaN         citroen   \n",
       "305009    kaefer    70000                  1       NaN      volkswagen   \n",
       "4012      fortwo    60000                  5    petrol           smart   \n",
       "313596       NaN   100000                 10    petrol          suzuki   \n",
       "217161        a3   150000                 12    petrol            audi   \n",
       "46467     mondeo   150000                  9  gasoline            ford   \n",
       "319421    zafira   150000                  3  gasoline            opel   \n",
       "66829        NaN   125000                 12    petrol  sonstige_autos   \n",
       "265122       NaN   150000                 11    petrol             bmw   \n",
       "243578  a_klasse    90000                 12       NaN   mercedes_benz   \n",
       "28479    3_reihe   150000                 10    petrol           mazda   \n",
       "238368       NaN   150000                 11    petrol         renault   \n",
       "351886     astra   150000                  9    petrol            opel   \n",
       "93427     fiesta   100000                  5    petrol            ford   \n",
       "69877         a4   150000                  7  gasoline            audi   \n",
       "270332     other   150000                  1    petrol            ford   \n",
       "268230       3er   150000                  5  gasoline             bmw   \n",
       "287835       rio   150000                  2       NaN             kia   \n",
       "152145     other   150000                  5    petrol       chevrolet   \n",
       "38468      other   150000                  1    petrol            audi   \n",
       "229196        80   150000                  6       NaN            audi   \n",
       "30439       polo    50000                  4       NaN      volkswagen   \n",
       "158411      clio   150000                  9    petrol         renault   \n",
       "154787       NaN   125000                 12    petrol            fiat   \n",
       "43622     touran   150000                  4  gasoline      volkswagen   \n",
       "227598      golf   150000                  6       NaN      volkswagen   \n",
       "59870        NaN   150000                  3  gasoline   mercedes_benz   \n",
       "187785     kalos   125000                 11    petrol          daewoo   \n",
       "110735      golf   150000                  8  gasoline      volkswagen   \n",
       "146636       3er   150000                  7    petrol             bmw   \n",
       "262518     verso   100000                  8    petrol          toyota   \n",
       "10065        5er   150000                 11       NaN             bmw   \n",
       "233655     other   150000                  9    petrol   mercedes_benz   \n",
       "\n",
       "       NotRepaired       DateCreated  NumberOfPictures  PostalCode  \\\n",
       "25460           no  11/03/2016 00:00                 0       39576   \n",
       "267235         NaN  04/04/2016 00:00                 0       93107   \n",
       "292076         NaN  08/03/2016 00:00                 0       27211   \n",
       "327289          no  16/03/2016 00:00                 0       46535   \n",
       "254597          no  01/04/2016 00:00                 0       92363   \n",
       "297537          no  31/03/2016 00:00                 0       21522   \n",
       "121527         NaN  24/03/2016 00:00                 0       27616   \n",
       "48988          NaN  20/03/2016 00:00                 0       61352   \n",
       "197381         NaN  09/03/2016 00:00                 0       54570   \n",
       "64325          NaN  11/03/2016 00:00                 0       22527   \n",
       "269214          no  04/04/2016 00:00                 0       48341   \n",
       "71275          NaN  01/04/2016 00:00                 0       47608   \n",
       "152345         NaN  29/03/2016 00:00                 0       27729   \n",
       "196310         yes  26/03/2016 00:00                 0       48346   \n",
       "309785          no  09/03/2016 00:00                 0       19059   \n",
       "47917           no  09/03/2016 00:00                 0       90556   \n",
       "56538          NaN  14/03/2016 00:00                 0       95515   \n",
       "301060         yes  01/04/2016 00:00                 0       73529   \n",
       "305009          no  03/04/2016 00:00                 0       88317   \n",
       "4012            no  30/03/2016 00:00                 0       20253   \n",
       "313596         yes  06/03/2016 00:00                 0       57462   \n",
       "217161         NaN  26/03/2016 00:00                 0       71254   \n",
       "46467          NaN  04/04/2016 00:00                 0       21109   \n",
       "319421          no  14/03/2016 00:00                 0       16767   \n",
       "66829           no  04/04/2016 00:00                 0       85445   \n",
       "265122          no  07/03/2016 00:00                 0       44147   \n",
       "243578          no  04/04/2016 00:00                 0       41470   \n",
       "28479          NaN  05/04/2016 00:00                 0       40549   \n",
       "238368          no  11/03/2016 00:00                 0       40229   \n",
       "351886          no  25/03/2016 00:00                 0       41460   \n",
       "93427          NaN  13/03/2016 00:00                 0       73312   \n",
       "69877          NaN  10/03/2016 00:00                 0       27578   \n",
       "270332         NaN  14/03/2016 00:00                 0       84381   \n",
       "268230         NaN  06/03/2016 00:00                 0       10707   \n",
       "287835          no  07/03/2016 00:00                 0       25746   \n",
       "152145         NaN  22/03/2016 00:00                 0       27777   \n",
       "38468          NaN  03/04/2016 00:00                 0       87634   \n",
       "229196          no  08/03/2016 00:00                 0        4936   \n",
       "30439           no  26/03/2016 00:00                 0       72116   \n",
       "158411          no  21/03/2016 00:00                 0       65933   \n",
       "154787          no  02/04/2016 00:00                 0       76829   \n",
       "43622          yes  17/03/2016 00:00                 0       24568   \n",
       "227598         NaN  20/03/2016 00:00                 0       25421   \n",
       "59870           no  10/03/2016 00:00                 0       48599   \n",
       "187785         NaN  04/04/2016 00:00                 0       41564   \n",
       "110735          no  30/03/2016 00:00                 0       94347   \n",
       "146636         NaN  31/03/2016 00:00                 0        4746   \n",
       "262518         NaN  10/03/2016 00:00                 0       24790   \n",
       "10065          NaN  23/03/2016 00:00                 0       45899   \n",
       "233655          no  02/04/2016 00:00                 0       51371   \n",
       "\n",
       "                LastSeen  \n",
       "25460   21/03/2016 15:44  \n",
       "267235  06/04/2016 21:45  \n",
       "292076  06/04/2016 20:19  \n",
       "327289  06/04/2016 09:17  \n",
       "254597  03/04/2016 13:48  \n",
       "297537  31/03/2016 09:49  \n",
       "121527  06/04/2016 23:45  \n",
       "48988   22/03/2016 13:10  \n",
       "197381  09/03/2016 13:54  \n",
       "64325   05/04/2016 12:55  \n",
       "269214  06/04/2016 19:17  \n",
       "71275   01/04/2016 13:39  \n",
       "152345  03/04/2016 17:18  \n",
       "196310  02/04/2016 06:16  \n",
       "309785  29/03/2016 10:44  \n",
       "47917   19/03/2016 19:18  \n",
       "56538   21/03/2016 08:46  \n",
       "301060  07/04/2016 11:17  \n",
       "305009  07/04/2016 14:57  \n",
       "4012    01/04/2016 06:16  \n",
       "313596  06/03/2016 15:48  \n",
       "217161  26/03/2016 14:38  \n",
       "46467   07/04/2016 00:45  \n",
       "319421  14/03/2016 20:38  \n",
       "66829   06/04/2016 17:18  \n",
       "265122  14/03/2016 08:17  \n",
       "243578  07/04/2016 01:46  \n",
       "28479   05/04/2016 12:46  \n",
       "238368  12/03/2016 22:15  \n",
       "351886  28/03/2016 17:16  \n",
       "93427   15/03/2016 18:15  \n",
       "69877   21/03/2016 09:45  \n",
       "270332  06/04/2016 09:45  \n",
       "268230  06/03/2016 12:37  \n",
       "287835  14/03/2016 08:46  \n",
       "152145  02/04/2016 02:44  \n",
       "38468   05/04/2016 15:16  \n",
       "229196  15/03/2016 03:46  \n",
       "30439   01/04/2016 23:18  \n",
       "158411  21/03/2016 20:31  \n",
       "154787  06/04/2016 21:44  \n",
       "43622   20/03/2016 23:16  \n",
       "227598  07/04/2016 00:46  \n",
       "59870   17/03/2016 06:17  \n",
       "187785  04/04/2016 18:42  \n",
       "110735  30/03/2016 18:54  \n",
       "146636  04/04/2016 06:22  \n",
       "262518  12/03/2016 12:16  \n",
       "10065   01/04/2016 08:16  \n",
       "233655  06/04/2016 16:16  "
      ]
     },
     "execution_count": 213,
     "metadata": {},
     "output_type": "execute_result"
    }
   ],
   "source": [
    "# observations with null values\n",
    "car_data[car_data.isnull().any(axis=1)].sample(50)"
   ]
  },
  {
   "cell_type": "markdown",
   "metadata": {},
   "source": [
    "### fill missing values for  ' FuelType'"
   ]
  },
  {
   "cell_type": "code",
   "execution_count": 214,
   "metadata": {},
   "outputs": [
    {
     "data": {
      "text/plain": [
       "gasoline    16629\n",
       "petrol       9008\n",
       "NaN           666\n",
       "lpg           484\n",
       "cng           233\n",
       "other           7\n",
       "hybrid          5\n",
       "electric        1\n",
       "Name: FuelType, dtype: int64"
      ]
     },
     "execution_count": 214,
     "metadata": {},
     "output_type": "execute_result"
    }
   ],
   "source": [
    "car_data[car_data['VehicleType'] == 'bus']['FuelType'].value_counts(dropna=False)"
   ]
  },
  {
   "cell_type": "markdown",
   "metadata": {},
   "source": [
    "For VehicleType=bus  \n",
    "most cases FuelType=gasoline\n"
   ]
  },
  {
   "cell_type": "code",
   "execution_count": 215,
   "metadata": {},
   "outputs": [],
   "source": [
    "# fill missing values for  VehicleType=bus -> FuelType=gasoline\n",
    "car_data.loc[car_data['VehicleType'] == 'bus','FuelType'] = car_data.loc[car_data['VehicleType'] == 'bus','FuelType'].fillna('gasoline')"
   ]
  },
  {
   "cell_type": "code",
   "execution_count": 216,
   "metadata": {},
   "outputs": [
    {
     "data": {
      "text/plain": [
       "gasoline    6243\n",
       "petrol      4207\n",
       "lpg          520\n",
       "NaN          277\n",
       "hybrid        10\n",
       "other          9\n",
       "cng            3\n",
       "Name: FuelType, dtype: int64"
      ]
     },
     "execution_count": 216,
     "metadata": {},
     "output_type": "execute_result"
    }
   ],
   "source": [
    "car_data[car_data['VehicleType'] == 'suv']['FuelType'].value_counts(dropna=False)"
   ]
  },
  {
   "cell_type": "markdown",
   "metadata": {},
   "source": [
    "For VehicleType=suv  \n",
    "most cases FuelType=gasoline\n"
   ]
  },
  {
   "cell_type": "code",
   "execution_count": 217,
   "metadata": {},
   "outputs": [],
   "source": [
    "# fill missing values for  VehicleType=suv -> FuelType=gasoline\n",
    "car_data.loc[car_data['VehicleType'] == 'suv','FuelType'] = car_data.loc[car_data['VehicleType'] == 'suv','FuelType'].fillna('gasoline')"
   ]
  },
  {
   "cell_type": "code",
   "execution_count": null,
   "metadata": {},
   "outputs": [],
   "source": []
  },
  {
   "cell_type": "code",
   "execution_count": 218,
   "metadata": {},
   "outputs": [
    {
     "data": {
      "text/plain": [
       "gasoline    31310\n",
       "petrol      24835\n",
       "NaN          1983\n",
       "lpg          1066\n",
       "cng           128\n",
       "other          20\n",
       "hybrid         20\n",
       "electric        5\n",
       "Name: FuelType, dtype: int64"
      ]
     },
     "execution_count": 218,
     "metadata": {},
     "output_type": "execute_result"
    }
   ],
   "source": [
    "car_data[car_data['VehicleType'] == 'wagon']['FuelType'].value_counts(dropna=False)"
   ]
  },
  {
   "cell_type": "markdown",
   "metadata": {},
   "source": [
    "For VehicleType=wagon  \n",
    "most cases FuelType=gasoline\n"
   ]
  },
  {
   "cell_type": "code",
   "execution_count": 219,
   "metadata": {},
   "outputs": [],
   "source": [
    "# fill missing values for  VehicleType=wagon -> FuelType=gasoline\n",
    "car_data.loc[car_data['VehicleType'] == 'wagon','FuelType'] = car_data.loc[car_data['VehicleType'] == 'wagon','FuelType'].fillna('gasoline')"
   ]
  },
  {
   "cell_type": "code",
   "execution_count": null,
   "metadata": {},
   "outputs": [],
   "source": []
  },
  {
   "cell_type": "code",
   "execution_count": 220,
   "metadata": {},
   "outputs": [
    {
     "data": {
      "text/plain": [
       "petrol      11606\n",
       "gasoline     1966\n",
       "NaN           511\n",
       "lpg           284\n",
       "hybrid         16\n",
       "electric        5\n",
       "cng             2\n",
       "other           1\n",
       "Name: FuelType, dtype: int64"
      ]
     },
     "execution_count": 220,
     "metadata": {},
     "output_type": "execute_result"
    }
   ],
   "source": [
    "car_data[car_data['VehicleType'] == 'coupe']['FuelType'].value_counts(dropna=False)"
   ]
  },
  {
   "cell_type": "markdown",
   "metadata": {},
   "source": [
    "For VehicleType=coupe  \n",
    "most cases FuelType=petrol\n"
   ]
  },
  {
   "cell_type": "code",
   "execution_count": 221,
   "metadata": {},
   "outputs": [],
   "source": [
    "# fill missing values for  VehicleType=coupe -> FuelType=petrol\n",
    "car_data.loc[car_data['VehicleType'] == 'coupe','FuelType'] = car_data.loc[car_data['VehicleType'] == 'coupe','FuelType'].fillna('petrol')"
   ]
  },
  {
   "cell_type": "code",
   "execution_count": null,
   "metadata": {},
   "outputs": [],
   "source": []
  },
  {
   "cell_type": "code",
   "execution_count": 222,
   "metadata": {},
   "outputs": [
    {
     "data": {
      "text/plain": [
       "petrol      61778\n",
       "gasoline     6323\n",
       "NaN          2959\n",
       "lpg           460\n",
       "cng            75\n",
       "electric       45\n",
       "hybrid         33\n",
       "other          21\n",
       "Name: FuelType, dtype: int64"
      ]
     },
     "execution_count": 222,
     "metadata": {},
     "output_type": "execute_result"
    }
   ],
   "source": [
    "car_data[car_data['VehicleType'] == 'small']['FuelType'].value_counts(dropna=False)"
   ]
  },
  {
   "cell_type": "markdown",
   "metadata": {},
   "source": [
    "For VehicleType=small  \n",
    "most cases FuelType=petrol\n"
   ]
  },
  {
   "cell_type": "code",
   "execution_count": 223,
   "metadata": {},
   "outputs": [],
   "source": [
    "# fill missing values for  VehicleType=small -> FuelType=petrol\n",
    "car_data.loc[car_data['VehicleType'] == 'small','FuelType'] = car_data.loc[car_data['VehicleType'] == 'small','FuelType'].fillna('petrol')"
   ]
  },
  {
   "cell_type": "code",
   "execution_count": null,
   "metadata": {},
   "outputs": [],
   "source": []
  },
  {
   "cell_type": "code",
   "execution_count": 224,
   "metadata": {},
   "outputs": [
    {
     "data": {
      "text/plain": [
       "petrol      55868\n",
       "gasoline    24072\n",
       "NaN          2563\n",
       "lpg          1529\n",
       "hybrid        126\n",
       "cng            36\n",
       "other          35\n",
       "electric        6\n",
       "Name: FuelType, dtype: int64"
      ]
     },
     "execution_count": 224,
     "metadata": {},
     "output_type": "execute_result"
    }
   ],
   "source": [
    "car_data[car_data['VehicleType'] == 'sedan']['FuelType'].value_counts(dropna=False)"
   ]
  },
  {
   "cell_type": "markdown",
   "metadata": {},
   "source": [
    "For VehicleType=sedan  \n",
    "most cases FuelType=petrol\n"
   ]
  },
  {
   "cell_type": "code",
   "execution_count": 225,
   "metadata": {},
   "outputs": [],
   "source": [
    "# fill missing values for  VehicleType=sedan -> FuelType=petrol\n",
    "car_data.loc[car_data['VehicleType'] == 'sedan','FuelType'] = car_data.loc[car_data['VehicleType'] == 'sedan','FuelType'].fillna('petrol')"
   ]
  },
  {
   "cell_type": "code",
   "execution_count": null,
   "metadata": {},
   "outputs": [],
   "source": []
  },
  {
   "cell_type": "code",
   "execution_count": 226,
   "metadata": {},
   "outputs": [
    {
     "data": {
      "text/plain": [
       "petrol      16529\n",
       "gasoline     1461\n",
       "NaN           512\n",
       "lpg           217\n",
       "electric        6\n",
       "other           5\n",
       "cng             3\n",
       "Name: FuelType, dtype: int64"
      ]
     },
     "execution_count": 226,
     "metadata": {},
     "output_type": "execute_result"
    }
   ],
   "source": [
    "car_data[car_data['VehicleType'] == 'convertible']['FuelType'].value_counts(dropna=False)"
   ]
  },
  {
   "cell_type": "markdown",
   "metadata": {},
   "source": [
    "For VehicleType=convertible  \n",
    "most cases FuelType=petrol"
   ]
  },
  {
   "cell_type": "code",
   "execution_count": 227,
   "metadata": {},
   "outputs": [],
   "source": [
    "# fill missing values for  VehicleType=convertible -> FuelType=petrol\n",
    "car_data.loc[car_data['VehicleType'] == 'convertible','FuelType'] = car_data.loc[car_data['VehicleType'] == 'convertible','FuelType'].fillna('petrol')"
   ]
  },
  {
   "cell_type": "code",
   "execution_count": null,
   "metadata": {},
   "outputs": [],
   "source": []
  },
  {
   "cell_type": "code",
   "execution_count": 228,
   "metadata": {},
   "outputs": [
    {
     "data": {
      "text/plain": [
       "gasoline    1232\n",
       "petrol      1119\n",
       "NaN          190\n",
       "other         25\n",
       "lpg           23\n",
       "cng           12\n",
       "electric      10\n",
       "hybrid         2\n",
       "Name: FuelType, dtype: int64"
      ]
     },
     "execution_count": 228,
     "metadata": {},
     "output_type": "execute_result"
    }
   ],
   "source": [
    "car_data[car_data['VehicleType'] == 'other']['FuelType'].value_counts(dropna=False)"
   ]
  },
  {
   "cell_type": "markdown",
   "metadata": {},
   "source": [
    "For VehicleType=convertible  \n",
    "most cases FuelType=gasoline"
   ]
  },
  {
   "cell_type": "code",
   "execution_count": 229,
   "metadata": {},
   "outputs": [],
   "source": [
    "# fill missing values for  VehicleType=convertible -> FuelType=gasoline\n",
    "car_data.loc[car_data['VehicleType'] == 'other','FuelType'] = car_data.loc[car_data['VehicleType'] == 'other','FuelType'].fillna('gasoline')"
   ]
  },
  {
   "cell_type": "code",
   "execution_count": 230,
   "metadata": {},
   "outputs": [
    {
     "data": {
      "text/plain": [
       "NaN    8419\n",
       "Name: VehicleType, dtype: int64"
      ]
     },
     "execution_count": 230,
     "metadata": {},
     "output_type": "execute_result"
    }
   ],
   "source": [
    "car_data[car_data['FuelType'].isnull()]['VehicleType'].value_counts(dropna=False)"
   ]
  },
  {
   "cell_type": "code",
   "execution_count": null,
   "metadata": {},
   "outputs": [],
   "source": []
  },
  {
   "cell_type": "code",
   "execution_count": 231,
   "metadata": {},
   "outputs": [
    {
     "data": {
      "text/html": [
       "<div>\n",
       "<style scoped>\n",
       "    .dataframe tbody tr th:only-of-type {\n",
       "        vertical-align: middle;\n",
       "    }\n",
       "\n",
       "    .dataframe tbody tr th {\n",
       "        vertical-align: top;\n",
       "    }\n",
       "\n",
       "    .dataframe thead th {\n",
       "        text-align: right;\n",
       "    }\n",
       "</style>\n",
       "<table border=\"1\" class=\"dataframe\">\n",
       "  <thead>\n",
       "    <tr style=\"text-align: right;\">\n",
       "      <th>Gearbox</th>\n",
       "      <th>auto</th>\n",
       "      <th>manual</th>\n",
       "    </tr>\n",
       "    <tr>\n",
       "      <th>VehicleType</th>\n",
       "      <th></th>\n",
       "      <th></th>\n",
       "    </tr>\n",
       "  </thead>\n",
       "  <tbody>\n",
       "    <tr>\n",
       "      <td>bus</td>\n",
       "      <td>4013</td>\n",
       "      <td>22430</td>\n",
       "    </tr>\n",
       "    <tr>\n",
       "      <td>convertible</td>\n",
       "      <td>4018</td>\n",
       "      <td>14218</td>\n",
       "    </tr>\n",
       "    <tr>\n",
       "      <td>coupe</td>\n",
       "      <td>4120</td>\n",
       "      <td>9953</td>\n",
       "    </tr>\n",
       "    <tr>\n",
       "      <td>other</td>\n",
       "      <td>280</td>\n",
       "      <td>2217</td>\n",
       "    </tr>\n",
       "    <tr>\n",
       "      <td>sedan</td>\n",
       "      <td>20331</td>\n",
       "      <td>62011</td>\n",
       "    </tr>\n",
       "    <tr>\n",
       "      <td>small</td>\n",
       "      <td>5566</td>\n",
       "      <td>63837</td>\n",
       "    </tr>\n",
       "    <tr>\n",
       "      <td>suv</td>\n",
       "      <td>4832</td>\n",
       "      <td>6185</td>\n",
       "    </tr>\n",
       "    <tr>\n",
       "      <td>wagon</td>\n",
       "      <td>15097</td>\n",
       "      <td>43081</td>\n",
       "    </tr>\n",
       "  </tbody>\n",
       "</table>\n",
       "</div>"
      ],
      "text/plain": [
       "Gearbox       auto  manual\n",
       "VehicleType               \n",
       "bus           4013   22430\n",
       "convertible   4018   14218\n",
       "coupe         4120    9953\n",
       "other          280    2217\n",
       "sedan        20331   62011\n",
       "small         5566   63837\n",
       "suv           4832    6185\n",
       "wagon        15097   43081"
      ]
     },
     "execution_count": 231,
     "metadata": {},
     "output_type": "execute_result"
    }
   ],
   "source": [
    "car_data.pivot_table(\n",
    "    index='VehicleType',\n",
    "    columns='Gearbox',\n",
    "    values='PostalCode',\n",
    "    aggfunc='count',\n",
    "    dropna=False\n",
    ")\n"
   ]
  },
  {
   "cell_type": "code",
   "execution_count": 232,
   "metadata": {},
   "outputs": [
    {
     "data": {
      "text/html": [
       "<div>\n",
       "<style scoped>\n",
       "    .dataframe tbody tr th:only-of-type {\n",
       "        vertical-align: middle;\n",
       "    }\n",
       "\n",
       "    .dataframe tbody tr th {\n",
       "        vertical-align: top;\n",
       "    }\n",
       "\n",
       "    .dataframe thead th {\n",
       "        text-align: right;\n",
       "    }\n",
       "</style>\n",
       "<table border=\"1\" class=\"dataframe\">\n",
       "  <thead>\n",
       "    <tr style=\"text-align: right;\">\n",
       "      <th>Gearbox</th>\n",
       "      <th>auto</th>\n",
       "      <th>manual</th>\n",
       "    </tr>\n",
       "    <tr>\n",
       "      <th>VehicleType</th>\n",
       "      <th></th>\n",
       "      <th></th>\n",
       "    </tr>\n",
       "  </thead>\n",
       "  <tbody>\n",
       "    <tr>\n",
       "      <td>bus</td>\n",
       "      <td>4013</td>\n",
       "      <td>22430</td>\n",
       "    </tr>\n",
       "    <tr>\n",
       "      <td>convertible</td>\n",
       "      <td>4018</td>\n",
       "      <td>14218</td>\n",
       "    </tr>\n",
       "    <tr>\n",
       "      <td>coupe</td>\n",
       "      <td>4120</td>\n",
       "      <td>9953</td>\n",
       "    </tr>\n",
       "    <tr>\n",
       "      <td>other</td>\n",
       "      <td>280</td>\n",
       "      <td>2217</td>\n",
       "    </tr>\n",
       "    <tr>\n",
       "      <td>sedan</td>\n",
       "      <td>20331</td>\n",
       "      <td>62011</td>\n",
       "    </tr>\n",
       "    <tr>\n",
       "      <td>small</td>\n",
       "      <td>5566</td>\n",
       "      <td>63837</td>\n",
       "    </tr>\n",
       "    <tr>\n",
       "      <td>suv</td>\n",
       "      <td>4832</td>\n",
       "      <td>6185</td>\n",
       "    </tr>\n",
       "    <tr>\n",
       "      <td>wagon</td>\n",
       "      <td>15097</td>\n",
       "      <td>43081</td>\n",
       "    </tr>\n",
       "  </tbody>\n",
       "</table>\n",
       "</div>"
      ],
      "text/plain": [
       "Gearbox       auto  manual\n",
       "VehicleType               \n",
       "bus           4013   22430\n",
       "convertible   4018   14218\n",
       "coupe         4120    9953\n",
       "other          280    2217\n",
       "sedan        20331   62011\n",
       "small         5566   63837\n",
       "suv           4832    6185\n",
       "wagon        15097   43081"
      ]
     },
     "execution_count": 232,
     "metadata": {},
     "output_type": "execute_result"
    }
   ],
   "source": [
    "#Check Gearbox distribution\n",
    "car_data.pivot_table(\n",
    "    index='VehicleType',\n",
    "    columns='Gearbox',\n",
    "    values='PostalCode',\n",
    "    aggfunc='count',\n",
    "    \n",
    ")"
   ]
  },
  {
   "cell_type": "markdown",
   "metadata": {},
   "source": [
    "Most of the cars are Gearbox=manual\n",
    "We can replace Nan values to manual "
   ]
  },
  {
   "cell_type": "code",
   "execution_count": 233,
   "metadata": {},
   "outputs": [],
   "source": [
    "car_data['Gearbox'] = car_data['Gearbox'].fillna('manual')"
   ]
  },
  {
   "cell_type": "code",
   "execution_count": 234,
   "metadata": {},
   "outputs": [
    {
     "name": "stdout",
     "output_type": "stream",
     "text": [
      "<class 'pandas.core.frame.DataFrame'>\n",
      "Int64Index: 310522 entries, 1 to 354368\n",
      "Data columns (total 16 columns):\n",
      "DateCrawled          310522 non-null object\n",
      "Price                310522 non-null int64\n",
      "VehicleType          289335 non-null object\n",
      "RegistrationYear     310522 non-null int64\n",
      "Gearbox              310522 non-null object\n",
      "Power                310522 non-null int64\n",
      "Model                298275 non-null object\n",
      "Mileage              310522 non-null int64\n",
      "RegistrationMonth    310522 non-null int64\n",
      "FuelType             302103 non-null object\n",
      "Brand                310522 non-null object\n",
      "NotRepaired          263854 non-null object\n",
      "DateCreated          310522 non-null object\n",
      "NumberOfPictures     310522 non-null int64\n",
      "PostalCode           310522 non-null int64\n",
      "LastSeen             310522 non-null object\n",
      "dtypes: int64(7), object(9)\n",
      "memory usage: 40.3+ MB\n"
     ]
    }
   ],
   "source": [
    "car_data.info()"
   ]
  },
  {
   "cell_type": "code",
   "execution_count": 235,
   "metadata": {
    "scrolled": true
   },
   "outputs": [
    {
     "data": {
      "text/plain": [
       "DateCrawled              0\n",
       "Price                    0\n",
       "VehicleType          21187\n",
       "RegistrationYear         0\n",
       "Gearbox                  0\n",
       "Power                    0\n",
       "Model                12247\n",
       "Mileage                  0\n",
       "RegistrationMonth        0\n",
       "FuelType              8419\n",
       "Brand                    0\n",
       "NotRepaired          46668\n",
       "DateCreated              0\n",
       "NumberOfPictures         0\n",
       "PostalCode               0\n",
       "LastSeen                 0\n",
       "dtype: int64"
      ]
     },
     "execution_count": 235,
     "metadata": {},
     "output_type": "execute_result"
    }
   ],
   "source": [
    "car_data.isnull().sum()"
   ]
  },
  {
   "cell_type": "code",
   "execution_count": 236,
   "metadata": {},
   "outputs": [
    {
     "data": {
      "text/plain": [
       "False    245043\n",
       "True      65479\n",
       "dtype: int64"
      ]
     },
     "execution_count": 236,
     "metadata": {},
     "output_type": "execute_result"
    }
   ],
   "source": [
    "#Number of observations with/without null \n",
    "car_data.isna().any(axis=1).value_counts()"
   ]
  },
  {
   "cell_type": "code",
   "execution_count": 237,
   "metadata": {},
   "outputs": [],
   "source": [
    "# Drop null's \n",
    "car_data.dropna(inplace=True)"
   ]
  },
  {
   "cell_type": "markdown",
   "metadata": {},
   "source": [
    "We have 21% of observations with null's value. that is a lot of data to remove.\n",
    "After removing null data we will still have 245043 observations"
   ]
  },
  {
   "cell_type": "markdown",
   "metadata": {},
   "source": [
    "### Data type replacement"
   ]
  },
  {
   "cell_type": "code",
   "execution_count": 238,
   "metadata": {},
   "outputs": [],
   "source": [
    "car_data['LastSeen'] = pd.to_datetime(car_data['LastSeen'])\n",
    "car_data['DateCreated'] = pd.to_datetime(car_data['DateCreated'])\n",
    "car_data['NotRepaired'] = car_data['NotRepaired'].map(dict(yes=1, no=0))\n",
    "car_data['RegistrationMonth'] = np.int8(car_data['RegistrationMonth'])\n",
    "car_data['RegistrationYear'] = pd.to_datetime(car_data['RegistrationYear'])\n",
    "car_data['DateCrawled'] = pd.to_datetime(car_data['DateCrawled'])"
   ]
  },
  {
   "cell_type": "code",
   "execution_count": 239,
   "metadata": {},
   "outputs": [
    {
     "name": "stdout",
     "output_type": "stream",
     "text": [
      "<class 'pandas.core.frame.DataFrame'>\n",
      "Int64Index: 245043 entries, 3 to 354367\n",
      "Data columns (total 16 columns):\n",
      "DateCrawled          245043 non-null datetime64[ns]\n",
      "Price                245043 non-null int64\n",
      "VehicleType          245043 non-null object\n",
      "RegistrationYear     245043 non-null datetime64[ns]\n",
      "Gearbox              245043 non-null object\n",
      "Power                245043 non-null int64\n",
      "Model                245043 non-null object\n",
      "Mileage              245043 non-null int64\n",
      "RegistrationMonth    245043 non-null int8\n",
      "FuelType             245043 non-null object\n",
      "Brand                245043 non-null object\n",
      "NotRepaired          245043 non-null int64\n",
      "DateCreated          245043 non-null datetime64[ns]\n",
      "NumberOfPictures     245043 non-null int64\n",
      "PostalCode           245043 non-null int64\n",
      "LastSeen             245043 non-null datetime64[ns]\n",
      "dtypes: datetime64[ns](4), int64(6), int8(1), object(5)\n",
      "memory usage: 30.1+ MB\n"
     ]
    }
   ],
   "source": [
    "car_data.info()"
   ]
  },
  {
   "cell_type": "markdown",
   "metadata": {},
   "source": [
    "### Duplicated data"
   ]
  },
  {
   "cell_type": "code",
   "execution_count": 240,
   "metadata": {},
   "outputs": [
    {
     "data": {
      "text/plain": [
       "255"
      ]
     },
     "execution_count": 240,
     "metadata": {},
     "output_type": "execute_result"
    }
   ],
   "source": [
    "# Check for duplicated data\n",
    "car_data.duplicated().sum()"
   ]
  },
  {
   "cell_type": "code",
   "execution_count": 241,
   "metadata": {},
   "outputs": [],
   "source": [
    "# Drop duplicates\n",
    "car_data.drop_duplicates(inplace=True)"
   ]
  },
  {
   "cell_type": "markdown",
   "metadata": {},
   "source": [
    "### Conclusions\n",
    "- We have 21% of observations with null's value. that is a lot of data to remove. After removing null data we will still have     245043 observations. \n",
    "- Data type replacement have been made for features. \n",
    "- duplicated data was dropped. "
   ]
  },
  {
   "cell_type": "markdown",
   "metadata": {},
   "source": [
    "## Model training"
   ]
  },
  {
   "cell_type": "code",
   "execution_count": 242,
   "metadata": {},
   "outputs": [],
   "source": [
    "# Remove unnecessary features\n",
    "car_data.drop(['DateCrawled','RegistrationYear','DateCreated','LastSeen','PostalCode'], axis=1,inplace=True) "
   ]
  },
  {
   "cell_type": "code",
   "execution_count": 243,
   "metadata": {},
   "outputs": [],
   "source": [
    "car_data_ohe = pd.get_dummies(car_data, drop_first=True)"
   ]
  },
  {
   "cell_type": "code",
   "execution_count": 244,
   "metadata": {},
   "outputs": [
    {
     "name": "stdout",
     "output_type": "stream",
     "text": [
      "<class 'pandas.core.frame.DataFrame'>\n",
      "Int64Index: 244788 entries, 3 to 354367\n",
      "Columns: 306 entries, Price to Brand_volvo\n",
      "dtypes: int64(5), int8(1), uint8(300)\n",
      "memory usage: 81.5 MB\n"
     ]
    }
   ],
   "source": [
    "car_data_ohe.info()"
   ]
  },
  {
   "cell_type": "code",
   "execution_count": 245,
   "metadata": {},
   "outputs": [],
   "source": [
    "#categorical feature list\n",
    "categorical_feature  = ['VehicleType','Gearbox','Model','FuelType','Brand']\n",
    "\n",
    "#categorical feature index\n",
    "categorical_index= [car_data.columns.get_loc(col) for col in categorical_feature]"
   ]
  },
  {
   "cell_type": "code",
   "execution_count": 246,
   "metadata": {},
   "outputs": [
    {
     "name": "stdout",
     "output_type": "stream",
     "text": [
      "<class 'pandas.core.frame.DataFrame'>\n",
      "RangeIndex: 244788 entries, 0 to 244787\n",
      "Data columns (total 12 columns):\n",
      "index                244788 non-null int64\n",
      "Price                244788 non-null int64\n",
      "VehicleType          244788 non-null float64\n",
      "Gearbox              244788 non-null float64\n",
      "Power                244788 non-null int64\n",
      "Model                244788 non-null float64\n",
      "Mileage              244788 non-null int64\n",
      "RegistrationMonth    244788 non-null int8\n",
      "FuelType             244788 non-null float64\n",
      "Brand                244788 non-null float64\n",
      "NotRepaired          244788 non-null int64\n",
      "NumberOfPictures     244788 non-null int64\n",
      "dtypes: float64(5), int64(6), int8(1)\n",
      "memory usage: 20.8 MB\n"
     ]
    }
   ],
   "source": [
    "car_data_ordinal = car_data.copy()\n",
    "car_data_ordinal = car_data_ordinal.reset_index()\n",
    "# encoing categorical features\n",
    "encoder = OrdinalEncoder()\n",
    "\n",
    "car_data_ordinal[categorical_feature] = pd.DataFrame(encoder.fit_transform(car_data[categorical_feature]), columns=categorical_feature)\n",
    "\n",
    "car_data_ordinal.info()"
   ]
  },
  {
   "cell_type": "code",
   "execution_count": 247,
   "metadata": {},
   "outputs": [],
   "source": [
    "target = car_data['Price']\n",
    "features = car_data.drop(['Price'], axis=1)\n",
    "\n",
    "target_ohe = car_data_ohe['Price']\n",
    "features_ohe = car_data_ohe.drop(['Price'], axis=1)\n",
    "\n",
    "target_ordinal = car_data_ordinal['Price']\n",
    "features_ordinal = car_data_ordinal.drop(['Price'], axis=1)\n"
   ]
  },
  {
   "cell_type": "code",
   "execution_count": 248,
   "metadata": {},
   "outputs": [],
   "source": [
    "# Split data into train and validation\n",
    "#features_train, features_valid, target_train, target_valid = train_test_split(\n",
    "#    features, target, test_size=0.2, random_state=RANDOM_STATE)\n",
    "\n",
    "# Split data into train and test.\n",
    "#features_train, features_test, target_train, target_test = train_test_split(\n",
    "#    features_train, target_train, test_size=0.25, random_state=RANDOM_STATE)\n",
    "\n",
    "\n",
    "# Split data into train and validation\n",
    "features_train_ordinal, features_valid_ordinal, target_train_ordinal, target_valid_ordinal = train_test_split(\n",
    "    features_ordinal, target_ordinal, test_size=0.2, random_state=RANDOM_STATE)\n",
    "\n",
    "# Split data into train and test.\n",
    "#features_train_ordinal, features_test_ordinal, target_train_ordinal, target_test_ordinal = train_test_split(\n",
    "#    features_train_ordinal, target_train_ordinal, test_size=0.25, random_state=RANDOM_STATE)\n",
    "\n"
   ]
  },
  {
   "cell_type": "code",
   "execution_count": 249,
   "metadata": {},
   "outputs": [],
   "source": [
    "# Feature Scaling\n",
    "scaler = StandardScaler()\n",
    "scaler.fit(features_train_ordinal)\n",
    "features_train_ordinal = scaler.transform(features_train_ordinal)\n",
    "features_valid_ordinal = scaler.transform(features_valid_ordinal)"
   ]
  },
  {
   "cell_type": "code",
   "execution_count": null,
   "metadata": {},
   "outputs": [],
   "source": []
  },
  {
   "cell_type": "code",
   "execution_count": 250,
   "metadata": {},
   "outputs": [],
   "source": [
    "def train_fit_score(model,features,target, params, name):\n",
    "    model = GridSearchCV(model, param_grid=params, cv=5, verbose=0, refit=True)\n",
    "       \n",
    "    start = time.time()\n",
    "    model.fit(features, target)\n",
    "    stop = time.time()\n",
    "    model_fit_time = stop-start\n",
    "    \n",
    "    # Predict the model   \n",
    "    start = time.time()\n",
    "    predict = model.predict(features)\n",
    "    stop = time.time()\n",
    "    model_predict_time = stop-start\n",
    "    \n",
    "    # RMSE Computation\n",
    "    rmse = math.sqrt(mean_squared_error(target, predict))\n",
    "    return (rmse,model_fit_time,model_predict_time)"
   ]
  },
  {
   "cell_type": "markdown",
   "metadata": {},
   "source": [
    "### RandomForest"
   ]
  },
  {
   "cell_type": "code",
   "execution_count": 251,
   "metadata": {},
   "outputs": [
    {
     "name": "stdout",
     "output_type": "stream",
     "text": [
      "RMSE: 2983.93\n",
      "fit time=29.389227390289307  \n",
      "predict time=0.07725834846496582\n"
     ]
    }
   ],
   "source": [
    "\n",
    "params = {'n_estimators' : range(10, 25, 25),\n",
    "          'max_depth' : range(5, 10, 10),\n",
    "          'min_impurity_decrease' : np.arange(.05, .1, .1),\n",
    "          'min_samples_split' : [3,5,7]\n",
    "         }\n",
    "\n",
    "rf_result = train_fit_score(RandomForestRegressor(random_state=RANDOM_STATE),\n",
    "                               features_train_ordinal,\n",
    "                               target_train_ordinal,\n",
    "                               params, \n",
    "                               'Random Forest')\n",
    "\n",
    "\n",
    "print(f'RMSE: {rf_result[0]:.2f}')\n",
    "print(f'fit time={rf_result[1]}  \\npredict time={rf_result[2]}')"
   ]
  },
  {
   "cell_type": "code",
   "execution_count": null,
   "metadata": {},
   "outputs": [],
   "source": []
  },
  {
   "cell_type": "markdown",
   "metadata": {},
   "source": [
    "###  CatBoostRegressor"
   ]
  },
  {
   "cell_type": "code",
   "execution_count": 252,
   "metadata": {},
   "outputs": [
    {
     "name": "stdout",
     "output_type": "stream",
     "text": [
      "0:\tlearn: 4562.8800114\ttotal: 267ms\tremaining: 2.4s\n",
      "9:\tlearn: 3666.0677058\ttotal: 2.57s\tremaining: 0us\n",
      "0:\tlearn: 4562.1444992\ttotal: 147ms\tremaining: 1.32s\n",
      "9:\tlearn: 3664.2289416\ttotal: 2.62s\tremaining: 0us\n",
      "0:\tlearn: 4562.2887011\ttotal: 215ms\tremaining: 1.93s\n",
      "9:\tlearn: 3666.9450088\ttotal: 2.61s\tremaining: 0us\n",
      "0:\tlearn: 4563.8743418\ttotal: 294ms\tremaining: 2.64s\n",
      "9:\tlearn: 3662.8466000\ttotal: 2.57s\tremaining: 0us\n",
      "0:\tlearn: 4573.4998302\ttotal: 198ms\tremaining: 1.78s\n",
      "9:\tlearn: 3677.0055692\ttotal: 2.67s\tremaining: 0us\n",
      "0:\tlearn: 4565.8233177\ttotal: 234ms\tremaining: 2.1s\n",
      "9:\tlearn: 3666.3922177\ttotal: 3.02s\tremaining: 0us\n",
      "RMSE: 3666.88\n",
      "fit time=44.69465112686157  \n",
      "predict time=0.4393754005432129\n"
     ]
    }
   ],
   "source": [
    "#%%time\n",
    "params = {'depth': range(10, 25, 25),\n",
    "              'learning_rate' : np.arange(.05, .1, .1),\n",
    "              'iterations'    : range(10, 25, 25)\n",
    "                 }\n",
    "model_CBR = CatBoostRegressor() \n",
    "grid = GridSearchCV(model_CBR, param_grid = params, cv=5, n_jobs=-1)\n",
    "start = time.time()\n",
    "grid.fit(features, target, cat_features=categorical_feature , verbose=10)\n",
    "stop = time.time()\n",
    "CBR_fit_time = stop-start\n",
    "# Predict the model\n",
    "start = time.time()\n",
    "predict = grid.predict(features)\n",
    "stop = time.time()\n",
    "CBR_predict_time = stop-start  \n",
    "# RMSE Computation\n",
    "catBoost_rmse = math.sqrt(mean_squared_error(target, predict))\n",
    "print(f'RMSE: {catBoost_rmse:.2f}')\n",
    "print(f'fit time={CBR_fit_time}  \\npredict time={CBR_predict_time}')"
   ]
  },
  {
   "cell_type": "code",
   "execution_count": null,
   "metadata": {},
   "outputs": [],
   "source": []
  },
  {
   "cell_type": "markdown",
   "metadata": {},
   "source": [
    "### LightGBM "
   ]
  },
  {
   "cell_type": "code",
   "execution_count": 254,
   "metadata": {},
   "outputs": [
    {
     "name": "stdout",
     "output_type": "stream",
     "text": [
      "RMSE: 3390.70\n",
      "fit time=21.59748387336731\n",
      "predict time=0.2270030975341797\n"
     ]
    }
   ],
   "source": [
    "#Change categorical features to data type 'category'\n",
    "for feature in categorical_feature:\n",
    "    features[feature] = pd.Series(features[feature], dtype=\"category\")\n",
    "    features[feature] = pd.Series(features[feature], dtype=\"category\")\n",
    "\n",
    "model_lgb = lgb.LGBMRegressor()\n",
    "params = {\n",
    "    'n_estimators': range(10, 25, 25),\n",
    "    'colsample_bytree': np.arange(0.1, 0.9,0.5),\n",
    "    'max_depth': range(10, 25, 25),\n",
    "    'num_leaves': range(50, 200, 150),\n",
    "    'reg_alpha': np.arange(1.1, 1.5, 0.4),\n",
    "    'reg_lambda': np.arange(1.1, 1.3, 0.2),\n",
    "    'min_split_gain': np.arange(0.3, 0.4,0.1),\n",
    "    'subsample': np.arange(0.7, 0.9, 0.2),\n",
    "    'subsample_freq': [20]\n",
    "}\n",
    "grid = GridSearchCV(model_lgb, param_grid = params, cv=5)\n",
    "\n",
    "start = time.time()\n",
    "grid.fit(features, target, categorical_feature=categorical_index)\n",
    "stop = time.time()\n",
    "lgb_fit_time = stop-start\n",
    "\n",
    "# Predict the model\n",
    "start = time.time()\n",
    "predict = grid.predict(features)\n",
    "stop = time.time()\n",
    "lgb_predict_time = stop-start  \n",
    "# RMSE Computation\n",
    "lightGBM_rmse = math.sqrt(mean_squared_error(target, predict))\n",
    "print(f'RMSE: {lightGBM_rmse:.2f}')\n",
    "print(f'fit time={lgb_fit_time}\\npredict time={lgb_predict_time}')"
   ]
  },
  {
   "cell_type": "markdown",
   "metadata": {},
   "source": [
    "### XGBoost "
   ]
  },
  {
   "cell_type": "code",
   "execution_count": 258,
   "metadata": {
    "scrolled": true
   },
   "outputs": [
    {
     "name": "stdout",
     "output_type": "stream",
     "text": [
      "RMSE: 3542.49\n",
      "fit time=62.85644268989563\n",
      "predict time=0.21706509590148926\n"
     ]
    }
   ],
   "source": [
    "model_xgb = xgb.XGBRegressor(objective ='reg:squarederror',n_estimators = 10, seed = 123)\n",
    "\n",
    "params = {\n",
    "    'n_estimators': range(10, 25, 25),\n",
    "    'colsample_bytree': np.arange(0.1, 0.9,0.5),\n",
    "    'max_depth': range(10, 25, 25),\n",
    "    'num_leaves': range(50, 200, 150),\n",
    "    'reg_alpha': np.arange(1.1, 1.5, 0.4),\n",
    "    'reg_lambda': np.arange(1.1, 1.3, 0.2),\n",
    "    'min_split_gain': np.arange(0.3, 0.4,0.1),\n",
    "    'subsample': np.arange(0.7, 0.9, 0.2),\n",
    "    'subsample_freq': [20]\n",
    "}\n",
    "grid = GridSearchCV(model_xgb, param_grid = params, cv=5)\n",
    "\n",
    "start = time.time()\n",
    "grid.fit(features_train_ordinal, target_train_ordinal)\n",
    "stop = time.time()\n",
    "xgb_fit_time = stop-start  \n",
    "\n",
    "# Predict the model\n",
    "start = time.time()\n",
    "predict = grid.predict(features_train_ordinal)\n",
    "stop = time.time()\n",
    "xgb_predict_time = stop-start  \n",
    "  \n",
    "# RMSE Computation\n",
    "\n",
    "XGBoost_rmse = math.sqrt(mean_squared_error(target_train_ordinal, predict))\n",
    "print(f'RMSE: {XGBoost_rmse:.2f}')\n",
    "print(f'fit time={xgb_fit_time}\\npredict time={xgb_predict_time}')"
   ]
  },
  {
   "cell_type": "markdown",
   "metadata": {},
   "source": []
  },
  {
   "cell_type": "code",
   "execution_count": null,
   "metadata": {},
   "outputs": [],
   "source": []
  },
  {
   "cell_type": "markdown",
   "metadata": {},
   "source": [
    "####  Sanity check"
   ]
  },
  {
   "cell_type": "code",
   "execution_count": 261,
   "metadata": {},
   "outputs": [
    {
     "name": "stdout",
     "output_type": "stream",
     "text": [
      "RMSE: 3279.75\n",
      "fit time=1.4908909797668457\n",
      "predict time=0.009427547454833984\n"
     ]
    }
   ],
   "source": [
    "reg = LinearRegression()\n",
    "#cross_val_score(reg, features_train_ordinal, target_train_ordinal, cv=5)\n",
    "grid = GridSearchCV(reg, param_grid = {}, cv=5)\n",
    "\n",
    "start = time.time()\n",
    "grid.fit(features_train_ordinal, target_train_ordinal)\n",
    "stop = time.time()\n",
    "lr_fit_time = stop-start  \n",
    " \n",
    "start = time.time()    \n",
    "predict = grid.predict(features_valid_ordinal)\n",
    "stop = time.time()\n",
    "lr_predict_time = stop-start  \n",
    " \n",
    "lr_rmse = math.sqrt(mean_squared_error(target_valid_ordinal, predict))\n",
    "print(f'RMSE: {lr_rmse:.2f}')\n",
    "print(f'fit time={lr_fit_time}\\npredict time={lr_predict_time}')"
   ]
  },
  {
   "cell_type": "markdown",
   "metadata": {},
   "source": [
    "## Model analysis"
   ]
  },
  {
   "cell_type": "code",
   "execution_count": 263,
   "metadata": {},
   "outputs": [
    {
     "data": {
      "text/html": [
       "<div>\n",
       "<style scoped>\n",
       "    .dataframe tbody tr th:only-of-type {\n",
       "        vertical-align: middle;\n",
       "    }\n",
       "\n",
       "    .dataframe tbody tr th {\n",
       "        vertical-align: top;\n",
       "    }\n",
       "\n",
       "    .dataframe thead th {\n",
       "        text-align: right;\n",
       "    }\n",
       "</style>\n",
       "<table border=\"1\" class=\"dataframe\">\n",
       "  <thead>\n",
       "    <tr style=\"text-align: right;\">\n",
       "      <th></th>\n",
       "      <th>LinearRegression</th>\n",
       "      <th>XGBoost</th>\n",
       "      <th>LightGBM</th>\n",
       "      <th>CatBoost</th>\n",
       "      <th>RandomForest</th>\n",
       "    </tr>\n",
       "  </thead>\n",
       "  <tbody>\n",
       "    <tr>\n",
       "      <td>rmse</td>\n",
       "      <td>3279.749240</td>\n",
       "      <td>3542.489717</td>\n",
       "      <td>3390.703057</td>\n",
       "      <td>3666.880721</td>\n",
       "      <td>2983.926871</td>\n",
       "    </tr>\n",
       "    <tr>\n",
       "      <td>fit time</td>\n",
       "      <td>1.490891</td>\n",
       "      <td>62.856443</td>\n",
       "      <td>21.597484</td>\n",
       "      <td>44.694651</td>\n",
       "      <td>29.389227</td>\n",
       "    </tr>\n",
       "    <tr>\n",
       "      <td>predict time</td>\n",
       "      <td>0.009428</td>\n",
       "      <td>0.217065</td>\n",
       "      <td>0.227003</td>\n",
       "      <td>0.439375</td>\n",
       "      <td>0.077258</td>\n",
       "    </tr>\n",
       "  </tbody>\n",
       "</table>\n",
       "</div>"
      ],
      "text/plain": [
       "              LinearRegression      XGBoost     LightGBM     CatBoost  \\\n",
       "rmse               3279.749240  3542.489717  3390.703057  3666.880721   \n",
       "fit time              1.490891    62.856443    21.597484    44.694651   \n",
       "predict time          0.009428     0.217065     0.227003     0.439375   \n",
       "\n",
       "              RandomForest  \n",
       "rmse           2983.926871  \n",
       "fit time         29.389227  \n",
       "predict time      0.077258  "
      ]
     },
     "execution_count": 263,
     "metadata": {},
     "output_type": "execute_result"
    }
   ],
   "source": [
    "data = [[lr_rmse,XGBoost_rmse,lightGBM_rmse,catBoost_rmse,rf_result[0]],\n",
    "        [lr_fit_time,xgb_fit_time,lgb_fit_time,CBR_fit_time,rf_result[1]],\n",
    "        [lr_predict_time,xgb_predict_time,lgb_predict_time,CBR_predict_time,rf_result[2]]\n",
    "       ]\n",
    "columns=['LinearRegression','XGBoost','LightGBM','CatBoost','RandomForest']\n",
    "index = ('rmse','fit time','predict time')\n",
    "scores = pd.DataFrame(data,columns=columns,index=index)\n",
    "scores"
   ]
  },
  {
   "cell_type": "markdown",
   "metadata": {},
   "source": [
    "- RandomForest has the smallest rmse\n",
    "- RandomForest is the second  fastest model in tearms  fit time(not including LinearRegression)\n",
    "- RandomForest is the fastest model in tearms  predict time(not including LinearRegression)\n",
    "- All models except RandomForest preformed worse than the LinearRegression model(sanity model)\n",
    "- The best model is RandomForest. It has the smallest rmse and he is fast"
   ]
  }
 ],
 "metadata": {
  "ExecuteTimeLog": [
   {
    "duration": 246,
    "start_time": "2021-11-08T12:23:15.824Z"
   },
   {
    "duration": 557,
    "start_time": "2021-11-08T12:23:41.591Z"
   },
   {
    "duration": 612,
    "start_time": "2021-11-08T12:23:43.799Z"
   },
   {
    "duration": 29,
    "start_time": "2021-11-08T12:24:04.868Z"
   },
   {
    "duration": 117,
    "start_time": "2021-11-08T12:24:29.444Z"
   },
   {
    "duration": 223,
    "start_time": "2021-11-08T12:28:24.690Z"
   },
   {
    "duration": 2,
    "start_time": "2021-11-08T12:28:30.878Z"
   },
   {
    "duration": 589,
    "start_time": "2021-11-08T12:28:30.882Z"
   },
   {
    "duration": 30,
    "start_time": "2021-11-08T12:28:31.473Z"
   },
   {
    "duration": 116,
    "start_time": "2021-11-08T12:28:31.504Z"
   },
   {
    "duration": 118,
    "start_time": "2021-11-08T12:28:31.622Z"
   },
   {
    "duration": 68,
    "start_time": "2021-11-08T12:28:51.430Z"
   },
   {
    "duration": 182,
    "start_time": "2021-11-08T12:29:08.323Z"
   },
   {
    "duration": 108,
    "start_time": "2021-11-08T12:29:19.330Z"
   },
   {
    "duration": 116,
    "start_time": "2021-11-08T12:44:01.616Z"
   },
   {
    "duration": 107,
    "start_time": "2021-11-08T12:44:12.115Z"
   },
   {
    "duration": 33,
    "start_time": "2021-11-08T12:51:31.034Z"
   },
   {
    "duration": 500,
    "start_time": "2021-11-09T06:47:33.832Z"
   },
   {
    "duration": 773,
    "start_time": "2021-11-09T06:47:39.933Z"
   },
   {
    "duration": 934,
    "start_time": "2021-11-09T06:47:41.419Z"
   },
   {
    "duration": 46,
    "start_time": "2021-11-09T06:47:43.025Z"
   },
   {
    "duration": 164,
    "start_time": "2021-11-09T06:47:45.411Z"
   },
   {
    "duration": 184,
    "start_time": "2021-11-09T06:47:47.538Z"
   },
   {
    "duration": 46,
    "start_time": "2021-11-09T06:47:49.618Z"
   },
   {
    "duration": 56,
    "start_time": "2021-11-09T06:49:56.894Z"
   },
   {
    "duration": 48,
    "start_time": "2021-11-09T06:49:57.444Z"
   },
   {
    "duration": 47,
    "start_time": "2021-11-09T06:49:57.917Z"
   },
   {
    "duration": 44,
    "start_time": "2021-11-09T06:50:23.935Z"
   },
   {
    "duration": 7406,
    "start_time": "2021-11-09T06:54:48.657Z"
   },
   {
    "duration": 10154,
    "start_time": "2021-11-09T06:55:19.596Z"
   },
   {
    "duration": 17,
    "start_time": "2021-11-09T06:57:54.992Z"
   },
   {
    "duration": 86,
    "start_time": "2021-11-09T06:58:15.242Z"
   },
   {
    "duration": 98,
    "start_time": "2021-11-09T06:58:49.102Z"
   },
   {
    "duration": 113,
    "start_time": "2021-11-09T06:59:41.969Z"
   },
   {
    "duration": 105,
    "start_time": "2021-11-09T06:59:51.264Z"
   },
   {
    "duration": 102,
    "start_time": "2021-11-09T06:59:57.285Z"
   },
   {
    "duration": 85,
    "start_time": "2021-11-09T07:00:02.544Z"
   },
   {
    "duration": 97,
    "start_time": "2021-11-09T07:00:09.055Z"
   },
   {
    "duration": 82,
    "start_time": "2021-11-09T07:00:16.287Z"
   },
   {
    "duration": 95,
    "start_time": "2021-11-09T07:00:27.281Z"
   },
   {
    "duration": 9,
    "start_time": "2021-11-09T07:00:34.119Z"
   },
   {
    "duration": 86,
    "start_time": "2021-11-09T07:00:39.262Z"
   },
   {
    "duration": 9,
    "start_time": "2021-11-09T07:00:48.470Z"
   },
   {
    "duration": 9,
    "start_time": "2021-11-09T07:00:53.152Z"
   },
   {
    "duration": 84,
    "start_time": "2021-11-09T07:00:57.335Z"
   },
   {
    "duration": 69,
    "start_time": "2021-11-09T07:01:35.424Z"
   },
   {
    "duration": 99,
    "start_time": "2021-11-09T07:02:11.206Z"
   },
   {
    "duration": 1110,
    "start_time": "2021-11-09T07:02:16.390Z"
   },
   {
    "duration": 70,
    "start_time": "2021-11-09T07:02:34.309Z"
   },
   {
    "duration": 83,
    "start_time": "2021-11-09T07:14:15.268Z"
   },
   {
    "duration": 70,
    "start_time": "2021-11-09T07:14:21.059Z"
   },
   {
    "duration": 69,
    "start_time": "2021-11-09T07:14:25.892Z"
   },
   {
    "duration": 85,
    "start_time": "2021-11-09T07:14:32.764Z"
   },
   {
    "duration": 77,
    "start_time": "2021-11-09T07:14:39.083Z"
   },
   {
    "duration": 79,
    "start_time": "2021-11-09T07:14:44.486Z"
   },
   {
    "duration": 650,
    "start_time": "2021-11-09T07:15:08.262Z"
   },
   {
    "duration": 474,
    "start_time": "2021-11-09T07:15:29.757Z"
   },
   {
    "duration": 83,
    "start_time": "2021-11-09T07:15:40.716Z"
   },
   {
    "duration": 59,
    "start_time": "2021-11-09T07:15:59.042Z"
   },
   {
    "duration": 106,
    "start_time": "2021-11-09T07:16:32.775Z"
   },
   {
    "duration": 86,
    "start_time": "2021-11-09T07:16:45.290Z"
   },
   {
    "duration": 102,
    "start_time": "2021-11-09T07:16:59.135Z"
   },
   {
    "duration": 90,
    "start_time": "2021-11-09T07:17:44.020Z"
   },
   {
    "duration": 100,
    "start_time": "2021-11-09T07:18:05.937Z"
   },
   {
    "duration": 84,
    "start_time": "2021-11-09T07:18:23.839Z"
   },
   {
    "duration": 45,
    "start_time": "2021-11-09T07:21:10.696Z"
   },
   {
    "duration": 21,
    "start_time": "2021-11-09T07:21:37.066Z"
   },
   {
    "duration": 46,
    "start_time": "2021-11-09T07:22:24.127Z"
   },
   {
    "duration": 56,
    "start_time": "2021-11-09T07:32:45.757Z"
   },
   {
    "duration": 172,
    "start_time": "2021-11-09T07:36:16.205Z"
   },
   {
    "duration": 157,
    "start_time": "2021-11-09T07:36:29.206Z"
   },
   {
    "duration": 163,
    "start_time": "2021-11-09T07:38:55.216Z"
   },
   {
    "duration": 154,
    "start_time": "2021-11-09T07:39:09.908Z"
   },
   {
    "duration": 157,
    "start_time": "2021-11-09T07:39:26.519Z"
   },
   {
    "duration": 153,
    "start_time": "2021-11-09T07:39:42.587Z"
   },
   {
    "duration": 154,
    "start_time": "2021-11-09T07:41:05.857Z"
   },
   {
    "duration": 150,
    "start_time": "2021-11-09T07:41:14.076Z"
   },
   {
    "duration": 160,
    "start_time": "2021-11-09T07:41:37.992Z"
   },
   {
    "duration": 156,
    "start_time": "2021-11-09T07:41:44.579Z"
   },
   {
    "duration": 128,
    "start_time": "2021-11-09T07:41:56.166Z"
   },
   {
    "duration": 149,
    "start_time": "2021-11-09T07:42:02.865Z"
   },
   {
    "duration": 166,
    "start_time": "2021-11-09T07:42:15.723Z"
   },
   {
    "duration": 155,
    "start_time": "2021-11-09T07:42:30.946Z"
   },
   {
    "duration": 235,
    "start_time": "2021-11-09T07:44:53.318Z"
   },
   {
    "duration": 115,
    "start_time": "2021-11-09T07:45:12.436Z"
   },
   {
    "duration": 921,
    "start_time": "2021-11-09T07:46:48.789Z"
   },
   {
    "duration": 165,
    "start_time": "2021-11-09T07:46:52.504Z"
   },
   {
    "duration": 222,
    "start_time": "2021-11-09T07:58:17.016Z"
   },
   {
    "duration": 115,
    "start_time": "2021-11-09T07:58:20.739Z"
   },
   {
    "duration": 35575,
    "start_time": "2021-11-09T08:08:12.270Z"
   },
   {
    "duration": 4,
    "start_time": "2021-11-09T08:09:10.188Z"
   },
   {
    "duration": 445,
    "start_time": "2021-11-09T08:09:14.044Z"
   },
   {
    "duration": 424,
    "start_time": "2021-11-09T08:10:37.171Z"
   },
   {
    "duration": 35787,
    "start_time": "2021-11-09T08:24:29.967Z"
   },
   {
    "duration": 73,
    "start_time": "2021-11-09T08:25:34.426Z"
   },
   {
    "duration": 32,
    "start_time": "2021-11-09T08:25:49.417Z"
   },
   {
    "duration": 889,
    "start_time": "2021-11-09T08:32:16.152Z"
   },
   {
    "duration": 220,
    "start_time": "2021-11-09T08:32:25.263Z"
   },
   {
    "duration": 68891,
    "start_time": "2021-11-09T08:32:35.274Z"
   },
   {
    "duration": 36,
    "start_time": "2021-11-09T08:33:52.019Z"
   },
   {
    "duration": 59,
    "start_time": "2021-11-09T08:34:15.196Z"
   },
   {
    "duration": 39,
    "start_time": "2021-11-09T08:34:20.757Z"
   },
   {
    "duration": 593,
    "start_time": "2021-11-09T09:15:40.647Z"
   },
   {
    "duration": 5,
    "start_time": "2021-11-09T09:52:40.718Z"
   },
   {
    "duration": 7,
    "start_time": "2021-11-09T09:53:01.208Z"
   },
   {
    "duration": 452,
    "start_time": "2021-11-09T09:54:04.424Z"
   },
   {
    "duration": 47,
    "start_time": "2021-11-09T09:54:27.079Z"
   },
   {
    "duration": 1094,
    "start_time": "2021-11-09T09:54:32.268Z"
   },
   {
    "duration": 21,
    "start_time": "2021-11-09T10:49:18.596Z"
   },
   {
    "duration": 502,
    "start_time": "2021-11-09T10:49:31.203Z"
   },
   {
    "duration": 3,
    "start_time": "2021-11-09T10:49:52.699Z"
   },
   {
    "duration": 395,
    "start_time": "2021-11-09T10:49:56.868Z"
   },
   {
    "duration": 5,
    "start_time": "2021-11-09T10:50:16.007Z"
   },
   {
    "duration": 4,
    "start_time": "2021-11-09T10:50:26.612Z"
   },
   {
    "duration": 448,
    "start_time": "2021-11-09T10:50:31.283Z"
   },
   {
    "duration": 225,
    "start_time": "2021-11-09T10:53:17.548Z"
   },
   {
    "duration": 5,
    "start_time": "2021-11-09T10:54:30.830Z"
   },
   {
    "duration": 3656,
    "start_time": "2021-11-09T10:54:32.164Z"
   },
   {
    "duration": 337,
    "start_time": "2021-11-09T19:01:12.054Z"
   },
   {
    "duration": 1386,
    "start_time": "2021-11-09T19:01:17.519Z"
   },
   {
    "duration": 928,
    "start_time": "2021-11-09T19:01:18.908Z"
   },
   {
    "duration": 58,
    "start_time": "2021-11-09T19:01:19.840Z"
   },
   {
    "duration": 7962,
    "start_time": "2021-11-09T19:01:19.901Z"
   },
   {
    "duration": -508,
    "start_time": "2021-11-09T19:01:28.374Z"
   },
   {
    "duration": -510,
    "start_time": "2021-11-09T19:01:28.378Z"
   },
   {
    "duration": -512,
    "start_time": "2021-11-09T19:01:28.381Z"
   },
   {
    "duration": -832,
    "start_time": "2021-11-09T19:01:28.702Z"
   },
   {
    "duration": -843,
    "start_time": "2021-11-09T19:01:28.714Z"
   },
   {
    "duration": -929,
    "start_time": "2021-11-09T19:01:28.801Z"
   },
   {
    "duration": -933,
    "start_time": "2021-11-09T19:01:28.807Z"
   },
   {
    "duration": -938,
    "start_time": "2021-11-09T19:01:28.813Z"
   },
   {
    "duration": -1263,
    "start_time": "2021-11-09T19:01:29.140Z"
   },
   {
    "duration": -1268,
    "start_time": "2021-11-09T19:01:29.146Z"
   },
   {
    "duration": 36,
    "start_time": "2021-11-09T19:02:08.714Z"
   },
   {
    "duration": 50,
    "start_time": "2021-11-09T19:02:09.962Z"
   },
   {
    "duration": 51,
    "start_time": "2021-11-09T19:02:11.609Z"
   },
   {
    "duration": 51,
    "start_time": "2021-11-09T19:02:12.581Z"
   },
   {
    "duration": 35,
    "start_time": "2021-11-09T19:02:13.753Z"
   },
   {
    "duration": 35,
    "start_time": "2021-11-09T19:02:14.936Z"
   },
   {
    "duration": 163,
    "start_time": "2021-11-09T19:02:30.602Z"
   },
   {
    "duration": 7499,
    "start_time": "2021-11-09T19:02:45.627Z"
   },
   {
    "duration": 5501,
    "start_time": "2021-11-09T19:03:06.899Z"
   },
   {
    "duration": 347,
    "start_time": "2021-11-09T19:03:39.578Z"
   },
   {
    "duration": 6312,
    "start_time": "2021-11-09T19:04:01.387Z"
   },
   {
    "duration": 6929,
    "start_time": "2021-11-09T19:04:21.682Z"
   },
   {
    "duration": 8,
    "start_time": "2021-11-09T19:04:45.196Z"
   },
   {
    "duration": 38,
    "start_time": "2021-11-09T19:05:07.402Z"
   },
   {
    "duration": 4,
    "start_time": "2021-11-09T19:05:36.384Z"
   },
   {
    "duration": 938,
    "start_time": "2021-11-09T19:05:36.391Z"
   },
   {
    "duration": 43,
    "start_time": "2021-11-09T19:05:37.332Z"
   },
   {
    "duration": 174,
    "start_time": "2021-11-09T19:05:37.378Z"
   },
   {
    "duration": 175,
    "start_time": "2021-11-09T19:05:37.554Z"
   },
   {
    "duration": 167,
    "start_time": "2021-11-09T19:05:37.731Z"
   },
   {
    "duration": 254,
    "start_time": "2021-11-09T19:05:37.901Z"
   },
   {
    "duration": 132,
    "start_time": "2021-11-09T19:05:38.157Z"
   },
   {
    "duration": 68935,
    "start_time": "2021-11-09T19:05:38.292Z"
   },
   {
    "duration": 45,
    "start_time": "2021-11-09T19:06:47.230Z"
   },
   {
    "duration": 224,
    "start_time": "2021-11-09T19:06:47.279Z"
   },
   {
    "duration": 4,
    "start_time": "2021-11-09T19:06:47.505Z"
   },
   {
    "duration": 3042,
    "start_time": "2021-11-09T19:06:47.512Z"
   },
   {
    "duration": 3108,
    "start_time": "2021-11-09T19:11:29.847Z"
   },
   {
    "duration": 4,
    "start_time": "2021-11-09T19:24:18.312Z"
   },
   {
    "duration": 5,
    "start_time": "2021-11-09T19:24:20.288Z"
   },
   {
    "duration": 5,
    "start_time": "2021-11-09T19:24:26.761Z"
   },
   {
    "duration": 2955,
    "start_time": "2021-11-09T19:24:32.556Z"
   },
   {
    "duration": 5,
    "start_time": "2021-11-09T19:25:18.957Z"
   },
   {
    "duration": 2972,
    "start_time": "2021-11-09T19:25:20.319Z"
   },
   {
    "duration": 68,
    "start_time": "2021-11-09T19:37:01.563Z"
   },
   {
    "duration": 27,
    "start_time": "2021-11-09T19:38:04.803Z"
   },
   {
    "duration": 210,
    "start_time": "2021-11-09T19:38:06.776Z"
   },
   {
    "duration": 675,
    "start_time": "2021-11-09T19:38:10.387Z"
   },
   {
    "duration": 198,
    "start_time": "2021-11-09T19:46:49.732Z"
   },
   {
    "duration": 218,
    "start_time": "2021-11-09T19:48:01.773Z"
   },
   {
    "duration": 211,
    "start_time": "2021-11-09T19:48:03.390Z"
   },
   {
    "duration": 572,
    "start_time": "2021-11-09T20:01:54.091Z"
   },
   {
    "duration": 109,
    "start_time": "2021-11-09T20:02:04.409Z"
   },
   {
    "duration": 47,
    "start_time": "2021-11-09T20:04:25.628Z"
   },
   {
    "duration": 283,
    "start_time": "2021-11-09T20:07:01.011Z"
   },
   {
    "duration": 24,
    "start_time": "2021-11-09T20:07:09.245Z"
   },
   {
    "duration": 479,
    "start_time": "2021-11-09T20:07:14.475Z"
   },
   {
    "duration": 102,
    "start_time": "2021-11-09T20:07:16.235Z"
   },
   {
    "duration": 30,
    "start_time": "2021-11-09T20:07:30.748Z"
   },
   {
    "duration": 5,
    "start_time": "2021-11-09T20:14:57.521Z"
   },
   {
    "duration": 891,
    "start_time": "2021-11-09T20:14:57.529Z"
   },
   {
    "duration": 50,
    "start_time": "2021-11-09T20:14:58.423Z"
   },
   {
    "duration": 178,
    "start_time": "2021-11-09T20:14:58.476Z"
   },
   {
    "duration": 176,
    "start_time": "2021-11-09T20:14:58.656Z"
   },
   {
    "duration": 165,
    "start_time": "2021-11-09T20:14:58.835Z"
   },
   {
    "duration": 235,
    "start_time": "2021-11-09T20:14:59.002Z"
   },
   {
    "duration": 68532,
    "start_time": "2021-11-09T20:14:59.240Z"
   },
   {
    "duration": 92,
    "start_time": "2021-11-09T20:16:07.775Z"
   },
   {
    "duration": 194,
    "start_time": "2021-11-09T20:16:07.869Z"
   },
   {
    "duration": 221,
    "start_time": "2021-11-09T20:16:08.067Z"
   },
   {
    "duration": 28,
    "start_time": "2021-11-09T20:17:15.444Z"
   },
   {
    "duration": 40,
    "start_time": "2021-11-09T20:17:17.376Z"
   },
   {
    "duration": 705,
    "start_time": "2021-11-09T20:17:33.756Z"
   },
   {
    "duration": 106,
    "start_time": "2021-11-09T20:17:35.915Z"
   },
   {
    "duration": 48,
    "start_time": "2021-11-09T20:18:24.794Z"
   },
   {
    "duration": 113,
    "start_time": "2021-11-09T20:29:22.780Z"
   },
   {
    "duration": 24,
    "start_time": "2021-11-09T20:29:38.668Z"
   },
   {
    "duration": 186,
    "start_time": "2021-11-09T20:29:42.253Z"
   },
   {
    "duration": 4,
    "start_time": "2021-11-09T20:29:45.541Z"
   },
   {
    "duration": 552,
    "start_time": "2021-11-09T20:29:48.311Z"
   },
   {
    "duration": 96,
    "start_time": "2021-11-09T20:30:25.515Z"
   },
   {
    "duration": 1352,
    "start_time": "2021-11-09T20:30:29.100Z"
   },
   {
    "duration": 4,
    "start_time": "2021-11-09T20:30:33.133Z"
   },
   {
    "duration": 22499,
    "start_time": "2021-11-09T20:30:35.135Z"
   },
   {
    "duration": 642810,
    "start_time": "2021-11-09T20:31:42.019Z"
   },
   {
    "duration": 6,
    "start_time": "2021-11-09T20:42:30.332Z"
   },
   {
    "duration": 5,
    "start_time": "2021-11-09T20:42:50.204Z"
   },
   {
    "duration": 110184,
    "start_time": "2021-11-09T20:43:25.792Z"
   },
   {
    "duration": 110127,
    "start_time": "2021-11-09T20:48:08.852Z"
   },
   {
    "duration": 3,
    "start_time": "2021-11-09T20:50:12.647Z"
   },
   {
    "duration": 5,
    "start_time": "2021-11-09T20:50:30.015Z"
   },
   {
    "duration": 5,
    "start_time": "2021-11-09T20:50:55.692Z"
   },
   {
    "duration": 24106,
    "start_time": "2021-11-09T20:50:58.290Z"
   },
   {
    "duration": 71,
    "start_time": "2021-11-09T21:13:19.490Z"
   },
   {
    "duration": 28,
    "start_time": "2021-11-09T21:17:20.328Z"
   },
   {
    "duration": 1522,
    "start_time": "2021-11-10T07:09:37.018Z"
   },
   {
    "duration": 1016,
    "start_time": "2021-11-10T07:09:38.543Z"
   },
   {
    "duration": 45,
    "start_time": "2021-11-10T07:09:39.562Z"
   },
   {
    "duration": 184,
    "start_time": "2021-11-10T07:09:39.610Z"
   },
   {
    "duration": 162,
    "start_time": "2021-11-10T07:09:39.796Z"
   },
   {
    "duration": 163,
    "start_time": "2021-11-10T07:09:39.960Z"
   },
   {
    "duration": 230,
    "start_time": "2021-11-10T07:09:40.129Z"
   },
   {
    "duration": 66662,
    "start_time": "2021-11-10T07:09:40.362Z"
   },
   {
    "duration": 78,
    "start_time": "2021-11-10T07:10:47.030Z"
   },
   {
    "duration": 200,
    "start_time": "2021-11-10T07:10:47.111Z"
   },
   {
    "duration": 216,
    "start_time": "2021-11-10T07:10:47.313Z"
   },
   {
    "duration": 23,
    "start_time": "2021-11-10T07:10:47.531Z"
   },
   {
    "duration": 447,
    "start_time": "2021-11-10T07:10:47.556Z"
   },
   {
    "duration": 112,
    "start_time": "2021-11-10T07:10:48.005Z"
   },
   {
    "duration": 53,
    "start_time": "2021-11-10T07:10:48.119Z"
   },
   {
    "duration": 111,
    "start_time": "2021-11-10T07:10:48.175Z"
   },
   {
    "duration": 1283,
    "start_time": "2021-11-10T07:10:48.288Z"
   },
   {
    "duration": 5,
    "start_time": "2021-11-10T07:10:49.574Z"
   },
   {
    "duration": 24575,
    "start_time": "2021-11-10T07:10:49.581Z"
   },
   {
    "duration": 27,
    "start_time": "2021-11-10T07:11:14.158Z"
   },
   {
    "duration": 9,
    "start_time": "2021-11-10T07:11:14.187Z"
   },
   {
    "duration": 450,
    "start_time": "2021-11-10T07:41:17.490Z"
   },
   {
    "duration": 110,
    "start_time": "2021-11-10T07:41:21.229Z"
   },
   {
    "duration": 453,
    "start_time": "2021-11-10T07:41:29.376Z"
   },
   {
    "duration": 102,
    "start_time": "2021-11-10T07:41:31.363Z"
   },
   {
    "duration": 5,
    "start_time": "2021-11-10T07:43:44.974Z"
   },
   {
    "duration": 664,
    "start_time": "2021-11-10T07:44:28.189Z"
   },
   {
    "duration": 621,
    "start_time": "2021-11-10T07:44:42.302Z"
   },
   {
    "duration": 30,
    "start_time": "2021-11-10T07:44:50.492Z"
   },
   {
    "duration": 1720,
    "start_time": "2021-11-10T08:25:32.846Z"
   },
   {
    "duration": 110,
    "start_time": "2021-11-10T08:25:44.151Z"
   },
   {
    "duration": 1465,
    "start_time": "2021-11-10T08:25:45.350Z"
   },
   {
    "duration": 555,
    "start_time": "2021-11-10T08:26:38.294Z"
   },
   {
    "duration": 120,
    "start_time": "2021-11-10T08:28:34.746Z"
   },
   {
    "duration": 5,
    "start_time": "2021-11-10T08:28:42.698Z"
   },
   {
    "duration": 24889,
    "start_time": "2021-11-10T08:28:44.244Z"
   },
   {
    "duration": 4,
    "start_time": "2021-11-10T08:36:34.473Z"
   },
   {
    "duration": 3978,
    "start_time": "2021-11-10T08:37:30.962Z"
   },
   {
    "duration": 5,
    "start_time": "2021-11-10T08:39:07.762Z"
   },
   {
    "duration": 311,
    "start_time": "2021-11-10T08:39:21.016Z"
   },
   {
    "duration": 5747,
    "start_time": "2021-11-10T08:40:30.756Z"
   },
   {
    "duration": 3920,
    "start_time": "2021-11-10T08:40:51.980Z"
   },
   {
    "duration": 4085,
    "start_time": "2021-11-10T08:42:05.708Z"
   },
   {
    "duration": 3888,
    "start_time": "2021-11-10T08:46:19.833Z"
   },
   {
    "duration": 12706,
    "start_time": "2021-11-10T09:11:23.187Z"
   },
   {
    "duration": 8119,
    "start_time": "2021-11-10T09:11:43.463Z"
   },
   {
    "duration": 13188,
    "start_time": "2021-11-10T09:12:01.241Z"
   },
   {
    "duration": 13224,
    "start_time": "2021-11-10T09:15:56.857Z"
   },
   {
    "duration": 5,
    "start_time": "2021-11-10T11:17:14.237Z"
   },
   {
    "duration": 885,
    "start_time": "2021-11-10T11:17:14.245Z"
   },
   {
    "duration": 33,
    "start_time": "2021-11-10T11:17:15.133Z"
   },
   {
    "duration": 176,
    "start_time": "2021-11-10T11:17:15.169Z"
   },
   {
    "duration": 182,
    "start_time": "2021-11-10T11:17:15.348Z"
   },
   {
    "duration": 165,
    "start_time": "2021-11-10T11:17:15.533Z"
   },
   {
    "duration": 233,
    "start_time": "2021-11-10T11:17:15.701Z"
   },
   {
    "duration": 66134,
    "start_time": "2021-11-10T11:17:15.937Z"
   },
   {
    "duration": 94,
    "start_time": "2021-11-10T11:18:22.075Z"
   },
   {
    "duration": 182,
    "start_time": "2021-11-10T11:18:22.171Z"
   },
   {
    "duration": 224,
    "start_time": "2021-11-10T11:18:22.355Z"
   },
   {
    "duration": 24,
    "start_time": "2021-11-10T11:18:22.581Z"
   },
   {
    "duration": 571,
    "start_time": "2021-11-10T11:18:22.608Z"
   },
   {
    "duration": 108,
    "start_time": "2021-11-10T11:18:23.181Z"
   },
   {
    "duration": 688,
    "start_time": "2021-11-10T11:18:23.292Z"
   },
   {
    "duration": 122,
    "start_time": "2021-11-10T11:18:23.982Z"
   },
   {
    "duration": 1893,
    "start_time": "2021-11-10T11:18:24.106Z"
   },
   {
    "duration": 7,
    "start_time": "2021-11-10T11:18:26.002Z"
   },
   {
    "duration": 24768,
    "start_time": "2021-11-10T11:18:26.012Z"
   },
   {
    "duration": 13909,
    "start_time": "2021-11-10T11:18:50.783Z"
   },
   {
    "duration": 5,
    "start_time": "2021-11-10T11:22:49.655Z"
   },
   {
    "duration": 397,
    "start_time": "2021-11-10T11:29:23.422Z"
   },
   {
    "duration": 670,
    "start_time": "2021-11-10T11:29:47.113Z"
   },
   {
    "duration": 122,
    "start_time": "2021-11-10T11:29:57.062Z"
   },
   {
    "duration": 287,
    "start_time": "2021-11-10T11:29:59.497Z"
   },
   {
    "duration": 83,
    "start_time": "2021-11-10T11:30:02.207Z"
   },
   {
    "duration": 6,
    "start_time": "2021-11-10T11:30:06.982Z"
   },
   {
    "duration": 623,
    "start_time": "2021-11-10T11:31:23.537Z"
   },
   {
    "duration": 26,
    "start_time": "2021-11-10T11:31:27.933Z"
   },
   {
    "duration": 118,
    "start_time": "2021-11-10T11:31:36.207Z"
   },
   {
    "duration": 26,
    "start_time": "2021-11-10T11:31:44.974Z"
   },
   {
    "duration": 266,
    "start_time": "2021-11-10T11:31:56.543Z"
   },
   {
    "duration": 26,
    "start_time": "2021-11-10T11:32:04.788Z"
   },
   {
    "duration": 68,
    "start_time": "2021-11-10T11:32:21.792Z"
   },
   {
    "duration": 9,
    "start_time": "2021-11-10T11:32:26.198Z"
   },
   {
    "duration": 5,
    "start_time": "2021-11-10T11:41:05.200Z"
   },
   {
    "duration": 2761,
    "start_time": "2021-11-10T11:41:06.849Z"
   },
   {
    "duration": 24542,
    "start_time": "2021-11-10T11:41:34.800Z"
   },
   {
    "duration": 2539,
    "start_time": "2021-11-10T11:42:22.474Z"
   },
   {
    "duration": 13465,
    "start_time": "2021-11-10T11:42:44.657Z"
   },
   {
    "duration": 8191,
    "start_time": "2021-11-10T11:53:22.948Z"
   },
   {
    "duration": 15122,
    "start_time": "2021-11-10T11:53:46.121Z"
   },
   {
    "duration": 533,
    "start_time": "2021-11-10T12:14:35.448Z"
   },
   {
    "duration": 5431,
    "start_time": "2021-11-10T12:15:32.649Z"
   },
   {
    "duration": 59,
    "start_time": "2021-11-10T13:08:12.005Z"
   },
   {
    "duration": 5498,
    "start_time": "2021-11-10T13:15:12.576Z"
   },
   {
    "duration": 88,
    "start_time": "2021-11-10T13:21:34.427Z"
   },
   {
    "duration": 367,
    "start_time": "2021-11-10T13:21:47.508Z"
   },
   {
    "duration": 452,
    "start_time": "2021-11-10T13:22:05.884Z"
   },
   {
    "duration": 301,
    "start_time": "2021-11-10T13:22:28.350Z"
   },
   {
    "duration": 288,
    "start_time": "2021-11-10T13:22:47.172Z"
   },
   {
    "duration": 288,
    "start_time": "2021-11-10T13:22:58.682Z"
   },
   {
    "duration": 8,
    "start_time": "2021-11-10T13:23:32.164Z"
   },
   {
    "duration": 363,
    "start_time": "2021-11-10T13:24:48.270Z"
   },
   {
    "duration": 340,
    "start_time": "2021-11-10T13:25:29.647Z"
   },
   {
    "duration": 16095,
    "start_time": "2021-11-10T13:25:39.347Z"
   },
   {
    "duration": 12908,
    "start_time": "2021-11-10T13:26:17.328Z"
   },
   {
    "duration": 2082,
    "start_time": "2021-11-10T13:26:42.614Z"
   },
   {
    "duration": 375,
    "start_time": "2021-11-10T13:28:31.947Z"
   },
   {
    "duration": 4,
    "start_time": "2021-11-10T13:33:22.891Z"
   },
   {
    "duration": 13926,
    "start_time": "2021-11-10T13:33:25.540Z"
   },
   {
    "duration": 377,
    "start_time": "2021-11-10T13:33:53.077Z"
   },
   {
    "duration": 40,
    "start_time": "2021-11-10T13:42:52.581Z"
   },
   {
    "duration": 364,
    "start_time": "2021-11-10T13:51:20.406Z"
   },
   {
    "duration": 13349,
    "start_time": "2021-11-10T13:52:02.960Z"
   },
   {
    "duration": 490,
    "start_time": "2021-11-10T13:52:21.407Z"
   },
   {
    "duration": 287,
    "start_time": "2021-11-10T13:57:36.602Z"
   },
   {
    "duration": 7,
    "start_time": "2021-11-10T13:57:46.192Z"
   },
   {
    "duration": 27,
    "start_time": "2021-11-10T13:58:03.551Z"
   },
   {
    "duration": 355,
    "start_time": "2021-11-10T13:59:19.510Z"
   },
   {
    "duration": 7,
    "start_time": "2021-11-10T13:59:28.914Z"
   },
   {
    "duration": 359,
    "start_time": "2021-11-10T14:00:05.187Z"
   },
   {
    "duration": 6,
    "start_time": "2021-11-10T14:00:29.461Z"
   },
   {
    "duration": 414,
    "start_time": "2021-11-10T14:00:43.868Z"
   },
   {
    "duration": 398,
    "start_time": "2021-11-10T14:01:12.759Z"
   },
   {
    "duration": 368,
    "start_time": "2021-11-10T14:02:10.072Z"
   },
   {
    "duration": 345,
    "start_time": "2021-11-10T14:08:40.713Z"
   },
   {
    "duration": 347,
    "start_time": "2021-11-10T14:09:32.518Z"
   },
   {
    "duration": 1446,
    "start_time": "2021-11-10T18:46:38.152Z"
   },
   {
    "duration": 900,
    "start_time": "2021-11-10T18:46:39.600Z"
   },
   {
    "duration": 43,
    "start_time": "2021-11-10T18:46:40.502Z"
   },
   {
    "duration": 175,
    "start_time": "2021-11-10T18:46:40.559Z"
   },
   {
    "duration": 186,
    "start_time": "2021-11-10T18:46:40.736Z"
   },
   {
    "duration": 217,
    "start_time": "2021-11-10T18:46:40.925Z"
   },
   {
    "duration": 259,
    "start_time": "2021-11-10T18:46:41.144Z"
   },
   {
    "duration": 68519,
    "start_time": "2021-11-10T18:46:41.407Z"
   },
   {
    "duration": 122,
    "start_time": "2021-11-10T18:47:49.930Z"
   },
   {
    "duration": 196,
    "start_time": "2021-11-10T18:47:50.055Z"
   },
   {
    "duration": 242,
    "start_time": "2021-11-10T18:47:50.253Z"
   },
   {
    "duration": 23,
    "start_time": "2021-11-10T18:47:50.498Z"
   },
   {
    "duration": 871,
    "start_time": "2021-11-10T18:47:50.524Z"
   },
   {
    "duration": 110,
    "start_time": "2021-11-10T18:47:51.398Z"
   },
   {
    "duration": 670,
    "start_time": "2021-11-10T18:47:51.511Z"
   },
   {
    "duration": 131,
    "start_time": "2021-11-10T18:47:52.184Z"
   },
   {
    "duration": 271,
    "start_time": "2021-11-10T18:47:52.317Z"
   },
   {
    "duration": 79,
    "start_time": "2021-11-10T18:47:52.590Z"
   },
   {
    "duration": 7,
    "start_time": "2021-11-10T18:47:52.672Z"
   },
   {
    "duration": 15,
    "start_time": "2021-11-10T18:47:52.682Z"
   },
   {
    "duration": 5667,
    "start_time": "2021-11-10T18:47:52.700Z"
   },
   {
    "duration": 4,
    "start_time": "2021-11-10T18:47:58.370Z"
   },
   {
    "duration": 13568,
    "start_time": "2021-11-10T18:47:58.379Z"
   },
   {
    "duration": 658,
    "start_time": "2021-11-10T18:48:11.950Z"
   },
   {
    "duration": 377,
    "start_time": "2021-11-10T18:52:58.178Z"
   },
   {
    "duration": 6,
    "start_time": "2021-11-10T18:53:34.990Z"
   },
   {
    "duration": 503,
    "start_time": "2021-11-10T18:53:38.712Z"
   },
   {
    "duration": 5,
    "start_time": "2021-11-10T18:54:00.937Z"
   },
   {
    "duration": 429,
    "start_time": "2021-11-10T18:54:06.226Z"
   },
   {
    "duration": 80,
    "start_time": "2021-11-10T18:54:52.179Z"
   },
   {
    "duration": 1911,
    "start_time": "2021-11-11T06:12:07.443Z"
   },
   {
    "duration": 1270,
    "start_time": "2021-11-11T06:12:09.357Z"
   },
   {
    "duration": 69,
    "start_time": "2021-11-11T06:12:10.631Z"
   },
   {
    "duration": 277,
    "start_time": "2021-11-11T06:12:10.704Z"
   },
   {
    "duration": 170,
    "start_time": "2021-11-11T06:12:10.984Z"
   },
   {
    "duration": 161,
    "start_time": "2021-11-11T06:12:11.156Z"
   },
   {
    "duration": 230,
    "start_time": "2021-11-11T06:12:11.319Z"
   },
   {
    "duration": 66287,
    "start_time": "2021-11-11T06:12:11.559Z"
   },
   {
    "duration": 78,
    "start_time": "2021-11-11T06:13:17.850Z"
   },
   {
    "duration": 201,
    "start_time": "2021-11-11T06:13:17.931Z"
   },
   {
    "duration": 207,
    "start_time": "2021-11-11T06:13:18.135Z"
   },
   {
    "duration": 27,
    "start_time": "2021-11-11T06:13:18.344Z"
   },
   {
    "duration": 441,
    "start_time": "2021-11-11T06:13:18.374Z"
   },
   {
    "duration": 110,
    "start_time": "2021-11-11T06:13:18.817Z"
   },
   {
    "duration": 606,
    "start_time": "2021-11-11T06:13:18.929Z"
   },
   {
    "duration": 128,
    "start_time": "2021-11-11T06:13:19.537Z"
   },
   {
    "duration": 277,
    "start_time": "2021-11-11T06:13:19.668Z"
   },
   {
    "duration": 64,
    "start_time": "2021-11-11T06:13:19.947Z"
   },
   {
    "duration": 6,
    "start_time": "2021-11-11T06:13:20.013Z"
   },
   {
    "duration": 14,
    "start_time": "2021-11-11T06:13:20.021Z"
   },
   {
    "duration": 5000,
    "start_time": "2021-11-11T06:13:20.059Z"
   },
   {
    "duration": 3,
    "start_time": "2021-11-11T06:13:25.062Z"
   },
   {
    "duration": 13936,
    "start_time": "2021-11-11T06:13:25.067Z"
   },
   {
    "duration": 443,
    "start_time": "2021-11-11T06:13:39.005Z"
   },
   {
    "duration": 111,
    "start_time": "2021-11-11T06:13:39.450Z"
   },
   {
    "duration": 22,
    "start_time": "2021-11-11T07:06:13.709Z"
   },
   {
    "duration": 2771,
    "start_time": "2021-11-11T07:09:26.455Z"
   },
   {
    "duration": 439,
    "start_time": "2021-11-11T07:12:06.095Z"
   },
   {
    "duration": 3,
    "start_time": "2021-11-11T07:12:35.124Z"
   },
   {
    "duration": 5,
    "start_time": "2021-11-11T07:12:44.653Z"
   },
   {
    "duration": 6,
    "start_time": "2021-11-11T07:13:36.548Z"
   },
   {
    "duration": 5,
    "start_time": "2021-11-11T07:14:07.522Z"
   },
   {
    "duration": 5,
    "start_time": "2021-11-11T07:14:30.427Z"
   },
   {
    "duration": 5,
    "start_time": "2021-11-11T07:14:39.459Z"
   },
   {
    "duration": 5,
    "start_time": "2021-11-11T07:14:45.971Z"
   },
   {
    "duration": 7,
    "start_time": "2021-11-11T07:16:06.064Z"
   },
   {
    "duration": 6,
    "start_time": "2021-11-11T07:16:22.372Z"
   },
   {
    "duration": 6,
    "start_time": "2021-11-11T07:16:34.847Z"
   },
   {
    "duration": 662,
    "start_time": "2021-11-11T07:16:49.196Z"
   },
   {
    "duration": 6,
    "start_time": "2021-11-11T07:17:03.734Z"
   },
   {
    "duration": 141,
    "start_time": "2021-11-11T07:18:27.269Z"
   },
   {
    "duration": 6,
    "start_time": "2021-11-11T07:18:31.566Z"
   },
   {
    "duration": 458,
    "start_time": "2021-11-11T07:19:10.106Z"
   },
   {
    "duration": 598,
    "start_time": "2021-11-11T07:19:26.353Z"
   },
   {
    "duration": 754,
    "start_time": "2021-11-11T07:19:43.670Z"
   },
   {
    "duration": 7,
    "start_time": "2021-11-11T07:20:28.136Z"
   },
   {
    "duration": 6,
    "start_time": "2021-11-11T07:20:58.352Z"
   },
   {
    "duration": 314,
    "start_time": "2021-11-11T07:21:14.877Z"
   },
   {
    "duration": 362,
    "start_time": "2021-11-11T07:27:08.812Z"
   },
   {
    "duration": 5,
    "start_time": "2021-11-11T07:27:50.034Z"
   },
   {
    "duration": 150,
    "start_time": "2021-11-11T07:28:24.270Z"
   },
   {
    "duration": 324,
    "start_time": "2021-11-11T07:28:35.523Z"
   },
   {
    "duration": 138,
    "start_time": "2021-11-11T07:32:52.174Z"
   },
   {
    "duration": 400,
    "start_time": "2021-11-11T07:33:07.030Z"
   },
   {
    "duration": 502,
    "start_time": "2021-11-11T07:33:32.042Z"
   },
   {
    "duration": 195,
    "start_time": "2021-11-11T07:47:29.046Z"
   },
   {
    "duration": 318,
    "start_time": "2021-11-11T07:47:38.980Z"
   },
   {
    "duration": 320,
    "start_time": "2021-11-11T07:53:10.419Z"
   },
   {
    "duration": 264,
    "start_time": "2021-11-11T07:53:21.950Z"
   },
   {
    "duration": 298,
    "start_time": "2021-11-11T08:11:09.094Z"
   },
   {
    "duration": 420,
    "start_time": "2021-11-11T08:11:42.612Z"
   },
   {
    "duration": 11233,
    "start_time": "2021-11-11T08:13:14.027Z"
   },
   {
    "duration": 27,
    "start_time": "2021-11-11T08:13:36.653Z"
   },
   {
    "duration": 52,
    "start_time": "2021-11-11T08:15:43.186Z"
   },
   {
    "duration": 644498,
    "start_time": "2021-11-11T08:16:21.811Z"
   },
   {
    "duration": 36069,
    "start_time": "2021-11-11T08:27:42.095Z"
   },
   {
    "duration": 443,
    "start_time": "2021-11-11T08:29:40.329Z"
   },
   {
    "duration": 65,
    "start_time": "2021-11-11T08:30:04.332Z"
   },
   {
    "duration": 320,
    "start_time": "2021-11-11T08:30:07.592Z"
   },
   {
    "duration": 7,
    "start_time": "2021-11-11T08:31:48.612Z"
   },
   {
    "duration": 359,
    "start_time": "2021-11-11T08:32:12.044Z"
   },
   {
    "duration": 347,
    "start_time": "2021-11-11T08:33:13.987Z"
   },
   {
    "duration": 588,
    "start_time": "2021-11-11T08:37:46.932Z"
   },
   {
    "duration": 326,
    "start_time": "2021-11-11T08:41:23.407Z"
   },
   {
    "duration": 5,
    "start_time": "2021-11-11T08:43:15.459Z"
   },
   {
    "duration": 159,
    "start_time": "2021-11-11T08:47:33.908Z"
   },
   {
    "duration": 4,
    "start_time": "2021-11-11T08:47:40.082Z"
   },
   {
    "duration": 6,
    "start_time": "2021-11-11T08:47:46.275Z"
   },
   {
    "duration": 678,
    "start_time": "2021-11-11T08:48:14.499Z"
   },
   {
    "duration": 7,
    "start_time": "2021-11-11T08:48:33.741Z"
   },
   {
    "duration": 8,
    "start_time": "2021-11-11T08:48:49.555Z"
   },
   {
    "duration": 310,
    "start_time": "2021-11-11T08:48:52.978Z"
   },
   {
    "duration": 4,
    "start_time": "2021-11-11T08:49:34.942Z"
   },
   {
    "duration": 5,
    "start_time": "2021-11-11T08:49:40.360Z"
   },
   {
    "duration": 4,
    "start_time": "2021-11-11T08:49:47.493Z"
   },
   {
    "duration": 406,
    "start_time": "2021-11-11T08:51:57.059Z"
   },
   {
    "duration": 32,
    "start_time": "2021-11-11T09:03:52.875Z"
   },
   {
    "duration": 17708,
    "start_time": "2021-11-11T09:23:54.643Z"
   },
   {
    "duration": 18153,
    "start_time": "2021-11-11T09:27:26.424Z"
   },
   {
    "duration": 17144,
    "start_time": "2021-11-11T09:28:53.889Z"
   },
   {
    "duration": 469,
    "start_time": "2021-11-11T09:32:01.044Z"
   },
   {
    "duration": 17735,
    "start_time": "2021-11-11T09:32:47.196Z"
   },
   {
    "duration": 16997,
    "start_time": "2021-11-11T09:34:02.516Z"
   },
   {
    "duration": 26,
    "start_time": "2021-11-11T10:05:14.381Z"
   },
   {
    "duration": 482,
    "start_time": "2021-11-11T10:05:30.544Z"
   },
   {
    "duration": 27,
    "start_time": "2021-11-11T10:06:10.286Z"
   },
   {
    "duration": 6912,
    "start_time": "2021-11-11T10:06:22.904Z"
   },
   {
    "duration": 6839,
    "start_time": "2021-11-11T10:07:08.407Z"
   },
   {
    "duration": 7347,
    "start_time": "2021-11-11T10:59:56.109Z"
   },
   {
    "duration": 7022,
    "start_time": "2021-11-11T11:00:32.223Z"
   },
   {
    "duration": 475,
    "start_time": "2021-11-11T11:03:04.293Z"
   },
   {
    "duration": 6,
    "start_time": "2021-11-11T11:03:27.832Z"
   },
   {
    "duration": 17791,
    "start_time": "2021-11-11T11:03:33.040Z"
   },
   {
    "duration": 6825,
    "start_time": "2021-11-11T11:04:00.778Z"
   },
   {
    "duration": 20561,
    "start_time": "2021-11-11T11:09:26.131Z"
   },
   {
    "duration": 4,
    "start_time": "2021-11-11T11:10:28.660Z"
   },
   {
    "duration": 18575,
    "start_time": "2021-11-11T11:10:48.684Z"
   },
   {
    "duration": 7,
    "start_time": "2021-11-11T11:11:25.038Z"
   },
   {
    "duration": 7110,
    "start_time": "2021-11-11T11:12:06.704Z"
   },
   {
    "duration": 29,
    "start_time": "2021-11-11T11:12:49.113Z"
   },
   {
    "duration": 6,
    "start_time": "2021-11-11T11:13:28.382Z"
   },
   {
    "duration": 5793,
    "start_time": "2021-11-11T11:13:28.391Z"
   },
   {
    "duration": 32,
    "start_time": "2021-11-11T11:13:34.187Z"
   },
   {
    "duration": 164,
    "start_time": "2021-11-11T11:13:34.222Z"
   },
   {
    "duration": 153,
    "start_time": "2021-11-11T11:13:34.388Z"
   },
   {
    "duration": 162,
    "start_time": "2021-11-11T11:13:34.544Z"
   },
   {
    "duration": 219,
    "start_time": "2021-11-11T11:13:34.709Z"
   },
   {
    "duration": 65455,
    "start_time": "2021-11-11T11:13:34.930Z"
   },
   {
    "duration": 113,
    "start_time": "2021-11-11T11:14:40.389Z"
   },
   {
    "duration": 180,
    "start_time": "2021-11-11T11:14:40.505Z"
   },
   {
    "duration": 230,
    "start_time": "2021-11-11T11:14:40.688Z"
   },
   {
    "duration": 25,
    "start_time": "2021-11-11T11:14:40.921Z"
   },
   {
    "duration": 808,
    "start_time": "2021-11-11T11:14:40.960Z"
   },
   {
    "duration": 140,
    "start_time": "2021-11-11T11:14:41.771Z"
   },
   {
    "duration": 645,
    "start_time": "2021-11-11T11:14:41.914Z"
   },
   {
    "duration": 120,
    "start_time": "2021-11-11T11:14:42.562Z"
   },
   {
    "duration": 5,
    "start_time": "2021-11-11T11:14:42.684Z"
   },
   {
    "duration": 358,
    "start_time": "2021-11-11T11:14:42.693Z"
   },
   {
    "duration": 91,
    "start_time": "2021-11-11T11:14:43.055Z"
   },
   {
    "duration": 16,
    "start_time": "2021-11-11T11:14:43.149Z"
   },
   {
    "duration": 12,
    "start_time": "2021-11-11T11:14:43.169Z"
   },
   {
    "duration": 8010,
    "start_time": "2021-11-11T11:14:43.184Z"
   },
   {
    "duration": 39,
    "start_time": "2021-11-11T11:14:59.659Z"
   },
   {
    "duration": 13742,
    "start_time": "2021-11-11T11:15:03.025Z"
   },
   {
    "duration": 7131,
    "start_time": "2021-11-11T11:16:13.355Z"
   },
   {
    "duration": 17464,
    "start_time": "2021-11-11T11:16:25.491Z"
   },
   {
    "duration": 113,
    "start_time": "2021-11-11T11:16:53.548Z"
   },
   {
    "duration": 138,
    "start_time": "2021-11-11T11:22:15.395Z"
   },
   {
    "duration": 127,
    "start_time": "2021-11-11T11:22:29.937Z"
   },
   {
    "duration": 8,
    "start_time": "2021-11-11T11:22:39.507Z"
   },
   {
    "duration": 5405,
    "start_time": "2021-11-11T11:22:45.669Z"
   },
   {
    "duration": 7,
    "start_time": "2021-11-11T11:38:35.084Z"
   },
   {
    "duration": 859,
    "start_time": "2021-11-11T11:38:35.095Z"
   },
   {
    "duration": 34,
    "start_time": "2021-11-11T11:38:35.960Z"
   },
   {
    "duration": 179,
    "start_time": "2021-11-11T11:38:35.997Z"
   },
   {
    "duration": 166,
    "start_time": "2021-11-11T11:38:36.179Z"
   },
   {
    "duration": 164,
    "start_time": "2021-11-11T11:38:36.348Z"
   },
   {
    "duration": 235,
    "start_time": "2021-11-11T11:38:36.514Z"
   },
   {
    "duration": 65051,
    "start_time": "2021-11-11T11:38:36.752Z"
   },
   {
    "duration": 88,
    "start_time": "2021-11-11T11:39:41.807Z"
   },
   {
    "duration": 234,
    "start_time": "2021-11-11T11:39:41.897Z"
   },
   {
    "duration": 208,
    "start_time": "2021-11-11T11:39:42.133Z"
   },
   {
    "duration": 28,
    "start_time": "2021-11-11T11:39:42.344Z"
   },
   {
    "duration": 451,
    "start_time": "2021-11-11T11:39:42.374Z"
   },
   {
    "duration": 107,
    "start_time": "2021-11-11T11:39:42.827Z"
   },
   {
    "duration": 661,
    "start_time": "2021-11-11T11:39:42.936Z"
   },
   {
    "duration": 129,
    "start_time": "2021-11-11T11:39:43.599Z"
   },
   {
    "duration": 5,
    "start_time": "2021-11-11T11:39:43.731Z"
   },
   {
    "duration": 312,
    "start_time": "2021-11-11T11:39:43.739Z"
   },
   {
    "duration": 67,
    "start_time": "2021-11-11T11:39:44.054Z"
   },
   {
    "duration": 7,
    "start_time": "2021-11-11T11:39:44.123Z"
   },
   {
    "duration": 29,
    "start_time": "2021-11-11T11:39:44.132Z"
   },
   {
    "duration": 5652,
    "start_time": "2021-11-11T11:39:44.163Z"
   },
   {
    "duration": 13252,
    "start_time": "2021-11-11T11:39:49.820Z"
   },
   {
    "duration": 6912,
    "start_time": "2021-11-11T11:40:03.075Z"
   },
   {
    "duration": 17202,
    "start_time": "2021-11-11T11:40:09.989Z"
   },
   {
    "duration": 73,
    "start_time": "2021-11-11T11:40:27.193Z"
   },
   {
    "duration": 119,
    "start_time": "2021-11-11T11:57:53.320Z"
   },
   {
    "duration": 128,
    "start_time": "2021-11-11T12:04:47.845Z"
   },
   {
    "duration": 4,
    "start_time": "2021-11-11T12:07:50.417Z"
   },
   {
    "duration": 5,
    "start_time": "2021-11-11T12:07:55.833Z"
   },
   {
    "duration": 1054,
    "start_time": "2021-11-11T12:09:37.554Z"
   },
   {
    "duration": 465,
    "start_time": "2021-11-11T12:09:48.587Z"
   },
   {
    "duration": 393,
    "start_time": "2021-11-11T12:09:57.683Z"
   },
   {
    "duration": 392,
    "start_time": "2021-11-11T12:11:52.022Z"
   },
   {
    "duration": 361,
    "start_time": "2021-11-11T12:13:46.830Z"
   },
   {
    "duration": 372,
    "start_time": "2021-11-11T12:15:38.986Z"
   },
   {
    "duration": 13,
    "start_time": "2021-11-11T12:15:58.539Z"
   },
   {
    "duration": 354,
    "start_time": "2021-11-11T12:16:26.861Z"
   },
   {
    "duration": 369,
    "start_time": "2021-11-11T12:16:38.143Z"
   },
   {
    "duration": 6,
    "start_time": "2021-11-11T12:16:49.027Z"
   },
   {
    "duration": 13,
    "start_time": "2021-11-11T12:16:54.257Z"
   },
   {
    "duration": 17199,
    "start_time": "2021-11-11T12:20:10.119Z"
   },
   {
    "duration": 5052,
    "start_time": "2021-11-11T12:22:29.998Z"
   },
   {
    "duration": 4,
    "start_time": "2021-11-11T12:22:51.805Z"
   },
   {
    "duration": 5255,
    "start_time": "2021-11-11T12:24:18.459Z"
   },
   {
    "duration": 19017,
    "start_time": "2021-11-11T12:24:23.717Z"
   },
   {
    "duration": 6817,
    "start_time": "2021-11-11T12:24:42.737Z"
   },
   {
    "duration": 17490,
    "start_time": "2021-11-11T12:24:49.560Z"
   },
   {
    "duration": 108,
    "start_time": "2021-11-11T12:25:07.053Z"
   },
   {
    "duration": 103,
    "start_time": "2021-11-11T12:25:07.164Z"
   },
   {
    "duration": 7,
    "start_time": "2021-11-11T12:25:07.270Z"
   },
   {
    "duration": 6,
    "start_time": "2021-11-11T12:28:56.095Z"
   },
   {
    "duration": 864,
    "start_time": "2021-11-11T12:28:56.104Z"
   },
   {
    "duration": 34,
    "start_time": "2021-11-11T12:28:56.971Z"
   },
   {
    "duration": 215,
    "start_time": "2021-11-11T12:28:57.009Z"
   },
   {
    "duration": 304,
    "start_time": "2021-11-11T12:28:57.227Z"
   },
   {
    "duration": 311,
    "start_time": "2021-11-11T12:28:57.534Z"
   },
   {
    "duration": 306,
    "start_time": "2021-11-11T12:28:57.848Z"
   },
   {
    "duration": 67516,
    "start_time": "2021-11-11T12:28:58.157Z"
   },
   {
    "duration": 129,
    "start_time": "2021-11-11T12:30:05.678Z"
   },
   {
    "duration": 234,
    "start_time": "2021-11-11T12:30:05.809Z"
   },
   {
    "duration": 307,
    "start_time": "2021-11-11T12:30:06.046Z"
   },
   {
    "duration": 29,
    "start_time": "2021-11-11T12:30:06.356Z"
   },
   {
    "duration": 882,
    "start_time": "2021-11-11T12:30:06.389Z"
   },
   {
    "duration": 136,
    "start_time": "2021-11-11T12:30:07.274Z"
   },
   {
    "duration": 893,
    "start_time": "2021-11-11T12:30:07.413Z"
   },
   {
    "duration": 133,
    "start_time": "2021-11-11T12:30:08.308Z"
   },
   {
    "duration": 4,
    "start_time": "2021-11-11T12:30:08.444Z"
   },
   {
    "duration": 356,
    "start_time": "2021-11-11T12:30:08.451Z"
   },
   {
    "duration": 90,
    "start_time": "2021-11-11T12:30:08.811Z"
   },
   {
    "duration": 7,
    "start_time": "2021-11-11T12:30:08.904Z"
   },
   {
    "duration": 19,
    "start_time": "2021-11-11T12:30:08.914Z"
   },
   {
    "duration": 7966,
    "start_time": "2021-11-11T12:30:08.936Z"
   },
   {
    "duration": 14684,
    "start_time": "2021-11-11T12:30:16.908Z"
   },
   {
    "duration": 7231,
    "start_time": "2021-11-11T12:30:31.595Z"
   },
   {
    "duration": 17926,
    "start_time": "2021-11-11T12:30:38.829Z"
   },
   {
    "duration": 122,
    "start_time": "2021-11-11T12:30:56.757Z"
   },
   {
    "duration": 14,
    "start_time": "2021-11-11T12:30:56.960Z"
   },
   {
    "duration": 7,
    "start_time": "2021-11-11T12:30:56.977Z"
   },
   {
    "duration": 7039,
    "start_time": "2021-11-11T12:39:21.676Z"
   },
   {
    "duration": 3,
    "start_time": "2021-11-11T12:39:38.021Z"
   },
   {
    "duration": 4,
    "start_time": "2021-11-11T12:39:47.332Z"
   },
   {
    "duration": 6957,
    "start_time": "2021-11-11T12:39:52.967Z"
   },
   {
    "duration": 4,
    "start_time": "2021-11-11T12:40:01.956Z"
   },
   {
    "duration": 7337,
    "start_time": "2021-11-11T12:40:12.033Z"
   },
   {
    "duration": 4,
    "start_time": "2021-11-11T12:40:21.438Z"
   },
   {
    "duration": 7401,
    "start_time": "2021-11-11T12:41:19.577Z"
   },
   {
    "duration": 4,
    "start_time": "2021-11-11T12:41:32.054Z"
   },
   {
    "duration": 5,
    "start_time": "2021-11-11T12:46:38.107Z"
   },
   {
    "duration": 143,
    "start_time": "2021-11-11T12:46:48.916Z"
   },
   {
    "duration": 18263,
    "start_time": "2021-11-11T12:46:59.550Z"
   },
   {
    "duration": 375,
    "start_time": "2021-11-11T12:48:47.401Z"
   },
   {
    "duration": 8,
    "start_time": "2021-11-11T12:48:56.969Z"
   },
   {
    "duration": 879,
    "start_time": "2021-11-11T12:48:56.980Z"
   },
   {
    "duration": 34,
    "start_time": "2021-11-11T12:48:57.863Z"
   },
   {
    "duration": 188,
    "start_time": "2021-11-11T12:48:57.900Z"
   },
   {
    "duration": 170,
    "start_time": "2021-11-11T12:48:58.090Z"
   },
   {
    "duration": 269,
    "start_time": "2021-11-11T12:48:58.264Z"
   },
   {
    "duration": 347,
    "start_time": "2021-11-11T12:48:58.536Z"
   },
   {
    "duration": 95382,
    "start_time": "2021-11-11T12:48:58.888Z"
   },
   {
    "duration": 90,
    "start_time": "2021-11-11T12:50:34.273Z"
   },
   {
    "duration": 188,
    "start_time": "2021-11-11T12:50:34.365Z"
   },
   {
    "duration": 211,
    "start_time": "2021-11-11T12:50:34.559Z"
   },
   {
    "duration": 24,
    "start_time": "2021-11-11T12:50:34.772Z"
   },
   {
    "duration": 507,
    "start_time": "2021-11-11T12:50:34.799Z"
   },
   {
    "duration": 107,
    "start_time": "2021-11-11T12:50:35.308Z"
   },
   {
    "duration": 648,
    "start_time": "2021-11-11T12:50:35.418Z"
   },
   {
    "duration": 153,
    "start_time": "2021-11-11T12:50:36.069Z"
   },
   {
    "duration": 5,
    "start_time": "2021-11-11T12:50:36.226Z"
   },
   {
    "duration": 292,
    "start_time": "2021-11-11T12:50:36.234Z"
   },
   {
    "duration": 70,
    "start_time": "2021-11-11T12:50:36.528Z"
   },
   {
    "duration": 6,
    "start_time": "2021-11-11T12:50:36.600Z"
   },
   {
    "duration": 7,
    "start_time": "2021-11-11T12:50:36.609Z"
   },
   {
    "duration": 5333,
    "start_time": "2021-11-11T12:50:36.618Z"
   },
   {
    "duration": 14051,
    "start_time": "2021-11-11T12:50:41.962Z"
   },
   {
    "duration": 10093,
    "start_time": "2021-11-11T12:50:56.017Z"
   },
   {
    "duration": 18182,
    "start_time": "2021-11-11T12:51:06.114Z"
   },
   {
    "duration": 160,
    "start_time": "2021-11-11T12:51:24.299Z"
   },
   {
    "duration": 378,
    "start_time": "2021-11-11T12:51:24.463Z"
   },
   {
    "duration": -308,
    "start_time": "2021-11-11T12:51:25.151Z"
   },
   {
    "duration": 15,
    "start_time": "2021-11-11T12:52:13.016Z"
   },
   {
    "duration": 393,
    "start_time": "2021-11-11T12:54:09.503Z"
   },
   {
    "duration": 18,
    "start_time": "2021-11-11T12:54:22.287Z"
   },
   {
    "duration": 15,
    "start_time": "2021-11-11T12:54:39.665Z"
   },
   {
    "duration": 1467,
    "start_time": "2021-11-11T20:45:53.212Z"
   },
   {
    "duration": 7827,
    "start_time": "2021-11-11T20:45:54.681Z"
   },
   {
    "duration": 46,
    "start_time": "2021-11-11T20:46:02.510Z"
   },
   {
    "duration": 191,
    "start_time": "2021-11-11T20:46:02.558Z"
   },
   {
    "duration": 43,
    "start_time": "2021-11-11T20:46:10.753Z"
   },
   {
    "duration": 168,
    "start_time": "2021-11-11T20:46:41.184Z"
   },
   {
    "duration": 209,
    "start_time": "2021-11-11T20:46:41.523Z"
   },
   {
    "duration": 260,
    "start_time": "2021-11-11T20:46:41.735Z"
   },
   {
    "duration": 64363,
    "start_time": "2021-11-11T20:46:42.633Z"
   },
   {
    "duration": 92,
    "start_time": "2021-11-11T20:47:46.999Z"
   },
   {
    "duration": 247,
    "start_time": "2021-11-11T20:47:47.095Z"
   },
   {
    "duration": 280,
    "start_time": "2021-11-11T20:47:47.346Z"
   },
   {
    "duration": 25,
    "start_time": "2021-11-11T20:47:47.628Z"
   },
   {
    "duration": 671,
    "start_time": "2021-11-11T20:47:47.656Z"
   },
   {
    "duration": 34,
    "start_time": "2021-11-11T20:47:48.329Z"
   },
   {
    "duration": 639,
    "start_time": "2021-11-11T20:47:48.367Z"
   },
   {
    "duration": 198,
    "start_time": "2021-11-11T20:47:49.009Z"
   },
   {
    "duration": 4,
    "start_time": "2021-11-11T20:47:49.210Z"
   },
   {
    "duration": 280,
    "start_time": "2021-11-11T20:47:49.216Z"
   },
   {
    "duration": 53,
    "start_time": "2021-11-11T20:47:49.498Z"
   },
   {
    "duration": 5,
    "start_time": "2021-11-11T20:47:49.553Z"
   },
   {
    "duration": 23,
    "start_time": "2021-11-11T20:47:49.560Z"
   },
   {
    "duration": 30,
    "start_time": "2021-11-11T20:47:49.586Z"
   },
   {
    "duration": 1364,
    "start_time": "2021-11-12T06:54:49.529Z"
   },
   {
    "duration": 2494,
    "start_time": "2021-11-12T06:54:55.004Z"
   },
   {
    "duration": 9111,
    "start_time": "2021-11-12T06:55:00.252Z"
   },
   {
    "duration": 89,
    "start_time": "2021-11-12T06:56:38.529Z"
   },
   {
    "duration": 523,
    "start_time": "2021-11-12T06:57:04.623Z"
   },
   {
    "duration": 78,
    "start_time": "2021-11-12T06:57:13.151Z"
   },
   {
    "duration": 72,
    "start_time": "2021-11-12T06:57:21.534Z"
   },
   {
    "duration": 7,
    "start_time": "2021-11-12T06:58:35.041Z"
   },
   {
    "duration": 8,
    "start_time": "2021-11-12T06:58:50.073Z"
   },
   {
    "duration": 667,
    "start_time": "2021-11-12T06:59:03.793Z"
   },
   {
    "duration": 386,
    "start_time": "2021-11-12T06:59:22.925Z"
   },
   {
    "duration": 598,
    "start_time": "2021-11-12T06:59:40.556Z"
   },
   {
    "duration": 521,
    "start_time": "2021-11-12T06:59:57.982Z"
   },
   {
    "duration": 566,
    "start_time": "2021-11-12T07:00:09.111Z"
   },
   {
    "duration": 591,
    "start_time": "2021-11-12T07:00:16.222Z"
   },
   {
    "duration": 568,
    "start_time": "2021-11-12T07:00:20.133Z"
   },
   {
    "duration": 559,
    "start_time": "2021-11-12T07:00:40.368Z"
   },
   {
    "duration": 543,
    "start_time": "2021-11-12T07:00:52.973Z"
   },
   {
    "duration": 558,
    "start_time": "2021-11-12T07:01:09.087Z"
   },
   {
    "duration": 410,
    "start_time": "2021-11-12T07:02:16.164Z"
   },
   {
    "duration": 515,
    "start_time": "2021-11-12T07:02:32.322Z"
   },
   {
    "duration": 157,
    "start_time": "2021-11-12T07:03:31.858Z"
   },
   {
    "duration": 275,
    "start_time": "2021-11-12T07:03:35.992Z"
   },
   {
    "duration": 382,
    "start_time": "2021-11-12T07:04:21.898Z"
   },
   {
    "duration": 335,
    "start_time": "2021-11-12T07:04:41.469Z"
   },
   {
    "duration": 199,
    "start_time": "2021-11-12T07:06:16.765Z"
   },
   {
    "duration": 12,
    "start_time": "2021-11-12T07:12:59.409Z"
   },
   {
    "duration": 49,
    "start_time": "2021-11-12T07:14:08.153Z"
   },
   {
    "duration": 57,
    "start_time": "2021-11-12T07:15:53.208Z"
   },
   {
    "duration": 50,
    "start_time": "2021-11-12T07:16:54.226Z"
   },
   {
    "duration": 50,
    "start_time": "2021-11-12T07:16:56.533Z"
   },
   {
    "duration": 49,
    "start_time": "2021-11-12T07:16:58.642Z"
   },
   {
    "duration": 65,
    "start_time": "2021-11-12T07:17:59.012Z"
   },
   {
    "duration": 14,
    "start_time": "2021-11-12T07:21:12.919Z"
   },
   {
    "duration": 47,
    "start_time": "2021-11-12T07:21:17.942Z"
   },
   {
    "duration": 13,
    "start_time": "2021-11-12T07:24:42.120Z"
   },
   {
    "duration": 40,
    "start_time": "2021-11-12T07:25:08.869Z"
   },
   {
    "duration": 12,
    "start_time": "2021-11-12T07:25:33.936Z"
   },
   {
    "duration": 14,
    "start_time": "2021-11-12T07:26:13.598Z"
   },
   {
    "duration": 41,
    "start_time": "2021-11-12T07:26:36.246Z"
   },
   {
    "duration": 42,
    "start_time": "2021-11-12T07:26:44.110Z"
   },
   {
    "duration": 374,
    "start_time": "2021-11-12T07:33:30.512Z"
   },
   {
    "duration": 6,
    "start_time": "2021-11-12T07:34:24.418Z"
   },
   {
    "duration": 6,
    "start_time": "2021-11-12T07:34:31.202Z"
   },
   {
    "duration": 473,
    "start_time": "2021-11-12T07:34:47.058Z"
   },
   {
    "duration": 406,
    "start_time": "2021-11-12T07:35:15.276Z"
   },
   {
    "duration": 5,
    "start_time": "2021-11-12T07:35:23.331Z"
   },
   {
    "duration": 374,
    "start_time": "2021-11-12T07:35:48.252Z"
   },
   {
    "duration": 423,
    "start_time": "2021-11-12T07:38:33.708Z"
   },
   {
    "duration": 124,
    "start_time": "2021-11-12T07:41:54.649Z"
   },
   {
    "duration": 424,
    "start_time": "2021-11-12T07:42:01.912Z"
   },
   {
    "duration": 376,
    "start_time": "2021-11-12T07:42:34.664Z"
   },
   {
    "duration": 411,
    "start_time": "2021-11-12T07:42:50.650Z"
   },
   {
    "duration": 5,
    "start_time": "2021-11-12T07:43:00.879Z"
   },
   {
    "duration": 6,
    "start_time": "2021-11-12T07:43:07.376Z"
   },
   {
    "duration": 8207,
    "start_time": "2021-11-12T07:44:21.866Z"
   },
   {
    "duration": 37,
    "start_time": "2021-11-12T07:44:48.578Z"
   },
   {
    "duration": 17,
    "start_time": "2021-11-12T07:47:25.083Z"
   },
   {
    "duration": 40,
    "start_time": "2021-11-12T07:47:35.421Z"
   },
   {
    "duration": 39,
    "start_time": "2021-11-12T07:47:57.029Z"
   },
   {
    "duration": 44,
    "start_time": "2021-11-12T07:48:14.007Z"
   },
   {
    "duration": 39,
    "start_time": "2021-11-12T07:49:03.023Z"
   },
   {
    "duration": 50,
    "start_time": "2021-11-12T07:56:44.716Z"
   },
   {
    "duration": 354,
    "start_time": "2021-11-12T07:58:21.293Z"
   },
   {
    "duration": 77,
    "start_time": "2021-11-12T08:09:23.717Z"
   },
   {
    "duration": 55,
    "start_time": "2021-11-12T08:14:19.987Z"
   },
   {
    "duration": 55,
    "start_time": "2021-11-12T08:14:46.541Z"
   },
   {
    "duration": 54,
    "start_time": "2021-11-12T08:15:17.108Z"
   },
   {
    "duration": 80,
    "start_time": "2021-11-12T08:15:35.851Z"
   },
   {
    "duration": 54,
    "start_time": "2021-11-12T08:20:08.485Z"
   },
   {
    "duration": 147,
    "start_time": "2021-11-12T08:20:28.151Z"
   },
   {
    "duration": 690,
    "start_time": "2021-11-12T08:21:36.984Z"
   },
   {
    "duration": 316,
    "start_time": "2021-11-12T08:22:04.410Z"
   },
   {
    "duration": 623,
    "start_time": "2021-11-12T08:23:01.155Z"
   },
   {
    "duration": 131,
    "start_time": "2021-11-12T08:23:18.489Z"
   },
   {
    "duration": 62,
    "start_time": "2021-11-12T08:24:06.146Z"
   },
   {
    "duration": 13,
    "start_time": "2021-11-12T08:24:37.132Z"
   },
   {
    "duration": 8,
    "start_time": "2021-11-12T08:25:12.633Z"
   },
   {
    "duration": 40,
    "start_time": "2021-11-12T08:25:21.627Z"
   },
   {
    "duration": 36,
    "start_time": "2021-11-12T08:37:26.278Z"
   },
   {
    "duration": 39,
    "start_time": "2021-11-12T08:38:54.928Z"
   },
   {
    "duration": 11,
    "start_time": "2021-11-12T08:45:22.691Z"
   },
   {
    "duration": 19,
    "start_time": "2021-11-12T08:45:30.642Z"
   },
   {
    "duration": 12,
    "start_time": "2021-11-12T08:45:41.346Z"
   },
   {
    "duration": 11,
    "start_time": "2021-11-12T08:45:46.288Z"
   },
   {
    "duration": 46,
    "start_time": "2021-11-12T08:46:11.674Z"
   },
   {
    "duration": 9,
    "start_time": "2021-11-12T08:46:30.219Z"
   },
   {
    "duration": 8,
    "start_time": "2021-11-12T08:49:27.156Z"
   },
   {
    "duration": 12,
    "start_time": "2021-11-12T08:51:00.146Z"
   },
   {
    "duration": 10,
    "start_time": "2021-11-12T08:51:42.571Z"
   },
   {
    "duration": 20,
    "start_time": "2021-11-12T08:52:16.453Z"
   },
   {
    "duration": 18,
    "start_time": "2021-11-12T08:52:36.284Z"
   },
   {
    "duration": 24,
    "start_time": "2021-11-12T08:53:59.505Z"
   },
   {
    "duration": 21,
    "start_time": "2021-11-12T08:54:00.053Z"
   },
   {
    "duration": 10,
    "start_time": "2021-11-12T08:54:00.076Z"
   },
   {
    "duration": 54,
    "start_time": "2021-11-12T08:54:04.900Z"
   },
   {
    "duration": 23,
    "start_time": "2021-11-12T08:54:44.674Z"
   },
   {
    "duration": 84,
    "start_time": "2021-11-12T09:22:06.792Z"
   },
   {
    "duration": 7,
    "start_time": "2021-11-12T09:24:10.866Z"
   },
   {
    "duration": 349,
    "start_time": "2021-11-12T09:26:30.306Z"
   },
   {
    "duration": 9,
    "start_time": "2021-11-12T09:26:55.674Z"
   },
   {
    "duration": 840,
    "start_time": "2021-11-12T09:27:03.970Z"
   },
   {
    "duration": 10,
    "start_time": "2021-11-12T09:27:08.536Z"
   },
   {
    "duration": 229,
    "start_time": "2021-11-12T09:29:22.792Z"
   },
   {
    "duration": 5,
    "start_time": "2021-11-12T09:29:31.811Z"
   },
   {
    "duration": 844,
    "start_time": "2021-11-12T09:30:02.557Z"
   },
   {
    "duration": 278,
    "start_time": "2021-11-12T09:30:06.893Z"
   },
   {
    "duration": 5,
    "start_time": "2021-11-12T09:30:08.630Z"
   },
   {
    "duration": 174,
    "start_time": "2021-11-12T09:30:22.247Z"
   },
   {
    "duration": 141,
    "start_time": "2021-11-12T09:30:35.044Z"
   },
   {
    "duration": 140,
    "start_time": "2021-11-12T09:35:01.043Z"
   },
   {
    "duration": 142,
    "start_time": "2021-11-12T09:35:12.755Z"
   },
   {
    "duration": 172,
    "start_time": "2021-11-12T09:35:38.180Z"
   },
   {
    "duration": 193,
    "start_time": "2021-11-12T09:37:30.320Z"
   },
   {
    "duration": 386,
    "start_time": "2021-11-12T09:39:07.292Z"
   },
   {
    "duration": 9092,
    "start_time": "2021-11-12T09:39:35.691Z"
   },
   {
    "duration": 75,
    "start_time": "2021-11-12T09:39:55.429Z"
   },
   {
    "duration": 371,
    "start_time": "2021-11-12T10:23:34.780Z"
   },
   {
    "duration": 19,
    "start_time": "2021-11-12T10:24:17.199Z"
   },
   {
    "duration": 40,
    "start_time": "2021-11-12T10:24:46.714Z"
   },
   {
    "duration": 136,
    "start_time": "2021-11-12T10:25:14.731Z"
   },
   {
    "duration": 43,
    "start_time": "2021-11-12T13:35:00.759Z"
   },
   {
    "duration": 36,
    "start_time": "2021-11-12T13:41:29.746Z"
   },
   {
    "duration": 1693,
    "start_time": "2021-11-14T06:30:53.084Z"
   },
   {
    "duration": 991,
    "start_time": "2021-11-14T06:30:54.779Z"
   },
   {
    "duration": 627,
    "start_time": "2021-11-14T06:30:55.774Z"
   },
   {
    "duration": 13,
    "start_time": "2021-11-14T06:30:56.404Z"
   },
   {
    "duration": 49,
    "start_time": "2021-11-14T06:30:56.419Z"
   },
   {
    "duration": 20,
    "start_time": "2021-11-14T06:30:56.472Z"
   },
   {
    "duration": 9,
    "start_time": "2021-11-14T06:30:56.495Z"
   },
   {
    "duration": 7,
    "start_time": "2021-11-14T06:30:56.507Z"
   },
   {
    "duration": 357,
    "start_time": "2021-11-14T06:30:56.518Z"
   },
   {
    "duration": 6,
    "start_time": "2021-11-14T06:30:56.878Z"
   },
   {
    "duration": 211,
    "start_time": "2021-11-14T06:30:56.886Z"
   },
   {
    "duration": 39,
    "start_time": "2021-11-14T06:30:57.099Z"
   },
   {
    "duration": 731994,
    "start_time": "2021-11-14T06:30:57.141Z"
   },
   {
    "duration": 158,
    "start_time": "2021-11-14T06:43:09.137Z"
   },
   {
    "duration": 140,
    "start_time": "2021-11-14T06:43:09.298Z"
   },
   {
    "duration": 152,
    "start_time": "2021-11-14T06:43:09.440Z"
   },
   {
    "duration": 216,
    "start_time": "2021-11-14T06:43:09.594Z"
   },
   {
    "duration": 31628,
    "start_time": "2021-11-14T06:43:09.812Z"
   },
   {
    "duration": -2796,
    "start_time": "2021-11-14T06:43:44.239Z"
   },
   {
    "duration": -2798,
    "start_time": "2021-11-14T06:43:44.242Z"
   },
   {
    "duration": -2800,
    "start_time": "2021-11-14T06:43:44.245Z"
   },
   {
    "duration": -2800,
    "start_time": "2021-11-14T06:43:44.247Z"
   },
   {
    "duration": -2915,
    "start_time": "2021-11-14T06:43:44.363Z"
   },
   {
    "duration": -2959,
    "start_time": "2021-11-14T06:43:44.408Z"
   },
   {
    "duration": -2960,
    "start_time": "2021-11-14T06:43:44.411Z"
   },
   {
    "duration": -2960,
    "start_time": "2021-11-14T06:43:44.413Z"
   },
   {
    "duration": -2960,
    "start_time": "2021-11-14T06:43:44.415Z"
   },
   {
    "duration": -2960,
    "start_time": "2021-11-14T06:43:44.417Z"
   },
   {
    "duration": -2962,
    "start_time": "2021-11-14T06:43:44.420Z"
   },
   {
    "duration": -2956,
    "start_time": "2021-11-14T06:43:44.421Z"
   },
   {
    "duration": -2955,
    "start_time": "2021-11-14T06:43:44.423Z"
   },
   {
    "duration": -2955,
    "start_time": "2021-11-14T06:43:44.425Z"
   },
   {
    "duration": -2954,
    "start_time": "2021-11-14T06:43:44.427Z"
   },
   {
    "duration": -2953,
    "start_time": "2021-11-14T06:43:44.428Z"
   },
   {
    "duration": -2953,
    "start_time": "2021-11-14T06:43:44.430Z"
   },
   {
    "duration": -2954,
    "start_time": "2021-11-14T06:43:44.432Z"
   },
   {
    "duration": -2953,
    "start_time": "2021-11-14T06:43:44.433Z"
   },
   {
    "duration": -2953,
    "start_time": "2021-11-14T06:43:44.437Z"
   },
   {
    "duration": 38,
    "start_time": "2021-11-14T06:43:48.074Z"
   },
   {
    "duration": 57,
    "start_time": "2021-11-14T06:44:18.773Z"
   },
   {
    "duration": 34,
    "start_time": "2021-11-14T06:44:50.720Z"
   },
   {
    "duration": 32,
    "start_time": "2021-11-14T06:45:24.609Z"
   },
   {
    "duration": 375,
    "start_time": "2021-11-14T06:47:55.349Z"
   },
   {
    "duration": 149,
    "start_time": "2021-11-14T06:48:13.600Z"
   },
   {
    "duration": 18,
    "start_time": "2021-11-14T06:48:18.411Z"
   },
   {
    "duration": 21,
    "start_time": "2021-11-14T06:48:28.908Z"
   },
   {
    "duration": 7,
    "start_time": "2021-11-14T06:51:35.974Z"
   },
   {
    "duration": 5039,
    "start_time": "2021-11-14T06:51:54.303Z"
   },
   {
    "duration": 142,
    "start_time": "2021-11-14T06:52:31.435Z"
   },
   {
    "duration": 1547,
    "start_time": "2021-11-14T06:55:23.608Z"
   },
   {
    "duration": 1067,
    "start_time": "2021-11-14T06:55:25.158Z"
   },
   {
    "duration": 590,
    "start_time": "2021-11-14T06:55:26.228Z"
   },
   {
    "duration": 11,
    "start_time": "2021-11-14T06:55:26.821Z"
   },
   {
    "duration": 44,
    "start_time": "2021-11-14T06:55:26.834Z"
   },
   {
    "duration": 17,
    "start_time": "2021-11-14T06:55:26.880Z"
   },
   {
    "duration": 7,
    "start_time": "2021-11-14T06:55:26.900Z"
   },
   {
    "duration": 14,
    "start_time": "2021-11-14T06:55:26.911Z"
   },
   {
    "duration": 361,
    "start_time": "2021-11-14T06:55:26.928Z"
   },
   {
    "duration": 5,
    "start_time": "2021-11-14T06:55:27.291Z"
   },
   {
    "duration": 214,
    "start_time": "2021-11-14T06:55:27.298Z"
   },
   {
    "duration": 60,
    "start_time": "2021-11-14T06:55:27.514Z"
   },
   {
    "duration": 28,
    "start_time": "2021-11-14T06:55:27.576Z"
   },
   {
    "duration": 3,
    "start_time": "2021-11-14T06:55:27.606Z"
   },
   {
    "duration": 176,
    "start_time": "2021-11-14T06:55:27.611Z"
   },
   {
    "duration": 147,
    "start_time": "2021-11-14T06:55:27.789Z"
   },
   {
    "duration": 158,
    "start_time": "2021-11-14T06:55:27.938Z"
   },
   {
    "duration": 203,
    "start_time": "2021-11-14T06:55:28.098Z"
   },
   {
    "duration": 64762,
    "start_time": "2021-11-14T06:55:28.304Z"
   },
   {
    "duration": 94,
    "start_time": "2021-11-14T06:56:33.069Z"
   },
   {
    "duration": 211,
    "start_time": "2021-11-14T06:56:33.168Z"
   },
   {
    "duration": 208,
    "start_time": "2021-11-14T06:56:33.382Z"
   },
   {
    "duration": 23,
    "start_time": "2021-11-14T06:56:33.595Z"
   },
   {
    "duration": 441,
    "start_time": "2021-11-14T06:56:33.621Z"
   },
   {
    "duration": 114,
    "start_time": "2021-11-14T06:56:34.066Z"
   },
   {
    "duration": 618,
    "start_time": "2021-11-14T06:56:34.182Z"
   },
   {
    "duration": 131,
    "start_time": "2021-11-14T06:56:34.803Z"
   },
   {
    "duration": 4,
    "start_time": "2021-11-14T06:56:34.936Z"
   },
   {
    "duration": 281,
    "start_time": "2021-11-14T06:56:34.942Z"
   },
   {
    "duration": 79,
    "start_time": "2021-11-14T06:56:35.226Z"
   },
   {
    "duration": 6,
    "start_time": "2021-11-14T06:56:35.307Z"
   },
   {
    "duration": 5,
    "start_time": "2021-11-14T06:56:35.315Z"
   },
   {
    "duration": 16821,
    "start_time": "2021-11-14T06:56:35.322Z"
   },
   {
    "duration": 13848,
    "start_time": "2021-11-14T06:56:52.146Z"
   },
   {
    "duration": 36974,
    "start_time": "2021-11-14T06:57:05.997Z"
   },
   {
    "duration": 17629,
    "start_time": "2021-11-14T06:57:42.976Z"
   },
   {
    "duration": 151,
    "start_time": "2021-11-14T06:58:00.607Z"
   },
   {
    "duration": 418,
    "start_time": "2021-11-14T06:58:00.765Z"
   },
   {
    "duration": 503,
    "start_time": "2021-11-14T07:06:17.554Z"
   },
   {
    "duration": 48,
    "start_time": "2021-11-14T07:07:00.978Z"
   },
   {
    "duration": 54,
    "start_time": "2021-11-14T07:07:22.635Z"
   },
   {
    "duration": 19,
    "start_time": "2021-11-14T07:09:15.422Z"
   },
   {
    "duration": 21,
    "start_time": "2021-11-14T07:09:30.225Z"
   },
   {
    "duration": 6,
    "start_time": "2021-11-14T07:09:47.513Z"
   },
   {
    "duration": 903,
    "start_time": "2021-11-14T07:09:47.523Z"
   },
   {
    "duration": 574,
    "start_time": "2021-11-14T07:09:48.429Z"
   },
   {
    "duration": 11,
    "start_time": "2021-11-14T07:09:49.006Z"
   },
   {
    "duration": 43,
    "start_time": "2021-11-14T07:09:49.019Z"
   },
   {
    "duration": 22,
    "start_time": "2021-11-14T07:09:49.066Z"
   },
   {
    "duration": 10,
    "start_time": "2021-11-14T07:09:49.090Z"
   },
   {
    "duration": 6,
    "start_time": "2021-11-14T07:09:49.102Z"
   },
   {
    "duration": 330,
    "start_time": "2021-11-14T07:09:49.112Z"
   },
   {
    "duration": 6,
    "start_time": "2021-11-14T07:09:49.444Z"
   },
   {
    "duration": 213,
    "start_time": "2021-11-14T07:09:49.461Z"
   },
   {
    "duration": 40,
    "start_time": "2021-11-14T07:09:49.676Z"
   },
   {
    "duration": 34,
    "start_time": "2021-11-14T07:09:57.271Z"
   },
   {
    "duration": 40,
    "start_time": "2021-11-14T07:11:37.499Z"
   },
   {
    "duration": 36,
    "start_time": "2021-11-14T07:11:59.117Z"
   },
   {
    "duration": 44,
    "start_time": "2021-11-14T07:14:33.039Z"
   },
   {
    "duration": 49,
    "start_time": "2021-11-14T07:15:06.928Z"
   },
   {
    "duration": 40,
    "start_time": "2021-11-14T07:15:12.303Z"
   },
   {
    "duration": 44,
    "start_time": "2021-11-14T07:15:27.025Z"
   },
   {
    "duration": 51,
    "start_time": "2021-11-14T07:15:30.557Z"
   },
   {
    "duration": 47,
    "start_time": "2021-11-14T07:16:33.850Z"
   },
   {
    "duration": 53,
    "start_time": "2021-11-14T07:16:36.755Z"
   },
   {
    "duration": 28,
    "start_time": "2021-11-14T07:17:35.124Z"
   },
   {
    "duration": 36,
    "start_time": "2021-11-14T07:17:43.954Z"
   },
   {
    "duration": 43,
    "start_time": "2021-11-14T07:17:45.869Z"
   },
   {
    "duration": 26,
    "start_time": "2021-11-14T07:18:11.622Z"
   },
   {
    "duration": 30,
    "start_time": "2021-11-14T07:18:32.577Z"
   },
   {
    "duration": 1431,
    "start_time": "2021-11-14T10:26:49.280Z"
   },
   {
    "duration": 611,
    "start_time": "2021-11-14T10:26:50.713Z"
   },
   {
    "duration": 374,
    "start_time": "2021-11-14T10:26:51.326Z"
   },
   {
    "duration": 7,
    "start_time": "2021-11-14T10:26:51.703Z"
   },
   {
    "duration": 16,
    "start_time": "2021-11-14T10:26:51.712Z"
   },
   {
    "duration": 11,
    "start_time": "2021-11-14T10:26:51.745Z"
   },
   {
    "duration": 6,
    "start_time": "2021-11-14T10:26:51.758Z"
   },
   {
    "duration": 8,
    "start_time": "2021-11-14T10:26:51.767Z"
   },
   {
    "duration": 187,
    "start_time": "2021-11-14T10:26:51.777Z"
   },
   {
    "duration": 4,
    "start_time": "2021-11-14T10:26:51.966Z"
   },
   {
    "duration": 144,
    "start_time": "2021-11-14T10:26:51.971Z"
   },
   {
    "duration": 30,
    "start_time": "2021-11-14T10:26:57.757Z"
   },
   {
    "duration": 20,
    "start_time": "2021-11-14T10:27:05.878Z"
   },
   {
    "duration": 52,
    "start_time": "2021-11-14T10:27:07.663Z"
   },
   {
    "duration": 20,
    "start_time": "2021-11-14T10:28:04.899Z"
   },
   {
    "duration": 20,
    "start_time": "2021-11-14T10:28:05.454Z"
   },
   {
    "duration": 41,
    "start_time": "2021-11-14T10:31:49.133Z"
   },
   {
    "duration": 30,
    "start_time": "2021-11-14T10:31:50.908Z"
   },
   {
    "duration": 4,
    "start_time": "2021-11-14T10:32:12.983Z"
   },
   {
    "duration": 554,
    "start_time": "2021-11-14T10:32:12.989Z"
   },
   {
    "duration": 347,
    "start_time": "2021-11-14T10:32:13.546Z"
   },
   {
    "duration": 7,
    "start_time": "2021-11-14T10:32:13.895Z"
   },
   {
    "duration": 15,
    "start_time": "2021-11-14T10:32:13.903Z"
   },
   {
    "duration": 27,
    "start_time": "2021-11-14T10:32:13.920Z"
   },
   {
    "duration": 6,
    "start_time": "2021-11-14T10:32:13.949Z"
   },
   {
    "duration": 6,
    "start_time": "2021-11-14T10:32:13.957Z"
   },
   {
    "duration": 157,
    "start_time": "2021-11-14T10:32:13.966Z"
   },
   {
    "duration": 4,
    "start_time": "2021-11-14T10:32:14.124Z"
   },
   {
    "duration": 148,
    "start_time": "2021-11-14T10:32:14.129Z"
   },
   {
    "duration": 37,
    "start_time": "2021-11-14T10:32:14.278Z"
   },
   {
    "duration": 30,
    "start_time": "2021-11-14T10:32:38.611Z"
   },
   {
    "duration": 38,
    "start_time": "2021-11-14T10:32:46.572Z"
   },
   {
    "duration": 30,
    "start_time": "2021-11-14T10:32:48.998Z"
   },
   {
    "duration": 31,
    "start_time": "2021-11-14T10:38:19.712Z"
   },
   {
    "duration": 30,
    "start_time": "2021-11-14T10:40:20.840Z"
   },
   {
    "duration": 26,
    "start_time": "2021-11-14T10:42:06.135Z"
   },
   {
    "duration": 37,
    "start_time": "2021-11-14T10:42:24.156Z"
   },
   {
    "duration": 38,
    "start_time": "2021-11-14T10:43:27.819Z"
   },
   {
    "duration": 46,
    "start_time": "2021-11-14T10:45:10.173Z"
   },
   {
    "duration": 40,
    "start_time": "2021-11-14T10:45:15.722Z"
   },
   {
    "duration": 39,
    "start_time": "2021-11-14T10:45:41.425Z"
   },
   {
    "duration": 41,
    "start_time": "2021-11-14T10:45:54.136Z"
   },
   {
    "duration": 28,
    "start_time": "2021-11-14T10:46:05.721Z"
   },
   {
    "duration": 30,
    "start_time": "2021-11-14T10:46:19.761Z"
   },
   {
    "duration": 327,
    "start_time": "2021-11-14T10:51:41.960Z"
   },
   {
    "duration": 1275,
    "start_time": "2021-11-14T10:51:50.488Z"
   },
   {
    "duration": 674,
    "start_time": "2021-11-14T10:51:51.765Z"
   },
   {
    "duration": 416,
    "start_time": "2021-11-14T10:51:52.441Z"
   },
   {
    "duration": 8,
    "start_time": "2021-11-14T10:51:52.859Z"
   },
   {
    "duration": 14,
    "start_time": "2021-11-14T10:51:52.869Z"
   },
   {
    "duration": 13,
    "start_time": "2021-11-14T10:51:52.885Z"
   },
   {
    "duration": 8,
    "start_time": "2021-11-14T10:51:52.899Z"
   },
   {
    "duration": 6,
    "start_time": "2021-11-14T10:51:52.946Z"
   },
   {
    "duration": 176,
    "start_time": "2021-11-14T10:51:52.954Z"
   },
   {
    "duration": 4,
    "start_time": "2021-11-14T10:51:53.131Z"
   },
   {
    "duration": 141,
    "start_time": "2021-11-14T10:51:53.137Z"
   },
   {
    "duration": 29,
    "start_time": "2021-11-14T10:51:53.280Z"
   },
   {
    "duration": 53,
    "start_time": "2021-11-14T10:51:53.311Z"
   },
   {
    "duration": 28,
    "start_time": "2021-11-14T10:51:53.366Z"
   },
   {
    "duration": 61,
    "start_time": "2021-11-14T10:51:53.395Z"
   },
   {
    "duration": 56,
    "start_time": "2021-11-14T10:51:53.458Z"
   },
   {
    "duration": 81,
    "start_time": "2021-11-14T10:51:53.516Z"
   },
   {
    "duration": 28,
    "start_time": "2021-11-14T10:51:53.598Z"
   },
   {
    "duration": 102977,
    "start_time": "2021-11-14T10:51:57.447Z"
   },
   {
    "duration": 27,
    "start_time": "2021-11-14T10:53:49.007Z"
   },
   {
    "duration": 26,
    "start_time": "2021-11-14T10:53:56.803Z"
   },
   {
    "duration": 57,
    "start_time": "2021-11-14T10:59:24.541Z"
   },
   {
    "duration": 41,
    "start_time": "2021-11-14T11:00:25.172Z"
   },
   {
    "duration": 28,
    "start_time": "2021-11-14T11:00:32.354Z"
   },
   {
    "duration": 4,
    "start_time": "2021-11-14T11:01:04.314Z"
   },
   {
    "duration": 636,
    "start_time": "2021-11-14T11:01:04.320Z"
   },
   {
    "duration": 4467,
    "start_time": "2021-11-14T11:01:04.959Z"
   },
   {
    "duration": 18,
    "start_time": "2021-11-14T11:01:09.427Z"
   },
   {
    "duration": 14,
    "start_time": "2021-11-14T11:01:09.447Z"
   },
   {
    "duration": 11,
    "start_time": "2021-11-14T11:01:09.463Z"
   },
   {
    "duration": 7,
    "start_time": "2021-11-14T11:01:09.476Z"
   },
   {
    "duration": 6,
    "start_time": "2021-11-14T11:01:09.485Z"
   },
   {
    "duration": 170,
    "start_time": "2021-11-14T11:01:09.493Z"
   },
   {
    "duration": 3,
    "start_time": "2021-11-14T11:01:09.665Z"
   },
   {
    "duration": 135,
    "start_time": "2021-11-14T11:01:09.670Z"
   },
   {
    "duration": 42,
    "start_time": "2021-11-14T11:01:09.807Z"
   },
   {
    "duration": 39,
    "start_time": "2021-11-14T11:01:09.851Z"
   },
   {
    "duration": 27,
    "start_time": "2021-11-14T11:01:09.891Z"
   },
   {
    "duration": 50,
    "start_time": "2021-11-14T11:01:09.920Z"
   },
   {
    "duration": 37,
    "start_time": "2021-11-14T11:01:09.972Z"
   },
   {
    "duration": 62,
    "start_time": "2021-11-14T11:01:10.010Z"
   },
   {
    "duration": 27,
    "start_time": "2021-11-14T11:01:16.492Z"
   },
   {
    "duration": 39,
    "start_time": "2021-11-14T11:01:46.795Z"
   },
   {
    "duration": 32,
    "start_time": "2021-11-14T11:01:48.276Z"
   },
   {
    "duration": 43,
    "start_time": "2021-11-14T11:02:42.108Z"
   },
   {
    "duration": 38,
    "start_time": "2021-11-14T11:02:50.034Z"
   },
   {
    "duration": 4,
    "start_time": "2021-11-14T11:03:00.816Z"
   },
   {
    "duration": 571,
    "start_time": "2021-11-14T11:03:00.822Z"
   },
   {
    "duration": 408,
    "start_time": "2021-11-14T11:03:01.395Z"
   },
   {
    "duration": 8,
    "start_time": "2021-11-14T11:03:01.806Z"
   },
   {
    "duration": 33,
    "start_time": "2021-11-14T11:03:01.816Z"
   },
   {
    "duration": 12,
    "start_time": "2021-11-14T11:03:01.851Z"
   },
   {
    "duration": 7,
    "start_time": "2021-11-14T11:03:01.865Z"
   },
   {
    "duration": 13,
    "start_time": "2021-11-14T11:03:01.875Z"
   },
   {
    "duration": 176,
    "start_time": "2021-11-14T11:03:01.890Z"
   },
   {
    "duration": 4,
    "start_time": "2021-11-14T11:03:02.068Z"
   },
   {
    "duration": 195,
    "start_time": "2021-11-14T11:03:02.074Z"
   },
   {
    "duration": 44,
    "start_time": "2021-11-14T11:03:02.271Z"
   },
   {
    "duration": 52,
    "start_time": "2021-11-14T11:03:02.316Z"
   },
   {
    "duration": 27,
    "start_time": "2021-11-14T11:03:02.369Z"
   },
   {
    "duration": 56,
    "start_time": "2021-11-14T11:03:02.397Z"
   },
   {
    "duration": 39,
    "start_time": "2021-11-14T11:03:02.455Z"
   },
   {
    "duration": 57,
    "start_time": "2021-11-14T11:03:02.496Z"
   },
   {
    "duration": 29,
    "start_time": "2021-11-14T11:03:02.555Z"
   },
   {
    "duration": 40,
    "start_time": "2021-11-14T11:03:02.585Z"
   },
   {
    "duration": 41,
    "start_time": "2021-11-14T11:03:05.964Z"
   },
   {
    "duration": 45,
    "start_time": "2021-11-14T11:03:13.588Z"
   },
   {
    "duration": 51,
    "start_time": "2021-11-14T11:03:17.186Z"
   },
   {
    "duration": 8344,
    "start_time": "2021-11-14T11:03:50.804Z"
   },
   {
    "duration": 46,
    "start_time": "2021-11-14T11:04:05.726Z"
   },
   {
    "duration": 51,
    "start_time": "2021-11-14T11:05:02.411Z"
   },
   {
    "duration": 43,
    "start_time": "2021-11-14T11:05:03.891Z"
   },
   {
    "duration": 29,
    "start_time": "2021-11-14T11:05:23.830Z"
   },
   {
    "duration": 23,
    "start_time": "2021-11-14T11:06:03.536Z"
   },
   {
    "duration": 30,
    "start_time": "2021-11-14T11:07:00.009Z"
   },
   {
    "duration": 23,
    "start_time": "2021-11-14T11:07:54.818Z"
   },
   {
    "duration": 25,
    "start_time": "2021-11-14T11:08:58.624Z"
   },
   {
    "duration": 39,
    "start_time": "2021-11-14T11:10:22.707Z"
   },
   {
    "duration": 95,
    "start_time": "2021-11-14T11:10:24.264Z"
   },
   {
    "duration": 27,
    "start_time": "2021-11-14T11:10:25.376Z"
   },
   {
    "duration": 96,
    "start_time": "2021-11-14T11:10:29.162Z"
   },
   {
    "duration": 103,
    "start_time": "2021-11-14T11:12:12.978Z"
   },
   {
    "duration": 31,
    "start_time": "2021-11-14T11:13:24.177Z"
   },
   {
    "duration": 47,
    "start_time": "2021-11-14T11:13:43.778Z"
   },
   {
    "duration": 39,
    "start_time": "2021-11-14T11:14:27.675Z"
   },
   {
    "duration": 46,
    "start_time": "2021-11-14T11:16:39.939Z"
   },
   {
    "duration": 336,
    "start_time": "2021-11-14T11:17:39.244Z"
   },
   {
    "duration": 60,
    "start_time": "2021-11-14T11:18:18.075Z"
   },
   {
    "duration": 30,
    "start_time": "2021-11-14T11:21:46.469Z"
   },
   {
    "duration": 30,
    "start_time": "2021-11-14T11:21:59.729Z"
   },
   {
    "duration": 18,
    "start_time": "2021-11-14T11:22:12.760Z"
   },
   {
    "duration": 29,
    "start_time": "2021-11-14T11:22:14.164Z"
   },
   {
    "duration": 49,
    "start_time": "2021-11-14T11:26:11.886Z"
   },
   {
    "duration": 51,
    "start_time": "2021-11-14T11:26:21.052Z"
   },
   {
    "duration": 53,
    "start_time": "2021-11-14T11:27:00.625Z"
   },
   {
    "duration": 53,
    "start_time": "2021-11-14T11:27:07.710Z"
   },
   {
    "duration": 74,
    "start_time": "2021-11-14T11:28:12.992Z"
   },
   {
    "duration": 16,
    "start_time": "2021-11-14T11:29:49.801Z"
   },
   {
    "duration": 50,
    "start_time": "2021-11-14T11:29:59.521Z"
   },
   {
    "duration": 4,
    "start_time": "2021-11-14T11:30:07.667Z"
   },
   {
    "duration": 564,
    "start_time": "2021-11-14T11:30:07.673Z"
   },
   {
    "duration": 349,
    "start_time": "2021-11-14T11:30:08.239Z"
   },
   {
    "duration": 9,
    "start_time": "2021-11-14T11:30:08.590Z"
   },
   {
    "duration": 15,
    "start_time": "2021-11-14T11:30:08.601Z"
   },
   {
    "duration": 33,
    "start_time": "2021-11-14T11:30:08.618Z"
   },
   {
    "duration": 8,
    "start_time": "2021-11-14T11:30:08.653Z"
   },
   {
    "duration": 6,
    "start_time": "2021-11-14T11:30:08.664Z"
   },
   {
    "duration": 163,
    "start_time": "2021-11-14T11:30:08.672Z"
   },
   {
    "duration": 8,
    "start_time": "2021-11-14T11:30:08.837Z"
   },
   {
    "duration": 141,
    "start_time": "2021-11-14T11:30:08.847Z"
   },
   {
    "duration": 31,
    "start_time": "2021-11-14T11:30:08.990Z"
   },
   {
    "duration": 50,
    "start_time": "2021-11-14T11:30:09.022Z"
   },
   {
    "duration": 27,
    "start_time": "2021-11-14T11:30:09.073Z"
   },
   {
    "duration": 61,
    "start_time": "2021-11-14T11:30:09.102Z"
   },
   {
    "duration": 38,
    "start_time": "2021-11-14T11:30:09.165Z"
   },
   {
    "duration": 63,
    "start_time": "2021-11-14T11:30:09.205Z"
   },
   {
    "duration": 30,
    "start_time": "2021-11-14T11:30:09.269Z"
   },
   {
    "duration": 51,
    "start_time": "2021-11-14T11:30:09.301Z"
   },
   {
    "duration": 40,
    "start_time": "2021-11-14T11:30:09.353Z"
   },
   {
    "duration": 60,
    "start_time": "2021-11-14T11:30:09.394Z"
   },
   {
    "duration": 42,
    "start_time": "2021-11-14T11:30:09.456Z"
   },
   {
    "duration": 59,
    "start_time": "2021-11-14T11:30:09.501Z"
   },
   {
    "duration": 28,
    "start_time": "2021-11-14T11:30:09.561Z"
   },
   {
    "duration": 85,
    "start_time": "2021-11-14T11:30:09.591Z"
   },
   {
    "duration": -141,
    "start_time": "2021-11-14T11:30:09.819Z"
   },
   {
    "duration": -143,
    "start_time": "2021-11-14T11:30:09.822Z"
   },
   {
    "duration": -181,
    "start_time": "2021-11-14T11:30:09.860Z"
   },
   {
    "duration": -196,
    "start_time": "2021-11-14T11:30:09.876Z"
   },
   {
    "duration": 36,
    "start_time": "2021-11-14T11:30:30.308Z"
   },
   {
    "duration": 25,
    "start_time": "2021-11-14T11:30:32.030Z"
   },
   {
    "duration": 36,
    "start_time": "2021-11-14T11:30:34.514Z"
   },
   {
    "duration": 56,
    "start_time": "2021-11-14T11:30:37.337Z"
   },
   {
    "duration": 59,
    "start_time": "2021-11-14T11:30:47.307Z"
   },
   {
    "duration": 17,
    "start_time": "2021-11-14T11:31:03.339Z"
   },
   {
    "duration": 53,
    "start_time": "2021-11-14T11:31:06.459Z"
   },
   {
    "duration": 102,
    "start_time": "2021-11-14T11:55:19.518Z"
   },
   {
    "duration": 4,
    "start_time": "2021-11-14T11:55:42.422Z"
   },
   {
    "duration": 557,
    "start_time": "2021-11-14T11:55:42.427Z"
   },
   {
    "duration": 347,
    "start_time": "2021-11-14T11:55:42.986Z"
   },
   {
    "duration": 15,
    "start_time": "2021-11-14T11:55:43.335Z"
   },
   {
    "duration": 18,
    "start_time": "2021-11-14T11:55:43.351Z"
   },
   {
    "duration": 12,
    "start_time": "2021-11-14T11:55:43.370Z"
   },
   {
    "duration": 8,
    "start_time": "2021-11-14T11:55:43.384Z"
   },
   {
    "duration": 8,
    "start_time": "2021-11-14T11:55:43.394Z"
   },
   {
    "duration": 167,
    "start_time": "2021-11-14T11:55:43.404Z"
   },
   {
    "duration": 3,
    "start_time": "2021-11-14T11:55:43.573Z"
   },
   {
    "duration": 138,
    "start_time": "2021-11-14T11:55:43.578Z"
   },
   {
    "duration": 37,
    "start_time": "2021-11-14T11:55:43.718Z"
   },
   {
    "duration": 36,
    "start_time": "2021-11-14T11:55:43.757Z"
   },
   {
    "duration": 25,
    "start_time": "2021-11-14T11:55:43.794Z"
   },
   {
    "duration": 51,
    "start_time": "2021-11-14T11:55:43.821Z"
   },
   {
    "duration": 35,
    "start_time": "2021-11-14T11:55:43.874Z"
   },
   {
    "duration": 57,
    "start_time": "2021-11-14T11:55:43.910Z"
   },
   {
    "duration": 28,
    "start_time": "2021-11-14T11:55:43.969Z"
   },
   {
    "duration": 56,
    "start_time": "2021-11-14T11:55:43.999Z"
   },
   {
    "duration": 41,
    "start_time": "2021-11-14T11:55:44.056Z"
   },
   {
    "duration": 58,
    "start_time": "2021-11-14T11:55:44.098Z"
   },
   {
    "duration": 41,
    "start_time": "2021-11-14T11:55:44.158Z"
   },
   {
    "duration": 61,
    "start_time": "2021-11-14T11:55:44.201Z"
   },
   {
    "duration": 27,
    "start_time": "2021-11-14T11:55:44.263Z"
   },
   {
    "duration": 36,
    "start_time": "2021-11-14T11:55:44.292Z"
   },
   {
    "duration": 25,
    "start_time": "2021-11-14T11:55:44.343Z"
   },
   {
    "duration": 36,
    "start_time": "2021-11-14T11:55:44.371Z"
   },
   {
    "duration": 38,
    "start_time": "2021-11-14T11:55:44.409Z"
   },
   {
    "duration": 57,
    "start_time": "2021-11-14T11:55:44.449Z"
   },
   {
    "duration": 76,
    "start_time": "2021-11-14T11:55:44.508Z"
   },
   {
    "duration": 17,
    "start_time": "2021-11-14T11:55:44.586Z"
   },
   {
    "duration": 111,
    "start_time": "2021-11-14T11:55:50.328Z"
   },
   {
    "duration": 99,
    "start_time": "2021-11-14T11:56:38.496Z"
   },
   {
    "duration": 577,
    "start_time": "2021-11-14T11:57:31.824Z"
   },
   {
    "duration": 123,
    "start_time": "2021-11-14T11:57:34.288Z"
   },
   {
    "duration": 5,
    "start_time": "2021-11-14T11:58:17.698Z"
   },
   {
    "duration": 565,
    "start_time": "2021-11-14T11:58:17.705Z"
   },
   {
    "duration": 358,
    "start_time": "2021-11-14T11:58:18.273Z"
   },
   {
    "duration": 12,
    "start_time": "2021-11-14T11:58:18.633Z"
   },
   {
    "duration": 18,
    "start_time": "2021-11-14T11:58:18.647Z"
   },
   {
    "duration": 13,
    "start_time": "2021-11-14T11:58:18.667Z"
   },
   {
    "duration": 7,
    "start_time": "2021-11-14T11:58:18.681Z"
   },
   {
    "duration": 8,
    "start_time": "2021-11-14T11:58:18.690Z"
   },
   {
    "duration": 189,
    "start_time": "2021-11-14T11:58:18.701Z"
   },
   {
    "duration": 4,
    "start_time": "2021-11-14T11:58:18.892Z"
   },
   {
    "duration": 152,
    "start_time": "2021-11-14T11:58:18.897Z"
   },
   {
    "duration": 31,
    "start_time": "2021-11-14T11:58:19.051Z"
   },
   {
    "duration": 41,
    "start_time": "2021-11-14T11:58:19.084Z"
   },
   {
    "duration": 27,
    "start_time": "2021-11-14T11:58:19.145Z"
   },
   {
    "duration": 35,
    "start_time": "2021-11-14T11:58:19.174Z"
   },
   {
    "duration": 56,
    "start_time": "2021-11-14T11:58:19.211Z"
   },
   {
    "duration": 43,
    "start_time": "2021-11-14T11:58:19.269Z"
   },
   {
    "duration": 43,
    "start_time": "2021-11-14T11:58:19.314Z"
   },
   {
    "duration": 40,
    "start_time": "2021-11-14T11:58:19.359Z"
   },
   {
    "duration": 56,
    "start_time": "2021-11-14T11:58:19.401Z"
   },
   {
    "duration": 50,
    "start_time": "2021-11-14T11:58:19.458Z"
   },
   {
    "duration": 51,
    "start_time": "2021-11-14T11:58:19.510Z"
   },
   {
    "duration": 46,
    "start_time": "2021-11-14T11:58:19.563Z"
   },
   {
    "duration": 48,
    "start_time": "2021-11-14T11:58:19.611Z"
   },
   {
    "duration": 37,
    "start_time": "2021-11-14T11:58:19.661Z"
   },
   {
    "duration": 25,
    "start_time": "2021-11-14T11:58:19.700Z"
   },
   {
    "duration": 37,
    "start_time": "2021-11-14T11:58:19.745Z"
   },
   {
    "duration": 23,
    "start_time": "2021-11-14T11:58:19.784Z"
   },
   {
    "duration": 79,
    "start_time": "2021-11-14T11:58:19.809Z"
   },
   {
    "duration": 72,
    "start_time": "2021-11-14T11:58:19.890Z"
   },
   {
    "duration": 18,
    "start_time": "2021-11-14T11:58:19.964Z"
   },
   {
    "duration": 120,
    "start_time": "2021-11-14T11:58:19.983Z"
   },
   {
    "duration": 107,
    "start_time": "2021-11-14T11:58:20.105Z"
   },
   {
    "duration": 114,
    "start_time": "2021-11-14T11:58:39.266Z"
   },
   {
    "duration": 4,
    "start_time": "2021-11-14T12:02:08.303Z"
   },
   {
    "duration": 571,
    "start_time": "2021-11-14T12:02:08.311Z"
   },
   {
    "duration": 336,
    "start_time": "2021-11-14T12:02:08.884Z"
   },
   {
    "duration": 7,
    "start_time": "2021-11-14T12:02:09.222Z"
   },
   {
    "duration": 22,
    "start_time": "2021-11-14T12:02:09.231Z"
   },
   {
    "duration": 11,
    "start_time": "2021-11-14T12:02:09.254Z"
   },
   {
    "duration": 6,
    "start_time": "2021-11-14T12:02:09.267Z"
   },
   {
    "duration": 9,
    "start_time": "2021-11-14T12:02:09.274Z"
   },
   {
    "duration": 175,
    "start_time": "2021-11-14T12:02:09.284Z"
   },
   {
    "duration": 6,
    "start_time": "2021-11-14T12:02:09.462Z"
   },
   {
    "duration": 139,
    "start_time": "2021-11-14T12:02:09.469Z"
   },
   {
    "duration": 39,
    "start_time": "2021-11-14T12:02:09.609Z"
   },
   {
    "duration": 38,
    "start_time": "2021-11-14T12:02:09.650Z"
   },
   {
    "duration": 27,
    "start_time": "2021-11-14T12:02:09.690Z"
   },
   {
    "duration": 53,
    "start_time": "2021-11-14T12:02:09.718Z"
   },
   {
    "duration": 38,
    "start_time": "2021-11-14T12:02:09.773Z"
   },
   {
    "duration": 57,
    "start_time": "2021-11-14T12:02:09.813Z"
   },
   {
    "duration": 27,
    "start_time": "2021-11-14T12:02:09.872Z"
   },
   {
    "duration": 54,
    "start_time": "2021-11-14T12:02:09.901Z"
   },
   {
    "duration": 40,
    "start_time": "2021-11-14T12:02:09.957Z"
   },
   {
    "duration": 62,
    "start_time": "2021-11-14T12:02:09.999Z"
   },
   {
    "duration": 42,
    "start_time": "2021-11-14T12:02:10.062Z"
   },
   {
    "duration": 57,
    "start_time": "2021-11-14T12:02:10.106Z"
   },
   {
    "duration": 28,
    "start_time": "2021-11-14T12:02:10.165Z"
   },
   {
    "duration": 56,
    "start_time": "2021-11-14T12:02:10.195Z"
   },
   {
    "duration": 23,
    "start_time": "2021-11-14T12:02:10.253Z"
   },
   {
    "duration": 40,
    "start_time": "2021-11-14T12:02:10.278Z"
   },
   {
    "duration": 32,
    "start_time": "2021-11-14T12:02:10.322Z"
   },
   {
    "duration": 58,
    "start_time": "2021-11-14T12:02:10.356Z"
   },
   {
    "duration": 72,
    "start_time": "2021-11-14T12:02:10.416Z"
   },
   {
    "duration": 16,
    "start_time": "2021-11-14T12:02:10.490Z"
   },
   {
    "duration": 117,
    "start_time": "2021-11-14T12:02:10.508Z"
   },
   {
    "duration": 106,
    "start_time": "2021-11-14T12:02:10.627Z"
   },
   {
    "duration": 104,
    "start_time": "2021-11-14T12:02:10.735Z"
   },
   {
    "duration": 130,
    "start_time": "2021-11-14T12:02:10.844Z"
   },
   {
    "duration": 34106,
    "start_time": "2021-11-14T12:02:10.976Z"
   },
   {
    "duration": 71,
    "start_time": "2021-11-14T12:02:45.084Z"
   },
   {
    "duration": 123,
    "start_time": "2021-11-14T12:02:45.156Z"
   },
   {
    "duration": 130,
    "start_time": "2021-11-14T12:02:45.280Z"
   },
   {
    "duration": 13,
    "start_time": "2021-11-14T12:02:45.411Z"
   },
   {
    "duration": 432,
    "start_time": "2021-11-14T12:02:45.426Z"
   },
   {
    "duration": 73,
    "start_time": "2021-11-14T12:02:45.860Z"
   },
   {
    "duration": 450,
    "start_time": "2021-11-14T12:02:45.944Z"
   },
   {
    "duration": 101,
    "start_time": "2021-11-14T12:02:46.395Z"
   },
   {
    "duration": 3,
    "start_time": "2021-11-14T12:02:46.498Z"
   },
   {
    "duration": 170,
    "start_time": "2021-11-14T12:02:46.503Z"
   },
   {
    "duration": 44,
    "start_time": "2021-11-14T12:02:46.675Z"
   },
   {
    "duration": 5,
    "start_time": "2021-11-14T12:02:46.721Z"
   },
   {
    "duration": 21,
    "start_time": "2021-11-14T12:02:46.727Z"
   },
   {
    "duration": 13018,
    "start_time": "2021-11-14T12:02:46.750Z"
   },
   {
    "duration": 9579,
    "start_time": "2021-11-14T12:02:59.770Z"
   },
   {
    "duration": 13308,
    "start_time": "2021-11-14T12:03:09.351Z"
   },
   {
    "duration": 11686,
    "start_time": "2021-11-14T12:03:22.661Z"
   },
   {
    "duration": 100,
    "start_time": "2021-11-14T12:03:34.349Z"
   },
   {
    "duration": 367,
    "start_time": "2021-11-14T12:03:34.451Z"
   },
   {
    "duration": 19,
    "start_time": "2021-11-14T12:07:51.842Z"
   },
   {
    "duration": 17,
    "start_time": "2021-11-14T12:09:44.259Z"
   },
   {
    "duration": 24,
    "start_time": "2021-11-14T12:09:54.482Z"
   },
   {
    "duration": 263,
    "start_time": "2021-11-14T12:10:18.295Z"
   },
   {
    "duration": 11,
    "start_time": "2021-11-14T12:10:22.334Z"
   },
   {
    "duration": 316,
    "start_time": "2021-11-14T12:10:47.421Z"
   },
   {
    "duration": 18,
    "start_time": "2021-11-14T12:10:49.855Z"
   },
   {
    "duration": 5,
    "start_time": "2021-11-14T12:11:38.214Z"
   },
   {
    "duration": 629,
    "start_time": "2021-11-14T12:11:38.222Z"
   },
   {
    "duration": 381,
    "start_time": "2021-11-14T12:11:38.853Z"
   },
   {
    "duration": 13,
    "start_time": "2021-11-14T12:11:39.236Z"
   },
   {
    "duration": 16,
    "start_time": "2021-11-14T12:11:39.250Z"
   },
   {
    "duration": 12,
    "start_time": "2021-11-14T12:11:39.267Z"
   },
   {
    "duration": 7,
    "start_time": "2021-11-14T12:11:39.281Z"
   },
   {
    "duration": 6,
    "start_time": "2021-11-14T12:11:39.290Z"
   },
   {
    "duration": 198,
    "start_time": "2021-11-14T12:11:39.298Z"
   },
   {
    "duration": 4,
    "start_time": "2021-11-14T12:11:39.498Z"
   },
   {
    "duration": 147,
    "start_time": "2021-11-14T12:11:39.504Z"
   },
   {
    "duration": 30,
    "start_time": "2021-11-14T12:11:39.653Z"
   },
   {
    "duration": 39,
    "start_time": "2021-11-14T12:11:39.684Z"
   },
   {
    "duration": 43,
    "start_time": "2021-11-14T12:11:39.724Z"
   },
   {
    "duration": 39,
    "start_time": "2021-11-14T12:11:39.769Z"
   },
   {
    "duration": 58,
    "start_time": "2021-11-14T12:11:39.810Z"
   },
   {
    "duration": 42,
    "start_time": "2021-11-14T12:11:39.870Z"
   },
   {
    "duration": 41,
    "start_time": "2021-11-14T12:11:39.914Z"
   },
   {
    "duration": 39,
    "start_time": "2021-11-14T12:11:39.956Z"
   },
   {
    "duration": 61,
    "start_time": "2021-11-14T12:11:39.996Z"
   },
   {
    "duration": 45,
    "start_time": "2021-11-14T12:11:40.059Z"
   },
   {
    "duration": 56,
    "start_time": "2021-11-14T12:11:40.105Z"
   },
   {
    "duration": 45,
    "start_time": "2021-11-14T12:11:40.164Z"
   },
   {
    "duration": 40,
    "start_time": "2021-11-14T12:11:40.211Z"
   },
   {
    "duration": 35,
    "start_time": "2021-11-14T12:11:40.253Z"
   },
   {
    "duration": 24,
    "start_time": "2021-11-14T12:11:40.290Z"
   },
   {
    "duration": 52,
    "start_time": "2021-11-14T12:11:40.315Z"
   },
   {
    "duration": 21,
    "start_time": "2021-11-14T12:11:40.369Z"
   },
   {
    "duration": 76,
    "start_time": "2021-11-14T12:11:40.391Z"
   },
   {
    "duration": 58,
    "start_time": "2021-11-14T12:11:40.469Z"
   },
   {
    "duration": 29,
    "start_time": "2021-11-14T12:11:40.529Z"
   },
   {
    "duration": 109,
    "start_time": "2021-11-14T12:11:40.559Z"
   },
   {
    "duration": 115,
    "start_time": "2021-11-14T12:11:40.671Z"
   },
   {
    "duration": 108,
    "start_time": "2021-11-14T12:11:40.788Z"
   },
   {
    "duration": 135,
    "start_time": "2021-11-14T12:11:40.898Z"
   },
   {
    "duration": 35564,
    "start_time": "2021-11-14T12:11:41.035Z"
   },
   {
    "duration": 69,
    "start_time": "2021-11-14T12:12:16.600Z"
   },
   {
    "duration": 119,
    "start_time": "2021-11-14T12:12:16.670Z"
   },
   {
    "duration": 136,
    "start_time": "2021-11-14T12:12:16.791Z"
   },
   {
    "duration": 21,
    "start_time": "2021-11-14T12:12:16.929Z"
   },
   {
    "duration": 455,
    "start_time": "2021-11-14T12:12:16.952Z"
   },
   {
    "duration": 81,
    "start_time": "2021-11-14T12:12:17.409Z"
   },
   {
    "duration": 2,
    "start_time": "2021-11-14T12:12:28.440Z"
   },
   {
    "duration": 317,
    "start_time": "2021-11-14T12:12:30.869Z"
   },
   {
    "duration": 19,
    "start_time": "2021-11-14T12:12:33.869Z"
   },
   {
    "duration": 12,
    "start_time": "2021-11-14T12:13:09.478Z"
   },
   {
    "duration": 4,
    "start_time": "2021-11-14T12:13:25.894Z"
   },
   {
    "duration": 596,
    "start_time": "2021-11-14T12:13:25.900Z"
   },
   {
    "duration": 376,
    "start_time": "2021-11-14T12:13:26.498Z"
   },
   {
    "duration": 8,
    "start_time": "2021-11-14T12:13:26.876Z"
   },
   {
    "duration": 17,
    "start_time": "2021-11-14T12:13:26.885Z"
   },
   {
    "duration": 11,
    "start_time": "2021-11-14T12:13:26.904Z"
   },
   {
    "duration": 32,
    "start_time": "2021-11-14T12:13:26.917Z"
   },
   {
    "duration": 5,
    "start_time": "2021-11-14T12:13:26.951Z"
   },
   {
    "duration": 164,
    "start_time": "2021-11-14T12:13:26.959Z"
   },
   {
    "duration": 4,
    "start_time": "2021-11-14T12:13:27.126Z"
   },
   {
    "duration": 148,
    "start_time": "2021-11-14T12:13:27.132Z"
   },
   {
    "duration": 32,
    "start_time": "2021-11-14T12:13:27.283Z"
   },
   {
    "duration": 57,
    "start_time": "2021-11-14T12:13:27.317Z"
   },
   {
    "duration": 28,
    "start_time": "2021-11-14T12:13:27.376Z"
   },
   {
    "duration": 59,
    "start_time": "2021-11-14T12:13:27.407Z"
   },
   {
    "duration": 40,
    "start_time": "2021-11-14T12:13:27.468Z"
   },
   {
    "duration": 62,
    "start_time": "2021-11-14T12:13:27.509Z"
   },
   {
    "duration": 31,
    "start_time": "2021-11-14T12:13:27.573Z"
   },
   {
    "duration": 59,
    "start_time": "2021-11-14T12:13:27.606Z"
   },
   {
    "duration": 40,
    "start_time": "2021-11-14T12:13:27.667Z"
   },
   {
    "duration": 67,
    "start_time": "2021-11-14T12:13:27.709Z"
   },
   {
    "duration": 45,
    "start_time": "2021-11-14T12:13:27.777Z"
   },
   {
    "duration": 61,
    "start_time": "2021-11-14T12:13:27.823Z"
   },
   {
    "duration": 29,
    "start_time": "2021-11-14T12:13:27.886Z"
   },
   {
    "duration": 55,
    "start_time": "2021-11-14T12:13:27.917Z"
   },
   {
    "duration": 25,
    "start_time": "2021-11-14T12:13:27.974Z"
   },
   {
    "duration": 62,
    "start_time": "2021-11-14T12:13:28.002Z"
   },
   {
    "duration": 22,
    "start_time": "2021-11-14T12:13:28.066Z"
   },
   {
    "duration": 73,
    "start_time": "2021-11-14T12:13:28.090Z"
   },
   {
    "duration": 57,
    "start_time": "2021-11-14T12:13:28.165Z"
   },
   {
    "duration": 25,
    "start_time": "2021-11-14T12:13:28.224Z"
   },
   {
    "duration": 116,
    "start_time": "2021-11-14T12:13:28.251Z"
   },
   {
    "duration": 106,
    "start_time": "2021-11-14T12:13:28.369Z"
   },
   {
    "duration": 106,
    "start_time": "2021-11-14T12:13:28.477Z"
   },
   {
    "duration": 129,
    "start_time": "2021-11-14T12:13:34.575Z"
   },
   {
    "duration": 130,
    "start_time": "2021-11-14T12:13:38.357Z"
   },
   {
    "duration": 112,
    "start_time": "2021-11-14T12:13:39.594Z"
   },
   {
    "duration": 35891,
    "start_time": "2021-11-14T12:13:47.186Z"
   },
   {
    "duration": 61,
    "start_time": "2021-11-14T12:14:27.648Z"
   },
   {
    "duration": 128,
    "start_time": "2021-11-14T12:14:30.595Z"
   },
   {
    "duration": 131,
    "start_time": "2021-11-14T12:14:33.423Z"
   },
   {
    "duration": 117,
    "start_time": "2021-11-14T12:14:36.477Z"
   },
   {
    "duration": 15,
    "start_time": "2021-11-14T12:14:46.184Z"
   },
   {
    "duration": 49,
    "start_time": "2021-11-14T12:14:52.070Z"
   },
   {
    "duration": 418,
    "start_time": "2021-11-14T12:14:59.418Z"
   },
   {
    "duration": 86,
    "start_time": "2021-11-14T12:15:01.184Z"
   },
   {
    "duration": 55,
    "start_time": "2021-11-14T12:15:03.974Z"
   },
   {
    "duration": 4,
    "start_time": "2021-11-14T12:15:22.243Z"
   },
   {
    "duration": 58,
    "start_time": "2021-11-14T12:15:36.743Z"
   },
   {
    "duration": 330,
    "start_time": "2021-11-14T12:15:43.552Z"
   },
   {
    "duration": 10,
    "start_time": "2021-11-14T12:15:46.792Z"
   },
   {
    "duration": 10,
    "start_time": "2021-11-14T12:16:28.224Z"
   },
   {
    "duration": 4,
    "start_time": "2021-11-14T12:17:54.896Z"
   },
   {
    "duration": 618,
    "start_time": "2021-11-14T12:17:54.902Z"
   },
   {
    "duration": 409,
    "start_time": "2021-11-14T12:17:55.522Z"
   },
   {
    "duration": 18,
    "start_time": "2021-11-14T12:17:55.933Z"
   },
   {
    "duration": 17,
    "start_time": "2021-11-14T12:17:55.954Z"
   },
   {
    "duration": 13,
    "start_time": "2021-11-14T12:17:55.973Z"
   },
   {
    "duration": 7,
    "start_time": "2021-11-14T12:17:55.988Z"
   },
   {
    "duration": 6,
    "start_time": "2021-11-14T12:17:55.998Z"
   },
   {
    "duration": 204,
    "start_time": "2021-11-14T12:17:56.006Z"
   },
   {
    "duration": 4,
    "start_time": "2021-11-14T12:17:56.212Z"
   },
   {
    "duration": 156,
    "start_time": "2021-11-14T12:17:56.218Z"
   },
   {
    "duration": 29,
    "start_time": "2021-11-14T12:17:56.375Z"
   },
   {
    "duration": 60,
    "start_time": "2021-11-14T12:17:56.406Z"
   },
   {
    "duration": 25,
    "start_time": "2021-11-14T12:17:56.468Z"
   },
   {
    "duration": 37,
    "start_time": "2021-11-14T12:17:56.495Z"
   },
   {
    "duration": 50,
    "start_time": "2021-11-14T12:17:56.534Z"
   },
   {
    "duration": 60,
    "start_time": "2021-11-14T12:17:56.586Z"
   },
   {
    "duration": 34,
    "start_time": "2021-11-14T12:17:56.648Z"
   },
   {
    "duration": 39,
    "start_time": "2021-11-14T12:17:56.684Z"
   },
   {
    "duration": 61,
    "start_time": "2021-11-14T12:17:56.725Z"
   },
   {
    "duration": 60,
    "start_time": "2021-11-14T12:17:56.788Z"
   },
   {
    "duration": 44,
    "start_time": "2021-11-14T12:17:56.853Z"
   },
   {
    "duration": 64,
    "start_time": "2021-11-14T12:17:56.900Z"
   },
   {
    "duration": 27,
    "start_time": "2021-11-14T12:17:56.966Z"
   },
   {
    "duration": 50,
    "start_time": "2021-11-14T12:17:56.995Z"
   },
   {
    "duration": 29,
    "start_time": "2021-11-14T12:17:57.047Z"
   },
   {
    "duration": 39,
    "start_time": "2021-11-14T12:17:57.078Z"
   },
   {
    "duration": 43,
    "start_time": "2021-11-14T12:17:57.119Z"
   },
   {
    "duration": 57,
    "start_time": "2021-11-14T12:17:57.164Z"
   },
   {
    "duration": 84,
    "start_time": "2021-11-14T12:17:57.223Z"
   },
   {
    "duration": 17,
    "start_time": "2021-11-14T12:17:57.308Z"
   },
   {
    "duration": 133,
    "start_time": "2021-11-14T12:17:57.327Z"
   },
   {
    "duration": 124,
    "start_time": "2021-11-14T12:17:57.462Z"
   },
   {
    "duration": 111,
    "start_time": "2021-11-14T12:17:57.588Z"
   },
   {
    "duration": 161,
    "start_time": "2021-11-14T12:17:57.701Z"
   },
   {
    "duration": 38046,
    "start_time": "2021-11-14T12:17:57.864Z"
   },
   {
    "duration": 76,
    "start_time": "2021-11-14T12:18:35.911Z"
   },
   {
    "duration": 132,
    "start_time": "2021-11-14T12:18:35.989Z"
   },
   {
    "duration": 154,
    "start_time": "2021-11-14T12:18:36.122Z"
   },
   {
    "duration": 14,
    "start_time": "2021-11-14T12:18:36.277Z"
   },
   {
    "duration": 453,
    "start_time": "2021-11-14T12:18:36.293Z"
   },
   {
    "duration": 80,
    "start_time": "2021-11-14T12:18:36.748Z"
   },
   {
    "duration": 3,
    "start_time": "2021-11-14T12:18:42.972Z"
   },
   {
    "duration": 54,
    "start_time": "2021-11-14T12:18:50.330Z"
   },
   {
    "duration": 48,
    "start_time": "2021-11-14T12:21:21.911Z"
   },
   {
    "duration": 324,
    "start_time": "2021-11-14T12:21:24.150Z"
   },
   {
    "duration": 46,
    "start_time": "2021-11-14T12:21:29.557Z"
   },
   {
    "duration": 10,
    "start_time": "2021-11-14T12:21:38.070Z"
   },
   {
    "duration": 531,
    "start_time": "2021-11-14T12:23:01.481Z"
   },
   {
    "duration": 353,
    "start_time": "2021-11-14T12:23:22.144Z"
   },
   {
    "duration": 11,
    "start_time": "2021-11-14T12:23:29.018Z"
   },
   {
    "duration": 9,
    "start_time": "2021-11-14T12:23:37.887Z"
   },
   {
    "duration": 44,
    "start_time": "2021-11-14T12:23:40.313Z"
   },
   {
    "duration": 16,
    "start_time": "2021-11-14T12:24:02.554Z"
   },
   {
    "duration": 46,
    "start_time": "2021-11-14T12:27:23.252Z"
   },
   {
    "duration": 319,
    "start_time": "2021-11-14T12:27:26.358Z"
   },
   {
    "duration": 11,
    "start_time": "2021-11-14T12:27:29.789Z"
   },
   {
    "duration": 17,
    "start_time": "2021-11-14T12:27:33.915Z"
   },
   {
    "duration": 16,
    "start_time": "2021-11-14T12:28:36.184Z"
   },
   {
    "duration": 19,
    "start_time": "2021-11-14T12:28:45.838Z"
   },
   {
    "duration": 18,
    "start_time": "2021-11-14T12:28:52.917Z"
   },
   {
    "duration": 9,
    "start_time": "2021-11-14T12:30:25.296Z"
   },
   {
    "duration": 48,
    "start_time": "2021-11-14T12:30:28.820Z"
   },
   {
    "duration": 17,
    "start_time": "2021-11-14T12:30:31.120Z"
   },
   {
    "duration": 16,
    "start_time": "2021-11-14T12:31:16.213Z"
   },
   {
    "duration": 318,
    "start_time": "2021-11-14T12:32:15.767Z"
   },
   {
    "duration": 4,
    "start_time": "2021-11-14T12:32:22.638Z"
   },
   {
    "duration": 563,
    "start_time": "2021-11-14T12:32:22.644Z"
   },
   {
    "duration": 346,
    "start_time": "2021-11-14T12:32:23.209Z"
   },
   {
    "duration": 7,
    "start_time": "2021-11-14T12:32:23.557Z"
   },
   {
    "duration": 22,
    "start_time": "2021-11-14T12:32:23.566Z"
   },
   {
    "duration": 14,
    "start_time": "2021-11-14T12:32:23.589Z"
   },
   {
    "duration": 6,
    "start_time": "2021-11-14T12:32:23.605Z"
   },
   {
    "duration": 14,
    "start_time": "2021-11-14T12:32:23.614Z"
   },
   {
    "duration": 171,
    "start_time": "2021-11-14T12:32:23.630Z"
   },
   {
    "duration": 3,
    "start_time": "2021-11-14T12:32:23.803Z"
   },
   {
    "duration": 150,
    "start_time": "2021-11-14T12:32:23.808Z"
   },
   {
    "duration": 28,
    "start_time": "2021-11-14T12:32:23.959Z"
   },
   {
    "duration": 38,
    "start_time": "2021-11-14T12:32:23.988Z"
   },
   {
    "duration": 35,
    "start_time": "2021-11-14T12:32:24.028Z"
   },
   {
    "duration": 37,
    "start_time": "2021-11-14T12:32:24.064Z"
   },
   {
    "duration": 53,
    "start_time": "2021-11-14T12:32:24.103Z"
   },
   {
    "duration": 44,
    "start_time": "2021-11-14T12:32:24.157Z"
   },
   {
    "duration": 43,
    "start_time": "2021-11-14T12:32:24.202Z"
   },
   {
    "duration": 37,
    "start_time": "2021-11-14T12:32:24.248Z"
   },
   {
    "duration": 39,
    "start_time": "2021-11-14T12:32:24.288Z"
   },
   {
    "duration": 55,
    "start_time": "2021-11-14T12:32:24.329Z"
   },
   {
    "duration": 41,
    "start_time": "2021-11-14T12:32:24.386Z"
   },
   {
    "duration": 45,
    "start_time": "2021-11-14T12:32:24.445Z"
   },
   {
    "duration": 28,
    "start_time": "2021-11-14T12:32:24.492Z"
   },
   {
    "duration": 57,
    "start_time": "2021-11-14T12:32:24.521Z"
   },
   {
    "duration": 32,
    "start_time": "2021-11-14T12:32:24.580Z"
   },
   {
    "duration": 45,
    "start_time": "2021-11-14T12:32:24.614Z"
   },
   {
    "duration": 24,
    "start_time": "2021-11-14T12:32:24.661Z"
   },
   {
    "duration": 76,
    "start_time": "2021-11-14T12:32:24.687Z"
   },
   {
    "duration": 62,
    "start_time": "2021-11-14T12:32:24.765Z"
   },
   {
    "duration": 26,
    "start_time": "2021-11-14T12:32:24.829Z"
   },
   {
    "duration": 113,
    "start_time": "2021-11-14T12:32:24.857Z"
   },
   {
    "duration": 110,
    "start_time": "2021-11-14T12:32:24.972Z"
   },
   {
    "duration": 114,
    "start_time": "2021-11-14T12:32:25.084Z"
   },
   {
    "duration": 139,
    "start_time": "2021-11-14T12:32:25.200Z"
   },
   {
    "duration": 34494,
    "start_time": "2021-11-14T12:32:25.345Z"
   },
   {
    "duration": 62,
    "start_time": "2021-11-14T12:32:59.840Z"
   },
   {
    "duration": 140,
    "start_time": "2021-11-14T12:32:59.904Z"
   },
   {
    "duration": 129,
    "start_time": "2021-11-14T12:33:00.046Z"
   },
   {
    "duration": 15,
    "start_time": "2021-11-14T12:33:00.176Z"
   },
   {
    "duration": 417,
    "start_time": "2021-11-14T12:33:00.192Z"
   },
   {
    "duration": 82,
    "start_time": "2021-11-14T12:33:00.611Z"
   },
   {
    "duration": 3,
    "start_time": "2021-11-14T12:33:00.694Z"
   },
   {
    "duration": 290,
    "start_time": "2021-11-14T12:33:06.514Z"
   },
   {
    "duration": 17,
    "start_time": "2021-11-14T12:33:10.836Z"
   },
   {
    "duration": 10,
    "start_time": "2021-11-14T12:33:13.528Z"
   },
   {
    "duration": 18,
    "start_time": "2021-11-14T12:33:21.314Z"
   },
   {
    "duration": 14,
    "start_time": "2021-11-14T12:34:37.245Z"
   },
   {
    "duration": 16,
    "start_time": "2021-11-14T12:36:17.062Z"
   },
   {
    "duration": 272,
    "start_time": "2021-11-14T12:36:28.985Z"
   },
   {
    "duration": 277,
    "start_time": "2021-11-14T12:36:53.497Z"
   },
   {
    "duration": 279,
    "start_time": "2021-11-14T12:37:00.598Z"
   },
   {
    "duration": 303,
    "start_time": "2021-11-14T12:37:15.078Z"
   },
   {
    "duration": 294,
    "start_time": "2021-11-14T12:37:19.467Z"
   },
   {
    "duration": 15,
    "start_time": "2021-11-14T12:37:22.566Z"
   },
   {
    "duration": 25,
    "start_time": "2021-11-14T12:37:37.616Z"
   },
   {
    "duration": 16,
    "start_time": "2021-11-14T12:37:48.295Z"
   },
   {
    "duration": 17,
    "start_time": "2021-11-14T12:37:55.636Z"
   },
   {
    "duration": 16,
    "start_time": "2021-11-14T12:38:04.212Z"
   },
   {
    "duration": 1212,
    "start_time": "2021-11-14T12:41:35.817Z"
   },
   {
    "duration": 607,
    "start_time": "2021-11-14T12:41:37.031Z"
   },
   {
    "duration": 375,
    "start_time": "2021-11-14T12:41:37.640Z"
   },
   {
    "duration": 8,
    "start_time": "2021-11-14T12:41:38.018Z"
   },
   {
    "duration": 29,
    "start_time": "2021-11-14T12:41:38.028Z"
   },
   {
    "duration": 13,
    "start_time": "2021-11-14T12:41:38.059Z"
   },
   {
    "duration": 8,
    "start_time": "2021-11-14T12:41:38.073Z"
   },
   {
    "duration": 5,
    "start_time": "2021-11-14T12:41:38.085Z"
   },
   {
    "duration": 214,
    "start_time": "2021-11-14T12:41:38.093Z"
   },
   {
    "duration": 4,
    "start_time": "2021-11-14T12:41:38.309Z"
   },
   {
    "duration": 139,
    "start_time": "2021-11-14T12:41:38.314Z"
   },
   {
    "duration": 30,
    "start_time": "2021-11-14T12:41:38.454Z"
   },
   {
    "duration": 37,
    "start_time": "2021-11-14T12:41:38.486Z"
   },
   {
    "duration": 43,
    "start_time": "2021-11-14T12:41:38.525Z"
   },
   {
    "duration": 36,
    "start_time": "2021-11-14T12:41:38.569Z"
   },
   {
    "duration": 62,
    "start_time": "2021-11-14T12:41:38.607Z"
   },
   {
    "duration": 87,
    "start_time": "2021-11-14T12:41:38.671Z"
   },
   {
    "duration": 44,
    "start_time": "2021-11-14T12:41:38.760Z"
   },
   {
    "duration": 78,
    "start_time": "2021-11-14T12:41:38.806Z"
   },
   {
    "duration": 68,
    "start_time": "2021-11-14T12:41:38.886Z"
   },
   {
    "duration": 75,
    "start_time": "2021-11-14T12:41:38.957Z"
   },
   {
    "duration": 73,
    "start_time": "2021-11-14T12:41:39.034Z"
   },
   {
    "duration": 84,
    "start_time": "2021-11-14T12:41:39.112Z"
   },
   {
    "duration": 54,
    "start_time": "2021-11-14T12:41:39.199Z"
   },
   {
    "duration": 65,
    "start_time": "2021-11-14T12:41:39.255Z"
   },
   {
    "duration": 51,
    "start_time": "2021-11-14T12:41:39.321Z"
   },
   {
    "duration": 74,
    "start_time": "2021-11-14T12:41:39.374Z"
   },
   {
    "duration": 33,
    "start_time": "2021-11-14T12:41:39.451Z"
   },
   {
    "duration": 109,
    "start_time": "2021-11-14T12:41:39.486Z"
   },
   {
    "duration": 106,
    "start_time": "2021-11-14T12:41:39.596Z"
   },
   {
    "duration": 30,
    "start_time": "2021-11-14T12:41:39.704Z"
   },
   {
    "duration": 191,
    "start_time": "2021-11-14T12:41:39.744Z"
   },
   {
    "duration": 201,
    "start_time": "2021-11-14T12:41:39.937Z"
   },
   {
    "duration": 197,
    "start_time": "2021-11-14T12:41:40.140Z"
   },
   {
    "duration": 233,
    "start_time": "2021-11-14T12:41:40.339Z"
   },
   {
    "duration": 50025,
    "start_time": "2021-11-14T12:41:40.574Z"
   },
   {
    "duration": 82,
    "start_time": "2021-11-14T12:42:30.601Z"
   },
   {
    "duration": 129,
    "start_time": "2021-11-14T12:42:30.685Z"
   },
   {
    "duration": 133,
    "start_time": "2021-11-14T12:42:30.816Z"
   },
   {
    "duration": 14,
    "start_time": "2021-11-14T12:42:30.951Z"
   },
   {
    "duration": 412,
    "start_time": "2021-11-14T12:42:30.966Z"
   },
   {
    "duration": 94,
    "start_time": "2021-11-14T12:42:31.380Z"
   },
   {
    "duration": 4,
    "start_time": "2021-11-14T12:42:31.476Z"
   },
   {
    "duration": 17,
    "start_time": "2021-11-14T12:55:07.201Z"
   },
   {
    "duration": 363,
    "start_time": "2021-11-14T12:55:17.615Z"
   },
   {
    "duration": 48,
    "start_time": "2021-11-14T12:55:34.117Z"
   },
   {
    "duration": 185,
    "start_time": "2021-11-14T13:43:57.138Z"
   },
   {
    "duration": 5,
    "start_time": "2021-11-14T13:50:08.732Z"
   },
   {
    "duration": 293,
    "start_time": "2021-11-14T13:50:12.492Z"
   },
   {
    "duration": 4,
    "start_time": "2021-11-14T13:50:23.623Z"
   },
   {
    "duration": 592,
    "start_time": "2021-11-14T13:50:23.629Z"
   },
   {
    "duration": 378,
    "start_time": "2021-11-14T13:50:24.223Z"
   },
   {
    "duration": 7,
    "start_time": "2021-11-14T13:50:24.603Z"
   },
   {
    "duration": 32,
    "start_time": "2021-11-14T13:50:24.612Z"
   },
   {
    "duration": 13,
    "start_time": "2021-11-14T13:50:24.646Z"
   },
   {
    "duration": 7,
    "start_time": "2021-11-14T13:50:24.660Z"
   },
   {
    "duration": 8,
    "start_time": "2021-11-14T13:50:24.668Z"
   },
   {
    "duration": 185,
    "start_time": "2021-11-14T13:50:24.679Z"
   },
   {
    "duration": 4,
    "start_time": "2021-11-14T13:50:24.866Z"
   },
   {
    "duration": 141,
    "start_time": "2021-11-14T13:50:24.871Z"
   },
   {
    "duration": 39,
    "start_time": "2021-11-14T13:50:25.014Z"
   },
   {
    "duration": 38,
    "start_time": "2021-11-14T13:50:25.055Z"
   },
   {
    "duration": 26,
    "start_time": "2021-11-14T13:50:25.095Z"
   },
   {
    "duration": 54,
    "start_time": "2021-11-14T13:50:25.123Z"
   },
   {
    "duration": 41,
    "start_time": "2021-11-14T13:50:25.179Z"
   },
   {
    "duration": 66,
    "start_time": "2021-11-14T13:50:25.222Z"
   },
   {
    "duration": 30,
    "start_time": "2021-11-14T13:50:25.290Z"
   },
   {
    "duration": 56,
    "start_time": "2021-11-14T13:50:25.322Z"
   },
   {
    "duration": 42,
    "start_time": "2021-11-14T13:50:25.379Z"
   },
   {
    "duration": 57,
    "start_time": "2021-11-14T13:50:25.423Z"
   },
   {
    "duration": 43,
    "start_time": "2021-11-14T13:50:25.482Z"
   },
   {
    "duration": 61,
    "start_time": "2021-11-14T13:50:25.526Z"
   },
   {
    "duration": 29,
    "start_time": "2021-11-14T13:50:25.589Z"
   },
   {
    "duration": 50,
    "start_time": "2021-11-14T13:50:25.619Z"
   },
   {
    "duration": 25,
    "start_time": "2021-11-14T13:50:25.671Z"
   },
   {
    "duration": 52,
    "start_time": "2021-11-14T13:50:25.699Z"
   },
   {
    "duration": 22,
    "start_time": "2021-11-14T13:50:25.754Z"
   },
   {
    "duration": 74,
    "start_time": "2021-11-14T13:50:25.778Z"
   },
   {
    "duration": 56,
    "start_time": "2021-11-14T13:50:25.854Z"
   },
   {
    "duration": 16,
    "start_time": "2021-11-14T13:50:25.911Z"
   },
   {
    "duration": 120,
    "start_time": "2021-11-14T13:50:25.929Z"
   },
   {
    "duration": 108,
    "start_time": "2021-11-14T13:50:26.051Z"
   },
   {
    "duration": 102,
    "start_time": "2021-11-14T13:50:26.161Z"
   },
   {
    "duration": 133,
    "start_time": "2021-11-14T13:50:26.265Z"
   },
   {
    "duration": 35044,
    "start_time": "2021-11-14T13:50:26.400Z"
   },
   {
    "duration": 62,
    "start_time": "2021-11-14T13:51:01.446Z"
   },
   {
    "duration": 128,
    "start_time": "2021-11-14T13:51:01.510Z"
   },
   {
    "duration": 132,
    "start_time": "2021-11-14T13:51:01.640Z"
   },
   {
    "duration": 15,
    "start_time": "2021-11-14T13:51:01.774Z"
   },
   {
    "duration": 453,
    "start_time": "2021-11-14T13:51:01.791Z"
   },
   {
    "duration": 74,
    "start_time": "2021-11-14T13:51:02.246Z"
   },
   {
    "duration": 3,
    "start_time": "2021-11-14T13:51:02.322Z"
   },
   {
    "duration": 18,
    "start_time": "2021-11-14T13:51:02.326Z"
   },
   {
    "duration": 354,
    "start_time": "2021-11-14T13:51:02.346Z"
   },
   {
    "duration": 15,
    "start_time": "2021-11-14T13:51:02.702Z"
   },
   {
    "duration": 31,
    "start_time": "2021-11-14T13:51:02.719Z"
   },
   {
    "duration": 293,
    "start_time": "2021-11-14T13:51:02.752Z"
   },
   {
    "duration": 449,
    "start_time": "2021-11-14T13:51:02.598Z"
   },
   {
    "duration": 434,
    "start_time": "2021-11-14T13:51:02.614Z"
   },
   {
    "duration": 429,
    "start_time": "2021-11-14T13:51:02.620Z"
   },
   {
    "duration": 427,
    "start_time": "2021-11-14T13:51:02.623Z"
   },
   {
    "duration": 425,
    "start_time": "2021-11-14T13:51:02.626Z"
   },
   {
    "duration": 423,
    "start_time": "2021-11-14T13:51:02.629Z"
   },
   {
    "duration": 286,
    "start_time": "2021-11-14T13:52:29.148Z"
   },
   {
    "duration": 4,
    "start_time": "2021-11-14T13:52:57.123Z"
   },
   {
    "duration": 587,
    "start_time": "2021-11-14T13:52:57.128Z"
   },
   {
    "duration": 352,
    "start_time": "2021-11-14T13:52:57.717Z"
   },
   {
    "duration": 8,
    "start_time": "2021-11-14T13:52:58.070Z"
   },
   {
    "duration": 16,
    "start_time": "2021-11-14T13:52:58.079Z"
   },
   {
    "duration": 12,
    "start_time": "2021-11-14T13:52:58.096Z"
   },
   {
    "duration": 7,
    "start_time": "2021-11-14T13:52:58.109Z"
   },
   {
    "duration": 7,
    "start_time": "2021-11-14T13:52:58.145Z"
   },
   {
    "duration": 164,
    "start_time": "2021-11-14T13:52:58.155Z"
   },
   {
    "duration": 4,
    "start_time": "2021-11-14T13:52:58.321Z"
   },
   {
    "duration": 146,
    "start_time": "2021-11-14T13:52:58.327Z"
   },
   {
    "duration": 29,
    "start_time": "2021-11-14T13:52:58.474Z"
   },
   {
    "duration": 54,
    "start_time": "2021-11-14T13:52:58.504Z"
   },
   {
    "duration": 24,
    "start_time": "2021-11-14T13:52:58.560Z"
   },
   {
    "duration": 39,
    "start_time": "2021-11-14T13:52:58.586Z"
   },
   {
    "duration": 49,
    "start_time": "2021-11-14T13:52:58.626Z"
   },
   {
    "duration": 42,
    "start_time": "2021-11-14T13:52:58.677Z"
   },
   {
    "duration": 40,
    "start_time": "2021-11-14T13:52:58.721Z"
   },
   {
    "duration": 37,
    "start_time": "2021-11-14T13:52:58.763Z"
   },
   {
    "duration": 56,
    "start_time": "2021-11-14T13:52:58.802Z"
   },
   {
    "duration": 45,
    "start_time": "2021-11-14T13:52:58.859Z"
   },
   {
    "duration": 58,
    "start_time": "2021-11-14T13:52:58.906Z"
   },
   {
    "duration": 47,
    "start_time": "2021-11-14T13:52:58.966Z"
   },
   {
    "duration": 40,
    "start_time": "2021-11-14T13:52:59.015Z"
   },
   {
    "duration": 38,
    "start_time": "2021-11-14T13:52:59.057Z"
   },
   {
    "duration": 25,
    "start_time": "2021-11-14T13:52:59.097Z"
   },
   {
    "duration": 37,
    "start_time": "2021-11-14T13:52:59.146Z"
   },
   {
    "duration": 23,
    "start_time": "2021-11-14T13:52:59.186Z"
   },
   {
    "duration": 75,
    "start_time": "2021-11-14T13:52:59.210Z"
   },
   {
    "duration": 68,
    "start_time": "2021-11-14T13:52:59.286Z"
   },
   {
    "duration": 18,
    "start_time": "2021-11-14T13:52:59.356Z"
   },
   {
    "duration": 118,
    "start_time": "2021-11-14T13:52:59.375Z"
   },
   {
    "duration": 112,
    "start_time": "2021-11-14T13:52:59.495Z"
   },
   {
    "duration": 109,
    "start_time": "2021-11-14T13:52:59.609Z"
   },
   {
    "duration": 141,
    "start_time": "2021-11-14T13:52:59.720Z"
   },
   {
    "duration": 33908,
    "start_time": "2021-11-14T13:52:59.862Z"
   },
   {
    "duration": 62,
    "start_time": "2021-11-14T13:53:33.772Z"
   },
   {
    "duration": 129,
    "start_time": "2021-11-14T13:53:33.836Z"
   },
   {
    "duration": 132,
    "start_time": "2021-11-14T13:53:33.967Z"
   },
   {
    "duration": 13,
    "start_time": "2021-11-14T13:53:34.101Z"
   },
   {
    "duration": 436,
    "start_time": "2021-11-14T13:53:34.116Z"
   },
   {
    "duration": 95,
    "start_time": "2021-11-14T13:53:34.554Z"
   },
   {
    "duration": 4,
    "start_time": "2021-11-14T13:53:34.651Z"
   },
   {
    "duration": 17,
    "start_time": "2021-11-14T13:53:34.657Z"
   },
   {
    "duration": 561,
    "start_time": "2021-11-14T13:53:34.676Z"
   },
   {
    "duration": 427,
    "start_time": "2021-11-14T13:53:34.812Z"
   },
   {
    "duration": 426,
    "start_time": "2021-11-14T13:53:34.814Z"
   },
   {
    "duration": 424,
    "start_time": "2021-11-14T13:53:34.817Z"
   },
   {
    "duration": 400,
    "start_time": "2021-11-14T13:53:34.842Z"
   },
   {
    "duration": 334,
    "start_time": "2021-11-14T13:53:34.909Z"
   },
   {
    "duration": 330,
    "start_time": "2021-11-14T13:53:34.913Z"
   },
   {
    "duration": 319,
    "start_time": "2021-11-14T13:53:34.925Z"
   },
   {
    "duration": 313,
    "start_time": "2021-11-14T13:53:34.932Z"
   },
   {
    "duration": 312,
    "start_time": "2021-11-14T13:53:34.934Z"
   },
   {
    "duration": 322,
    "start_time": "2021-11-14T13:54:04.725Z"
   },
   {
    "duration": 17,
    "start_time": "2021-11-14T13:54:05.049Z"
   },
   {
    "duration": 105,
    "start_time": "2021-11-14T13:54:05.069Z"
   },
   {
    "duration": 16,
    "start_time": "2021-11-14T13:54:05.176Z"
   },
   {
    "duration": 25,
    "start_time": "2021-11-14T13:54:05.193Z"
   },
   {
    "duration": 112,
    "start_time": "2021-11-14T13:54:05.219Z"
   },
   {
    "duration": 88,
    "start_time": "2021-11-14T13:54:05.333Z"
   },
   {
    "duration": 75,
    "start_time": "2021-11-14T13:54:05.424Z"
   },
   {
    "duration": 4,
    "start_time": "2021-11-14T13:54:05.501Z"
   },
   {
    "duration": 12,
    "start_time": "2021-11-14T13:54:05.507Z"
   },
   {
    "duration": 7,
    "start_time": "2021-11-14T13:54:05.521Z"
   },
   {
    "duration": 428,
    "start_time": "2021-11-14T13:54:05.102Z"
   },
   {
    "duration": 425,
    "start_time": "2021-11-14T13:54:05.106Z"
   },
   {
    "duration": 424,
    "start_time": "2021-11-14T13:54:05.108Z"
   },
   {
    "duration": 421,
    "start_time": "2021-11-14T13:54:05.111Z"
   },
   {
    "duration": 417,
    "start_time": "2021-11-14T13:54:05.116Z"
   },
   {
    "duration": 5,
    "start_time": "2021-11-14T13:55:13.435Z"
   },
   {
    "duration": 5,
    "start_time": "2021-11-14T13:55:16.915Z"
   },
   {
    "duration": 5,
    "start_time": "2021-11-14T13:55:21.473Z"
   },
   {
    "duration": 3,
    "start_time": "2021-11-14T13:55:31.022Z"
   },
   {
    "duration": 584,
    "start_time": "2021-11-14T13:55:32.784Z"
   },
   {
    "duration": 519,
    "start_time": "2021-11-14T13:56:00.361Z"
   },
   {
    "duration": 1194,
    "start_time": "2021-11-14T19:08:59.430Z"
   },
   {
    "duration": 583,
    "start_time": "2021-11-14T19:09:00.626Z"
   },
   {
    "duration": 392,
    "start_time": "2021-11-14T19:09:01.211Z"
   },
   {
    "duration": 8,
    "start_time": "2021-11-14T19:09:01.605Z"
   },
   {
    "duration": 31,
    "start_time": "2021-11-14T19:09:01.615Z"
   },
   {
    "duration": 13,
    "start_time": "2021-11-14T19:09:01.648Z"
   },
   {
    "duration": 15,
    "start_time": "2021-11-14T19:09:01.663Z"
   },
   {
    "duration": 15,
    "start_time": "2021-11-14T19:09:01.681Z"
   },
   {
    "duration": 175,
    "start_time": "2021-11-14T19:09:01.698Z"
   },
   {
    "duration": 4,
    "start_time": "2021-11-14T19:09:01.875Z"
   },
   {
    "duration": 143,
    "start_time": "2021-11-14T19:09:01.880Z"
   },
   {
    "duration": 38,
    "start_time": "2021-11-14T19:09:02.025Z"
   },
   {
    "duration": 41,
    "start_time": "2021-11-14T19:09:02.065Z"
   },
   {
    "duration": 45,
    "start_time": "2021-11-14T19:09:02.108Z"
   },
   {
    "duration": 47,
    "start_time": "2021-11-14T19:09:02.155Z"
   },
   {
    "duration": 59,
    "start_time": "2021-11-14T19:09:02.204Z"
   },
   {
    "duration": 42,
    "start_time": "2021-11-14T19:09:02.264Z"
   },
   {
    "duration": 41,
    "start_time": "2021-11-14T19:09:02.307Z"
   },
   {
    "duration": 38,
    "start_time": "2021-11-14T19:09:02.349Z"
   },
   {
    "duration": 38,
    "start_time": "2021-11-14T19:09:02.389Z"
   },
   {
    "duration": 55,
    "start_time": "2021-11-14T19:09:02.428Z"
   },
   {
    "duration": 41,
    "start_time": "2021-11-14T19:09:02.485Z"
   },
   {
    "duration": 58,
    "start_time": "2021-11-14T19:09:02.529Z"
   },
   {
    "duration": 28,
    "start_time": "2021-11-14T19:09:02.589Z"
   },
   {
    "duration": 53,
    "start_time": "2021-11-14T19:09:02.618Z"
   },
   {
    "duration": 24,
    "start_time": "2021-11-14T19:09:02.672Z"
   },
   {
    "duration": 52,
    "start_time": "2021-11-14T19:09:02.698Z"
   },
   {
    "duration": 22,
    "start_time": "2021-11-14T19:09:02.752Z"
   },
   {
    "duration": 72,
    "start_time": "2021-11-14T19:09:02.776Z"
   },
   {
    "duration": 61,
    "start_time": "2021-11-14T19:09:02.850Z"
   },
   {
    "duration": 34,
    "start_time": "2021-11-14T19:09:02.913Z"
   },
   {
    "duration": 108,
    "start_time": "2021-11-14T19:09:02.949Z"
   },
   {
    "duration": 105,
    "start_time": "2021-11-14T19:09:03.059Z"
   },
   {
    "duration": 109,
    "start_time": "2021-11-14T19:09:03.166Z"
   },
   {
    "duration": 138,
    "start_time": "2021-11-14T19:09:03.277Z"
   },
   {
    "duration": 33610,
    "start_time": "2021-11-14T19:09:03.417Z"
   },
   {
    "duration": 68,
    "start_time": "2021-11-14T19:09:37.029Z"
   },
   {
    "duration": 126,
    "start_time": "2021-11-14T19:09:37.099Z"
   },
   {
    "duration": 133,
    "start_time": "2021-11-14T19:09:37.226Z"
   },
   {
    "duration": 13,
    "start_time": "2021-11-14T19:09:37.361Z"
   },
   {
    "duration": 396,
    "start_time": "2021-11-14T19:09:37.376Z"
   },
   {
    "duration": 80,
    "start_time": "2021-11-14T19:09:37.773Z"
   },
   {
    "duration": 3,
    "start_time": "2021-11-14T19:09:37.854Z"
   },
   {
    "duration": 13,
    "start_time": "2021-11-14T19:09:37.858Z"
   },
   {
    "duration": 825,
    "start_time": "2021-11-14T19:09:37.873Z"
   },
   {
    "duration": 196,
    "start_time": "2021-11-14T19:09:38.505Z"
   },
   {
    "duration": 147,
    "start_time": "2021-11-14T19:09:38.555Z"
   },
   {
    "duration": 144,
    "start_time": "2021-11-14T19:09:38.558Z"
   },
   {
    "duration": 101,
    "start_time": "2021-11-14T19:09:38.602Z"
   },
   {
    "duration": 99,
    "start_time": "2021-11-14T19:09:38.605Z"
   },
   {
    "duration": 16,
    "start_time": "2021-11-14T19:09:38.689Z"
   },
   {
    "duration": 11,
    "start_time": "2021-11-14T19:09:38.695Z"
   },
   {
    "duration": -28,
    "start_time": "2021-11-14T19:09:38.735Z"
   },
   {
    "duration": -261,
    "start_time": "2021-11-14T19:09:38.969Z"
   },
   {
    "duration": -284,
    "start_time": "2021-11-14T19:09:38.993Z"
   },
   {
    "duration": -289,
    "start_time": "2021-11-14T19:09:38.999Z"
   },
   {
    "duration": -293,
    "start_time": "2021-11-14T19:09:39.004Z"
   },
   {
    "duration": -296,
    "start_time": "2021-11-14T19:09:39.008Z"
   },
   {
    "duration": -340,
    "start_time": "2021-11-14T19:09:39.053Z"
   },
   {
    "duration": -668,
    "start_time": "2021-11-14T19:09:39.382Z"
   },
   {
    "duration": 4,
    "start_time": "2021-11-14T19:38:22.486Z"
   },
   {
    "duration": 614,
    "start_time": "2021-11-14T19:38:22.492Z"
   },
   {
    "duration": 363,
    "start_time": "2021-11-14T19:38:23.108Z"
   },
   {
    "duration": 7,
    "start_time": "2021-11-14T19:38:23.472Z"
   },
   {
    "duration": 15,
    "start_time": "2021-11-14T19:38:23.480Z"
   },
   {
    "duration": 10,
    "start_time": "2021-11-14T19:38:23.496Z"
   },
   {
    "duration": 6,
    "start_time": "2021-11-14T19:38:23.508Z"
   },
   {
    "duration": 38,
    "start_time": "2021-11-14T19:38:23.516Z"
   },
   {
    "duration": 149,
    "start_time": "2021-11-14T19:38:23.557Z"
   },
   {
    "duration": 4,
    "start_time": "2021-11-14T19:38:23.708Z"
   },
   {
    "duration": 151,
    "start_time": "2021-11-14T19:38:23.714Z"
   },
   {
    "duration": 28,
    "start_time": "2021-11-14T19:38:23.867Z"
   },
   {
    "duration": 55,
    "start_time": "2021-11-14T19:38:23.897Z"
   },
   {
    "duration": 26,
    "start_time": "2021-11-14T19:38:23.954Z"
   },
   {
    "duration": 33,
    "start_time": "2021-11-14T19:38:23.982Z"
   },
   {
    "duration": 51,
    "start_time": "2021-11-14T19:38:24.016Z"
   },
   {
    "duration": 41,
    "start_time": "2021-11-14T19:38:24.068Z"
   },
   {
    "duration": 44,
    "start_time": "2021-11-14T19:38:24.111Z"
   },
   {
    "duration": 38,
    "start_time": "2021-11-14T19:38:24.160Z"
   },
   {
    "duration": 57,
    "start_time": "2021-11-14T19:38:24.200Z"
   },
   {
    "duration": 43,
    "start_time": "2021-11-14T19:38:24.259Z"
   },
   {
    "duration": 60,
    "start_time": "2021-11-14T19:38:24.303Z"
   },
   {
    "duration": 44,
    "start_time": "2021-11-14T19:38:24.365Z"
   },
   {
    "duration": 50,
    "start_time": "2021-11-14T19:38:24.411Z"
   },
   {
    "duration": 40,
    "start_time": "2021-11-14T19:38:24.463Z"
   },
   {
    "duration": 24,
    "start_time": "2021-11-14T19:38:24.505Z"
   },
   {
    "duration": 56,
    "start_time": "2021-11-14T19:38:24.531Z"
   },
   {
    "duration": 24,
    "start_time": "2021-11-14T19:38:24.589Z"
   },
   {
    "duration": 78,
    "start_time": "2021-11-14T19:38:24.615Z"
   },
   {
    "duration": 71,
    "start_time": "2021-11-14T19:38:24.695Z"
   },
   {
    "duration": 16,
    "start_time": "2021-11-14T19:38:24.768Z"
   },
   {
    "duration": 123,
    "start_time": "2021-11-14T19:38:24.786Z"
   },
   {
    "duration": 113,
    "start_time": "2021-11-14T19:38:24.911Z"
   },
   {
    "duration": 109,
    "start_time": "2021-11-14T19:38:25.026Z"
   },
   {
    "duration": 144,
    "start_time": "2021-11-14T19:38:25.136Z"
   },
   {
    "duration": 36351,
    "start_time": "2021-11-14T19:38:25.282Z"
   },
   {
    "duration": 72,
    "start_time": "2021-11-14T19:39:01.635Z"
   },
   {
    "duration": 138,
    "start_time": "2021-11-14T19:39:01.709Z"
   },
   {
    "duration": 133,
    "start_time": "2021-11-14T19:39:01.849Z"
   },
   {
    "duration": 14,
    "start_time": "2021-11-14T19:39:01.984Z"
   },
   {
    "duration": 433,
    "start_time": "2021-11-14T19:39:02.000Z"
   },
   {
    "duration": 77,
    "start_time": "2021-11-14T19:39:02.434Z"
   },
   {
    "duration": 2,
    "start_time": "2021-11-14T19:39:02.513Z"
   },
   {
    "duration": 46,
    "start_time": "2021-11-14T19:39:44.583Z"
   },
   {
    "duration": 293,
    "start_time": "2021-11-14T19:39:49.403Z"
   },
   {
    "duration": 426,
    "start_time": "2021-11-14T19:41:11.705Z"
   },
   {
    "duration": 7116,
    "start_time": "2021-11-14T19:41:27.753Z"
   },
   {
    "duration": 48,
    "start_time": "2021-11-14T19:42:58.986Z"
   },
   {
    "duration": 1141,
    "start_time": "2021-11-14T19:43:30.102Z"
   },
   {
    "duration": 672,
    "start_time": "2021-11-14T19:43:31.245Z"
   },
   {
    "duration": 487,
    "start_time": "2021-11-14T19:43:31.919Z"
   },
   {
    "duration": 7,
    "start_time": "2021-11-14T19:43:32.407Z"
   },
   {
    "duration": 34,
    "start_time": "2021-11-14T19:43:32.416Z"
   },
   {
    "duration": 26,
    "start_time": "2021-11-14T19:43:32.452Z"
   },
   {
    "duration": 7,
    "start_time": "2021-11-14T19:43:32.480Z"
   },
   {
    "duration": 6,
    "start_time": "2021-11-14T19:43:32.489Z"
   },
   {
    "duration": 178,
    "start_time": "2021-11-14T19:43:32.498Z"
   },
   {
    "duration": 5,
    "start_time": "2021-11-14T19:43:32.678Z"
   },
   {
    "duration": 226,
    "start_time": "2021-11-14T19:43:32.684Z"
   },
   {
    "duration": 52,
    "start_time": "2021-11-14T19:43:32.911Z"
   },
   {
    "duration": 41,
    "start_time": "2021-11-14T19:43:32.965Z"
   },
   {
    "duration": 46,
    "start_time": "2021-11-14T19:43:33.007Z"
   },
   {
    "duration": 60,
    "start_time": "2021-11-14T19:43:33.056Z"
   },
   {
    "duration": 50,
    "start_time": "2021-11-14T19:43:33.118Z"
   },
   {
    "duration": 44,
    "start_time": "2021-11-14T19:43:33.170Z"
   },
   {
    "duration": 47,
    "start_time": "2021-11-14T19:43:33.215Z"
   },
   {
    "duration": 39,
    "start_time": "2021-11-14T19:43:33.266Z"
   },
   {
    "duration": 64,
    "start_time": "2021-11-14T19:43:33.307Z"
   },
   {
    "duration": 46,
    "start_time": "2021-11-14T19:43:33.374Z"
   },
   {
    "duration": 61,
    "start_time": "2021-11-14T19:43:33.422Z"
   },
   {
    "duration": 61,
    "start_time": "2021-11-14T19:43:33.485Z"
   },
   {
    "duration": 37,
    "start_time": "2021-11-14T19:43:33.548Z"
   },
   {
    "duration": 39,
    "start_time": "2021-11-14T19:43:33.587Z"
   },
   {
    "duration": 44,
    "start_time": "2021-11-14T19:43:33.628Z"
   },
   {
    "duration": 35,
    "start_time": "2021-11-14T19:43:33.675Z"
   },
   {
    "duration": 45,
    "start_time": "2021-11-14T19:43:33.712Z"
   },
   {
    "duration": 60,
    "start_time": "2021-11-14T19:43:33.759Z"
   },
   {
    "duration": 81,
    "start_time": "2021-11-14T19:43:33.820Z"
   },
   {
    "duration": 17,
    "start_time": "2021-11-14T19:43:33.902Z"
   },
   {
    "duration": 113,
    "start_time": "2021-11-14T19:43:33.921Z"
   },
   {
    "duration": 121,
    "start_time": "2021-11-14T19:43:34.036Z"
   },
   {
    "duration": 112,
    "start_time": "2021-11-14T19:43:34.159Z"
   },
   {
    "duration": 139,
    "start_time": "2021-11-14T19:43:34.273Z"
   },
   {
    "duration": 37032,
    "start_time": "2021-11-14T19:43:34.414Z"
   },
   {
    "duration": 61,
    "start_time": "2021-11-14T19:44:11.448Z"
   },
   {
    "duration": 137,
    "start_time": "2021-11-14T19:44:11.510Z"
   },
   {
    "duration": 144,
    "start_time": "2021-11-14T19:44:11.648Z"
   },
   {
    "duration": 14,
    "start_time": "2021-11-14T19:44:11.794Z"
   },
   {
    "duration": 442,
    "start_time": "2021-11-14T19:44:11.810Z"
   },
   {
    "duration": 75,
    "start_time": "2021-11-14T19:44:12.254Z"
   },
   {
    "duration": 3,
    "start_time": "2021-11-14T19:44:12.330Z"
   },
   {
    "duration": 376,
    "start_time": "2021-11-14T19:44:36.854Z"
   },
   {
    "duration": 50,
    "start_time": "2021-11-14T19:44:57.752Z"
   },
   {
    "duration": 7213,
    "start_time": "2021-11-14T19:45:05.160Z"
   },
   {
    "duration": 49,
    "start_time": "2021-11-14T19:45:16.961Z"
   },
   {
    "duration": 7205,
    "start_time": "2021-11-14T19:45:41.112Z"
   },
   {
    "duration": 53,
    "start_time": "2021-11-14T19:46:13.032Z"
   },
   {
    "duration": 51,
    "start_time": "2021-11-14T19:46:14.712Z"
   },
   {
    "duration": 337,
    "start_time": "2021-11-14T19:46:40.192Z"
   },
   {
    "duration": 46,
    "start_time": "2021-11-14T19:46:47.560Z"
   },
   {
    "duration": 10,
    "start_time": "2021-11-14T19:46:51.017Z"
   },
   {
    "duration": 3,
    "start_time": "2021-11-14T19:48:04.635Z"
   },
   {
    "duration": 102,
    "start_time": "2021-11-14T19:48:08.336Z"
   },
   {
    "duration": 42,
    "start_time": "2021-11-14T19:48:11.931Z"
   },
   {
    "duration": 37,
    "start_time": "2021-11-14T19:49:02.179Z"
   },
   {
    "duration": 26,
    "start_time": "2021-11-14T19:50:03.466Z"
   },
   {
    "duration": 53,
    "start_time": "2021-11-14T19:50:18.193Z"
   },
   {
    "duration": 287,
    "start_time": "2021-11-14T19:52:46.825Z"
   },
   {
    "duration": 12,
    "start_time": "2021-11-14T19:52:52.736Z"
   },
   {
    "duration": 26,
    "start_time": "2021-11-14T19:53:28.239Z"
   },
   {
    "duration": 28,
    "start_time": "2021-11-14T19:53:44.804Z"
   },
   {
    "duration": 35,
    "start_time": "2021-11-14T19:54:09.493Z"
   },
   {
    "duration": 28,
    "start_time": "2021-11-14T19:54:31.865Z"
   },
   {
    "duration": 26,
    "start_time": "2021-11-14T19:54:48.069Z"
   },
   {
    "duration": 53,
    "start_time": "2021-11-14T19:56:42.822Z"
   },
   {
    "duration": 77,
    "start_time": "2021-11-14T19:57:04.690Z"
   },
   {
    "duration": 126,
    "start_time": "2021-11-14T19:57:32.791Z"
   },
   {
    "duration": 297,
    "start_time": "2021-11-14T19:58:20.353Z"
   },
   {
    "duration": 15489,
    "start_time": "2021-11-14T19:58:39.081Z"
   },
   {
    "duration": 24,
    "start_time": "2021-11-14T19:58:56.913Z"
   },
   {
    "duration": 375,
    "start_time": "2021-11-14T20:02:45.237Z"
   },
   {
    "duration": 7,
    "start_time": "2021-11-14T20:03:00.179Z"
   },
   {
    "duration": 96,
    "start_time": "2021-11-14T20:03:27.949Z"
   },
   {
    "duration": 21,
    "start_time": "2021-11-14T20:03:33.076Z"
   },
   {
    "duration": 23,
    "start_time": "2021-11-14T20:03:53.004Z"
   },
   {
    "duration": 304,
    "start_time": "2021-11-14T20:07:55.576Z"
   },
   {
    "duration": 260,
    "start_time": "2021-11-14T20:08:10.729Z"
   },
   {
    "duration": 4,
    "start_time": "2021-11-14T20:08:24.584Z"
   },
   {
    "duration": 731,
    "start_time": "2021-11-14T20:08:24.590Z"
   },
   {
    "duration": 400,
    "start_time": "2021-11-14T20:08:25.324Z"
   },
   {
    "duration": 18,
    "start_time": "2021-11-14T20:08:25.726Z"
   },
   {
    "duration": 19,
    "start_time": "2021-11-14T20:08:25.746Z"
   },
   {
    "duration": 12,
    "start_time": "2021-11-14T20:08:25.767Z"
   },
   {
    "duration": 7,
    "start_time": "2021-11-14T20:08:25.781Z"
   },
   {
    "duration": 5,
    "start_time": "2021-11-14T20:08:25.791Z"
   },
   {
    "duration": 173,
    "start_time": "2021-11-14T20:08:25.798Z"
   },
   {
    "duration": 3,
    "start_time": "2021-11-14T20:08:25.973Z"
   },
   {
    "duration": 155,
    "start_time": "2021-11-14T20:08:25.978Z"
   },
   {
    "duration": 44,
    "start_time": "2021-11-14T20:08:26.135Z"
   },
   {
    "duration": 39,
    "start_time": "2021-11-14T20:08:26.181Z"
   },
   {
    "duration": 46,
    "start_time": "2021-11-14T20:08:26.221Z"
   },
   {
    "duration": 36,
    "start_time": "2021-11-14T20:08:26.268Z"
   },
   {
    "duration": 63,
    "start_time": "2021-11-14T20:08:26.305Z"
   },
   {
    "duration": 42,
    "start_time": "2021-11-14T20:08:26.370Z"
   },
   {
    "duration": 43,
    "start_time": "2021-11-14T20:08:26.414Z"
   },
   {
    "duration": 40,
    "start_time": "2021-11-14T20:08:26.459Z"
   },
   {
    "duration": 54,
    "start_time": "2021-11-14T20:08:26.501Z"
   },
   {
    "duration": 50,
    "start_time": "2021-11-14T20:08:26.557Z"
   },
   {
    "duration": 61,
    "start_time": "2021-11-14T20:08:26.608Z"
   },
   {
    "duration": 45,
    "start_time": "2021-11-14T20:08:26.672Z"
   },
   {
    "duration": 43,
    "start_time": "2021-11-14T20:08:26.719Z"
   },
   {
    "duration": 39,
    "start_time": "2021-11-14T20:08:26.764Z"
   },
   {
    "duration": 53,
    "start_time": "2021-11-14T20:08:26.805Z"
   },
   {
    "duration": 38,
    "start_time": "2021-11-14T20:08:26.860Z"
   },
   {
    "duration": 22,
    "start_time": "2021-11-14T20:08:26.900Z"
   },
   {
    "duration": 65,
    "start_time": "2021-11-14T20:08:55.011Z"
   },
   {
    "duration": 63,
    "start_time": "2021-11-14T20:08:58.099Z"
   },
   {
    "duration": 57,
    "start_time": "2021-11-14T20:09:08.585Z"
   },
   {
    "duration": 58,
    "start_time": "2021-11-14T20:09:14.313Z"
   },
   {
    "duration": 16,
    "start_time": "2021-11-14T20:09:19.962Z"
   },
   {
    "duration": 115,
    "start_time": "2021-11-14T20:09:21.044Z"
   },
   {
    "duration": 108,
    "start_time": "2021-11-14T20:09:23.738Z"
   },
   {
    "duration": 107,
    "start_time": "2021-11-14T20:09:30.150Z"
   },
   {
    "duration": 129,
    "start_time": "2021-11-14T20:09:42.208Z"
   },
   {
    "duration": 36206,
    "start_time": "2021-11-14T20:09:48.291Z"
   },
   {
    "duration": 65,
    "start_time": "2021-11-14T20:10:26.867Z"
   },
   {
    "duration": 129,
    "start_time": "2021-11-14T20:10:29.948Z"
   },
   {
    "duration": 136,
    "start_time": "2021-11-14T20:10:31.154Z"
   },
   {
    "duration": 14,
    "start_time": "2021-11-14T20:13:30.575Z"
   },
   {
    "duration": 400,
    "start_time": "2021-11-14T20:13:33.368Z"
   },
   {
    "duration": 79,
    "start_time": "2021-11-14T20:13:34.887Z"
   },
   {
    "duration": 3,
    "start_time": "2021-11-14T20:13:42.822Z"
   },
   {
    "duration": 19,
    "start_time": "2021-11-14T20:13:55.386Z"
   },
   {
    "duration": 64,
    "start_time": "2021-11-14T20:14:06.021Z"
   },
   {
    "duration": 32,
    "start_time": "2021-11-14T20:14:19.581Z"
   },
   {
    "duration": 110,
    "start_time": "2021-11-14T20:14:50.062Z"
   },
   {
    "duration": 40,
    "start_time": "2021-11-14T20:14:56.896Z"
   },
   {
    "duration": 3,
    "start_time": "2021-11-14T20:15:40.482Z"
   },
   {
    "duration": 407,
    "start_time": "2021-11-14T20:15:49.205Z"
   },
   {
    "duration": 26,
    "start_time": "2021-11-14T20:15:54.977Z"
   },
   {
    "duration": 6,
    "start_time": "2021-11-14T20:18:30.944Z"
   },
   {
    "duration": 688,
    "start_time": "2021-11-14T20:18:30.952Z"
   },
   {
    "duration": 429,
    "start_time": "2021-11-14T20:18:31.642Z"
   },
   {
    "duration": 7,
    "start_time": "2021-11-14T20:18:32.073Z"
   },
   {
    "duration": 14,
    "start_time": "2021-11-14T20:18:32.082Z"
   },
   {
    "duration": 12,
    "start_time": "2021-11-14T20:18:32.098Z"
   },
   {
    "duration": 35,
    "start_time": "2021-11-14T20:18:32.112Z"
   },
   {
    "duration": 12,
    "start_time": "2021-11-14T20:18:32.150Z"
   },
   {
    "duration": 191,
    "start_time": "2021-11-14T20:18:32.165Z"
   },
   {
    "duration": 4,
    "start_time": "2021-11-14T20:18:32.359Z"
   },
   {
    "duration": 145,
    "start_time": "2021-11-14T20:18:32.364Z"
   },
   {
    "duration": 29,
    "start_time": "2021-11-14T20:18:32.511Z"
   },
   {
    "duration": 42,
    "start_time": "2021-11-14T20:18:32.553Z"
   },
   {
    "duration": 26,
    "start_time": "2021-11-14T20:18:32.596Z"
   },
   {
    "duration": 58,
    "start_time": "2021-11-14T20:18:32.624Z"
   },
   {
    "duration": 38,
    "start_time": "2021-11-14T20:18:32.684Z"
   },
   {
    "duration": 68,
    "start_time": "2021-11-14T20:18:32.723Z"
   },
   {
    "duration": 29,
    "start_time": "2021-11-14T20:18:32.793Z"
   },
   {
    "duration": 61,
    "start_time": "2021-11-14T20:18:32.824Z"
   },
   {
    "duration": 40,
    "start_time": "2021-11-14T20:18:32.887Z"
   },
   {
    "duration": 65,
    "start_time": "2021-11-14T20:18:32.928Z"
   },
   {
    "duration": 53,
    "start_time": "2021-11-14T20:18:32.995Z"
   },
   {
    "duration": 48,
    "start_time": "2021-11-14T20:18:33.052Z"
   },
   {
    "duration": 27,
    "start_time": "2021-11-14T20:18:33.102Z"
   },
   {
    "duration": 43,
    "start_time": "2021-11-14T20:18:33.143Z"
   },
   {
    "duration": 26,
    "start_time": "2021-11-14T20:18:33.188Z"
   },
   {
    "duration": 63,
    "start_time": "2021-11-14T20:18:33.215Z"
   },
   {
    "duration": 22,
    "start_time": "2021-11-14T20:18:33.280Z"
   },
   {
    "duration": 81,
    "start_time": "2021-11-14T20:18:33.304Z"
   },
   {
    "duration": 62,
    "start_time": "2021-11-14T20:18:33.387Z"
   },
   {
    "duration": 19,
    "start_time": "2021-11-14T20:18:33.452Z"
   },
   {
    "duration": 126,
    "start_time": "2021-11-14T20:18:33.473Z"
   },
   {
    "duration": 124,
    "start_time": "2021-11-14T20:18:33.601Z"
   },
   {
    "duration": 134,
    "start_time": "2021-11-14T20:18:33.727Z"
   },
   {
    "duration": 150,
    "start_time": "2021-11-14T20:18:33.862Z"
   },
   {
    "duration": 36990,
    "start_time": "2021-11-14T20:18:34.013Z"
   },
   {
    "duration": 69,
    "start_time": "2021-11-14T20:19:11.004Z"
   },
   {
    "duration": 115,
    "start_time": "2021-11-14T20:19:11.075Z"
   },
   {
    "duration": 132,
    "start_time": "2021-11-14T20:19:11.192Z"
   },
   {
    "duration": 23,
    "start_time": "2021-11-14T20:19:11.326Z"
   },
   {
    "duration": 405,
    "start_time": "2021-11-14T20:19:11.351Z"
   },
   {
    "duration": 74,
    "start_time": "2021-11-14T20:19:11.758Z"
   },
   {
    "duration": 3,
    "start_time": "2021-11-14T20:19:11.834Z"
   },
   {
    "duration": 345,
    "start_time": "2021-11-14T20:20:25.364Z"
   },
   {
    "duration": 14,
    "start_time": "2021-11-14T20:20:30.446Z"
   },
   {
    "duration": 308,
    "start_time": "2021-11-14T20:20:35.730Z"
   },
   {
    "duration": 10,
    "start_time": "2021-11-14T20:20:43.004Z"
   },
   {
    "duration": 18,
    "start_time": "2021-11-14T20:21:13.194Z"
   },
   {
    "duration": 1209,
    "start_time": "2021-11-15T03:03:27.267Z"
   },
   {
    "duration": 684,
    "start_time": "2021-11-15T03:03:28.479Z"
   },
   {
    "duration": 398,
    "start_time": "2021-11-15T03:03:29.166Z"
   },
   {
    "duration": 9,
    "start_time": "2021-11-15T03:03:29.566Z"
   },
   {
    "duration": 21,
    "start_time": "2021-11-15T03:03:29.577Z"
   },
   {
    "duration": 15,
    "start_time": "2021-11-15T03:03:29.600Z"
   },
   {
    "duration": 7,
    "start_time": "2021-11-15T03:03:29.617Z"
   },
   {
    "duration": 39,
    "start_time": "2021-11-15T03:03:29.626Z"
   },
   {
    "duration": 211,
    "start_time": "2021-11-15T03:03:29.668Z"
   },
   {
    "duration": 3,
    "start_time": "2021-11-15T03:03:29.881Z"
   },
   {
    "duration": 139,
    "start_time": "2021-11-15T03:03:29.886Z"
   },
   {
    "duration": 48,
    "start_time": "2021-11-15T03:03:30.027Z"
   },
   {
    "duration": 39,
    "start_time": "2021-11-15T03:03:30.077Z"
   },
   {
    "duration": 46,
    "start_time": "2021-11-15T03:03:30.118Z"
   },
   {
    "duration": 40,
    "start_time": "2021-11-15T03:03:30.166Z"
   },
   {
    "duration": 61,
    "start_time": "2021-11-15T03:03:30.208Z"
   },
   {
    "duration": 48,
    "start_time": "2021-11-15T03:03:30.271Z"
   },
   {
    "duration": 52,
    "start_time": "2021-11-15T03:03:30.321Z"
   },
   {
    "duration": 42,
    "start_time": "2021-11-15T03:03:30.375Z"
   },
   {
    "duration": 63,
    "start_time": "2021-11-15T03:03:30.419Z"
   },
   {
    "duration": 46,
    "start_time": "2021-11-15T03:03:30.484Z"
   },
   {
    "duration": 62,
    "start_time": "2021-11-15T03:03:30.532Z"
   },
   {
    "duration": 49,
    "start_time": "2021-11-15T03:03:30.596Z"
   },
   {
    "duration": 45,
    "start_time": "2021-11-15T03:03:30.647Z"
   },
   {
    "duration": 38,
    "start_time": "2021-11-15T03:03:30.694Z"
   },
   {
    "duration": 44,
    "start_time": "2021-11-15T03:03:30.734Z"
   },
   {
    "duration": 40,
    "start_time": "2021-11-15T03:03:30.782Z"
   },
   {
    "duration": 51,
    "start_time": "2021-11-15T03:03:30.824Z"
   },
   {
    "duration": 65,
    "start_time": "2021-11-15T03:03:30.877Z"
   },
   {
    "duration": 77,
    "start_time": "2021-11-15T03:03:30.944Z"
   },
   {
    "duration": 17,
    "start_time": "2021-11-15T03:03:31.023Z"
   },
   {
    "duration": 118,
    "start_time": "2021-11-15T03:03:31.042Z"
   },
   {
    "duration": 102,
    "start_time": "2021-11-15T03:03:31.163Z"
   },
   {
    "duration": 108,
    "start_time": "2021-11-15T03:03:31.267Z"
   },
   {
    "duration": 146,
    "start_time": "2021-11-15T03:03:31.377Z"
   },
   {
    "duration": 33417,
    "start_time": "2021-11-15T03:03:31.525Z"
   },
   {
    "duration": 70,
    "start_time": "2021-11-15T03:04:04.944Z"
   },
   {
    "duration": 133,
    "start_time": "2021-11-15T03:04:05.016Z"
   },
   {
    "duration": 150,
    "start_time": "2021-11-15T03:04:05.150Z"
   },
   {
    "duration": 15,
    "start_time": "2021-11-15T03:04:05.302Z"
   },
   {
    "duration": 510,
    "start_time": "2021-11-15T03:04:05.319Z"
   },
   {
    "duration": 88,
    "start_time": "2021-11-15T03:04:05.831Z"
   },
   {
    "duration": 3,
    "start_time": "2021-11-15T03:04:05.920Z"
   },
   {
    "duration": 322,
    "start_time": "2021-11-15T03:04:05.925Z"
   },
   {
    "duration": 115,
    "start_time": "2021-11-15T03:04:06.249Z"
   },
   {
    "duration": 122,
    "start_time": "2021-11-15T03:04:06.365Z"
   },
   {
    "duration": 81,
    "start_time": "2021-11-15T03:04:06.488Z"
   },
   {
    "duration": 5,
    "start_time": "2021-11-15T03:05:32.055Z"
   },
   {
    "duration": 4,
    "start_time": "2021-11-15T03:05:45.361Z"
   },
   {
    "duration": 5,
    "start_time": "2021-11-15T03:06:07.488Z"
   },
   {
    "duration": 5,
    "start_time": "2021-11-15T03:06:13.865Z"
   },
   {
    "duration": 4,
    "start_time": "2021-11-15T03:06:26.283Z"
   },
   {
    "duration": 32204,
    "start_time": "2021-11-15T03:06:28.217Z"
   },
   {
    "duration": 4,
    "start_time": "2021-11-15T03:08:21.056Z"
   },
   {
    "duration": 4,
    "start_time": "2021-11-15T03:08:32.655Z"
   },
   {
    "duration": 31123,
    "start_time": "2021-11-15T03:08:35.203Z"
   },
   {
    "duration": 5,
    "start_time": "2021-11-15T03:21:57.727Z"
   },
   {
    "duration": 5,
    "start_time": "2021-11-15T03:22:00.496Z"
   },
   {
    "duration": 5,
    "start_time": "2021-11-15T03:31:14.836Z"
   },
   {
    "duration": 4,
    "start_time": "2021-11-15T03:31:16.874Z"
   },
   {
    "duration": 5,
    "start_time": "2021-11-15T03:41:07.679Z"
   },
   {
    "duration": 5,
    "start_time": "2021-11-15T03:41:11.055Z"
   },
   {
    "duration": 5,
    "start_time": "2021-11-15T03:41:22.407Z"
   },
   {
    "duration": 5,
    "start_time": "2021-11-15T03:41:24.040Z"
   },
   {
    "duration": 3,
    "start_time": "2021-11-15T03:41:32.214Z"
   },
   {
    "duration": 4,
    "start_time": "2021-11-15T03:44:29.626Z"
   },
   {
    "duration": 30677,
    "start_time": "2021-11-15T03:44:31.353Z"
   },
   {
    "duration": 24820,
    "start_time": "2021-11-15T03:45:40.476Z"
   },
   {
    "duration": 25094,
    "start_time": "2021-11-15T03:46:19.675Z"
   },
   {
    "duration": 143513,
    "start_time": "2021-11-15T03:47:12.315Z"
   },
   {
    "duration": 92,
    "start_time": "2021-11-15T03:50:03.550Z"
   },
   {
    "duration": 4,
    "start_time": "2021-11-15T03:50:11.783Z"
   },
   {
    "duration": 242976,
    "start_time": "2021-11-15T03:50:13.998Z"
   },
   {
    "duration": 1293,
    "start_time": "2021-11-15T06:21:43.686Z"
   },
   {
    "duration": 587,
    "start_time": "2021-11-15T06:21:44.981Z"
   },
   {
    "duration": 372,
    "start_time": "2021-11-15T06:21:45.571Z"
   },
   {
    "duration": 9,
    "start_time": "2021-11-15T06:21:45.945Z"
   },
   {
    "duration": 15,
    "start_time": "2021-11-15T06:21:45.955Z"
   },
   {
    "duration": 11,
    "start_time": "2021-11-15T06:21:45.971Z"
   },
   {
    "duration": 6,
    "start_time": "2021-11-15T06:21:46.006Z"
   },
   {
    "duration": 5,
    "start_time": "2021-11-15T06:21:46.015Z"
   },
   {
    "duration": 180,
    "start_time": "2021-11-15T06:21:46.022Z"
   },
   {
    "duration": 5,
    "start_time": "2021-11-15T06:21:46.203Z"
   },
   {
    "duration": 135,
    "start_time": "2021-11-15T06:21:46.209Z"
   },
   {
    "duration": 30,
    "start_time": "2021-11-15T06:21:46.345Z"
   },
   {
    "duration": 49,
    "start_time": "2021-11-15T06:21:46.376Z"
   },
   {
    "duration": 27,
    "start_time": "2021-11-15T06:21:46.427Z"
   },
   {
    "duration": 57,
    "start_time": "2021-11-15T06:21:46.455Z"
   },
   {
    "duration": 37,
    "start_time": "2021-11-15T06:21:46.514Z"
   },
   {
    "duration": 61,
    "start_time": "2021-11-15T06:21:46.553Z"
   },
   {
    "duration": 29,
    "start_time": "2021-11-15T06:21:46.615Z"
   },
   {
    "duration": 40,
    "start_time": "2021-11-15T06:21:46.646Z"
   },
   {
    "duration": 47,
    "start_time": "2021-11-15T06:21:46.688Z"
   },
   {
    "duration": 44,
    "start_time": "2021-11-15T06:21:46.737Z"
   },
   {
    "duration": 63,
    "start_time": "2021-11-15T06:21:46.783Z"
   },
   {
    "duration": 57,
    "start_time": "2021-11-15T06:21:46.851Z"
   },
   {
    "duration": 28,
    "start_time": "2021-11-15T06:21:46.911Z"
   },
   {
    "duration": 36,
    "start_time": "2021-11-15T06:21:46.941Z"
   },
   {
    "duration": 45,
    "start_time": "2021-11-15T06:21:46.979Z"
   },
   {
    "duration": 35,
    "start_time": "2021-11-15T06:21:47.025Z"
   },
   {
    "duration": 21,
    "start_time": "2021-11-15T06:21:47.062Z"
   },
   {
    "duration": 77,
    "start_time": "2021-11-15T06:21:47.085Z"
   },
   {
    "duration": 68,
    "start_time": "2021-11-15T06:21:47.164Z"
   },
   {
    "duration": 15,
    "start_time": "2021-11-15T06:21:47.234Z"
   },
   {
    "duration": 106,
    "start_time": "2021-11-15T06:21:47.251Z"
   },
   {
    "duration": 97,
    "start_time": "2021-11-15T06:21:47.359Z"
   },
   {
    "duration": 104,
    "start_time": "2021-11-15T06:21:47.458Z"
   },
   {
    "duration": 126,
    "start_time": "2021-11-15T06:21:47.564Z"
   },
   {
    "duration": 35756,
    "start_time": "2021-11-15T06:21:47.692Z"
   },
   {
    "duration": 72,
    "start_time": "2021-11-15T06:22:23.450Z"
   },
   {
    "duration": 124,
    "start_time": "2021-11-15T06:22:23.524Z"
   },
   {
    "duration": 130,
    "start_time": "2021-11-15T06:22:23.650Z"
   },
   {
    "duration": 25,
    "start_time": "2021-11-15T06:22:23.781Z"
   },
   {
    "duration": 387,
    "start_time": "2021-11-15T06:22:23.808Z"
   },
   {
    "duration": 79,
    "start_time": "2021-11-15T06:22:24.197Z"
   },
   {
    "duration": 4,
    "start_time": "2021-11-15T06:22:24.277Z"
   },
   {
    "duration": 314,
    "start_time": "2021-11-15T06:22:24.283Z"
   },
   {
    "duration": 97,
    "start_time": "2021-11-15T06:22:24.599Z"
   },
   {
    "duration": 96,
    "start_time": "2021-11-15T06:22:24.698Z"
   },
   {
    "duration": 61,
    "start_time": "2021-11-15T06:22:24.796Z"
   },
   {
    "duration": 5,
    "start_time": "2021-11-15T06:22:24.859Z"
   },
   {
    "duration": 233228,
    "start_time": "2021-11-15T06:22:24.866Z"
   },
   {
    "duration": 29715,
    "start_time": "2021-11-15T06:26:18.096Z"
   },
   {
    "duration": 164001,
    "start_time": "2021-11-15T06:26:47.813Z"
   },
   {
    "duration": 59558,
    "start_time": "2021-11-15T06:29:31.816Z"
   },
   {
    "duration": 61,
    "start_time": "2021-11-15T06:30:31.376Z"
   },
   {
    "duration": 170,
    "start_time": "2021-11-15T06:30:31.438Z"
   },
   {
    "duration": 5,
    "start_time": "2021-11-15T06:32:19.817Z"
   },
   {
    "duration": 263811,
    "start_time": "2021-11-15T06:32:21.397Z"
   },
   {
    "duration": 220072,
    "start_time": "2021-11-15T06:38:19.235Z"
   },
   {
    "duration": 23,
    "start_time": "2021-11-15T06:45:12.314Z"
   },
   {
    "duration": 8,
    "start_time": "2021-11-15T06:48:45.216Z"
   },
   {
    "duration": 26,
    "start_time": "2021-11-15T06:49:18.808Z"
   },
   {
    "duration": 10,
    "start_time": "2021-11-15T06:50:03.478Z"
   },
   {
    "duration": 33052,
    "start_time": "2021-11-15T06:52:40.806Z"
   },
   {
    "duration": 17204,
    "start_time": "2021-11-15T07:27:07.356Z"
   },
   {
    "duration": 7,
    "start_time": "2021-11-15T07:59:14.081Z"
   },
   {
    "duration": 24,
    "start_time": "2021-11-15T07:59:31.049Z"
   },
   {
    "duration": 4,
    "start_time": "2021-11-15T08:02:08.123Z"
   },
   {
    "duration": 568,
    "start_time": "2021-11-15T08:02:08.129Z"
   },
   {
    "duration": 369,
    "start_time": "2021-11-15T08:02:08.699Z"
   },
   {
    "duration": 7,
    "start_time": "2021-11-15T08:02:09.070Z"
   },
   {
    "duration": 31,
    "start_time": "2021-11-15T08:02:09.079Z"
   },
   {
    "duration": 11,
    "start_time": "2021-11-15T08:02:09.111Z"
   },
   {
    "duration": 6,
    "start_time": "2021-11-15T08:02:09.124Z"
   },
   {
    "duration": 5,
    "start_time": "2021-11-15T08:02:09.132Z"
   },
   {
    "duration": 170,
    "start_time": "2021-11-15T08:02:09.139Z"
   },
   {
    "duration": 3,
    "start_time": "2021-11-15T08:02:09.311Z"
   },
   {
    "duration": 129,
    "start_time": "2021-11-15T08:02:09.316Z"
   },
   {
    "duration": 29,
    "start_time": "2021-11-15T08:02:09.447Z"
   },
   {
    "duration": 52,
    "start_time": "2021-11-15T08:02:09.478Z"
   },
   {
    "duration": 26,
    "start_time": "2021-11-15T08:02:09.532Z"
   },
   {
    "duration": 51,
    "start_time": "2021-11-15T08:02:09.560Z"
   },
   {
    "duration": 36,
    "start_time": "2021-11-15T08:02:09.613Z"
   },
   {
    "duration": 41,
    "start_time": "2021-11-15T08:02:09.651Z"
   },
   {
    "duration": 27,
    "start_time": "2021-11-15T08:02:09.706Z"
   },
   {
    "duration": 36,
    "start_time": "2021-11-15T08:02:09.735Z"
   },
   {
    "duration": 50,
    "start_time": "2021-11-15T08:02:09.773Z"
   },
   {
    "duration": 42,
    "start_time": "2021-11-15T08:02:09.824Z"
   },
   {
    "duration": 59,
    "start_time": "2021-11-15T08:02:09.868Z"
   },
   {
    "duration": 43,
    "start_time": "2021-11-15T08:02:09.930Z"
   },
   {
    "duration": 40,
    "start_time": "2021-11-15T08:02:09.975Z"
   },
   {
    "duration": 35,
    "start_time": "2021-11-15T08:02:10.016Z"
   },
   {
    "duration": 23,
    "start_time": "2021-11-15T08:02:10.053Z"
   },
   {
    "duration": 52,
    "start_time": "2021-11-15T08:02:10.078Z"
   },
   {
    "duration": 21,
    "start_time": "2021-11-15T08:02:10.132Z"
   },
   {
    "duration": 71,
    "start_time": "2021-11-15T08:02:10.154Z"
   },
   {
    "duration": 59,
    "start_time": "2021-11-15T08:02:10.226Z"
   },
   {
    "duration": 29,
    "start_time": "2021-11-15T08:02:10.286Z"
   },
   {
    "duration": 100,
    "start_time": "2021-11-15T08:02:10.317Z"
   },
   {
    "duration": 108,
    "start_time": "2021-11-15T08:02:10.418Z"
   },
   {
    "duration": 101,
    "start_time": "2021-11-15T08:02:10.528Z"
   },
   {
    "duration": 129,
    "start_time": "2021-11-15T08:02:10.631Z"
   },
   {
    "duration": 32600,
    "start_time": "2021-11-15T08:02:10.761Z"
   },
   {
    "duration": 68,
    "start_time": "2021-11-15T08:02:43.363Z"
   },
   {
    "duration": 116,
    "start_time": "2021-11-15T08:02:43.432Z"
   },
   {
    "duration": 128,
    "start_time": "2021-11-15T08:02:43.549Z"
   },
   {
    "duration": 12,
    "start_time": "2021-11-15T08:02:43.679Z"
   },
   {
    "duration": 401,
    "start_time": "2021-11-15T08:02:43.693Z"
   },
   {
    "duration": 77,
    "start_time": "2021-11-15T08:02:44.096Z"
   },
   {
    "duration": 3,
    "start_time": "2021-11-15T08:02:44.174Z"
   },
   {
    "duration": 301,
    "start_time": "2021-11-15T08:02:44.179Z"
   },
   {
    "duration": 97,
    "start_time": "2021-11-15T08:02:44.481Z"
   },
   {
    "duration": 82,
    "start_time": "2021-11-15T08:03:04.222Z"
   },
   {
    "duration": 15,
    "start_time": "2021-11-15T08:03:11.435Z"
   },
   {
    "duration": 50,
    "start_time": "2021-11-15T08:03:25.887Z"
   },
   {
    "duration": 5,
    "start_time": "2021-11-15T08:03:31.702Z"
   },
   {
    "duration": 156299,
    "start_time": "2021-11-15T08:03:36.754Z"
   },
   {
    "duration": 5,
    "start_time": "2021-11-15T08:06:19.688Z"
   },
   {
    "duration": 70148,
    "start_time": "2021-11-15T08:06:21.804Z"
   },
   {
    "duration": 4,
    "start_time": "2021-11-15T08:07:43.640Z"
   },
   {
    "duration": 12864,
    "start_time": "2021-11-15T08:07:52.507Z"
   },
   {
    "duration": 4,
    "start_time": "2021-11-15T08:08:13.289Z"
   },
   {
    "duration": 5,
    "start_time": "2021-11-15T08:08:34.409Z"
   },
   {
    "duration": 366,
    "start_time": "2021-11-15T08:08:54.967Z"
   },
   {
    "duration": 4,
    "start_time": "2021-11-15T08:09:52.391Z"
   },
   {
    "duration": 3,
    "start_time": "2021-11-15T08:10:27.962Z"
   },
   {
    "duration": 569,
    "start_time": "2021-11-15T08:10:27.967Z"
   },
   {
    "duration": 352,
    "start_time": "2021-11-15T08:10:28.538Z"
   },
   {
    "duration": 15,
    "start_time": "2021-11-15T08:10:28.891Z"
   },
   {
    "duration": 13,
    "start_time": "2021-11-15T08:10:28.908Z"
   },
   {
    "duration": 13,
    "start_time": "2021-11-15T08:10:28.923Z"
   },
   {
    "duration": 40,
    "start_time": "2021-11-15T08:10:28.939Z"
   },
   {
    "duration": 34,
    "start_time": "2021-11-15T08:10:28.981Z"
   },
   {
    "duration": 184,
    "start_time": "2021-11-15T08:10:29.017Z"
   },
   {
    "duration": 4,
    "start_time": "2021-11-15T08:10:29.202Z"
   },
   {
    "duration": 133,
    "start_time": "2021-11-15T08:10:29.208Z"
   },
   {
    "duration": 29,
    "start_time": "2021-11-15T08:10:29.343Z"
   },
   {
    "duration": 53,
    "start_time": "2021-11-15T08:10:29.374Z"
   },
   {
    "duration": 26,
    "start_time": "2021-11-15T08:10:29.429Z"
   },
   {
    "duration": 40,
    "start_time": "2021-11-15T08:10:29.456Z"
   },
   {
    "duration": 44,
    "start_time": "2021-11-15T08:10:29.506Z"
   },
   {
    "duration": 58,
    "start_time": "2021-11-15T08:10:29.551Z"
   },
   {
    "duration": 30,
    "start_time": "2021-11-15T08:10:29.611Z"
   },
   {
    "duration": 38,
    "start_time": "2021-11-15T08:10:29.644Z"
   },
   {
    "duration": 54,
    "start_time": "2021-11-15T08:10:29.684Z"
   },
   {
    "duration": 51,
    "start_time": "2021-11-15T08:10:29.740Z"
   },
   {
    "duration": 41,
    "start_time": "2021-11-15T08:10:29.805Z"
   },
   {
    "duration": 63,
    "start_time": "2021-11-15T08:10:29.847Z"
   },
   {
    "duration": 28,
    "start_time": "2021-11-15T08:10:29.911Z"
   },
   {
    "duration": 35,
    "start_time": "2021-11-15T08:10:29.940Z"
   },
   {
    "duration": 38,
    "start_time": "2021-11-15T08:10:29.976Z"
   },
   {
    "duration": 45,
    "start_time": "2021-11-15T08:10:30.015Z"
   },
   {
    "duration": 60,
    "start_time": "2021-11-15T08:10:30.062Z"
   },
   {
    "duration": 56,
    "start_time": "2021-11-15T08:10:30.124Z"
   },
   {
    "duration": 74,
    "start_time": "2021-11-15T08:10:30.182Z"
   },
   {
    "duration": 25,
    "start_time": "2021-11-15T08:10:30.258Z"
   },
   {
    "duration": 172,
    "start_time": "2021-11-15T08:10:30.285Z"
   },
   {
    "duration": 112,
    "start_time": "2021-11-15T08:10:30.459Z"
   },
   {
    "duration": 105,
    "start_time": "2021-11-15T08:10:30.573Z"
   },
   {
    "duration": 133,
    "start_time": "2021-11-15T08:10:30.680Z"
   },
   {
    "duration": 33630,
    "start_time": "2021-11-15T08:10:30.815Z"
   },
   {
    "duration": 68,
    "start_time": "2021-11-15T08:11:04.447Z"
   },
   {
    "duration": 123,
    "start_time": "2021-11-15T08:11:04.517Z"
   },
   {
    "duration": 125,
    "start_time": "2021-11-15T08:11:04.641Z"
   },
   {
    "duration": 14,
    "start_time": "2021-11-15T08:11:04.768Z"
   },
   {
    "duration": 415,
    "start_time": "2021-11-15T08:11:04.783Z"
   },
   {
    "duration": 75,
    "start_time": "2021-11-15T08:11:05.199Z"
   },
   {
    "duration": 3,
    "start_time": "2021-11-15T08:11:05.276Z"
   },
   {
    "duration": 306,
    "start_time": "2021-11-15T08:11:05.280Z"
   },
   {
    "duration": 98,
    "start_time": "2021-11-15T08:11:05.587Z"
   },
   {
    "duration": 89,
    "start_time": "2021-11-15T08:11:05.687Z"
   },
   {
    "duration": 49,
    "start_time": "2021-11-15T08:11:30.373Z"
   },
   {
    "duration": 15,
    "start_time": "2021-11-15T08:11:36.502Z"
   },
   {
    "duration": 5,
    "start_time": "2021-11-15T08:11:50.151Z"
   },
   {
    "duration": 15,
    "start_time": "2021-11-15T08:11:54.645Z"
   },
   {
    "duration": 84467,
    "start_time": "2021-11-15T08:13:08.024Z"
   },
   {
    "duration": 15,
    "start_time": "2021-11-15T08:14:36.896Z"
   },
   {
    "duration": 11942,
    "start_time": "2021-11-15T08:15:01.498Z"
   },
   {
    "duration": 4,
    "start_time": "2021-11-15T08:18:37.370Z"
   },
   {
    "duration": 12185,
    "start_time": "2021-11-15T08:25:24.557Z"
   },
   {
    "duration": 17413,
    "start_time": "2021-11-15T08:28:44.716Z"
   },
   {
    "duration": 17983,
    "start_time": "2021-11-15T08:30:02.657Z"
   },
   {
    "duration": 17889,
    "start_time": "2021-11-15T08:30:35.976Z"
   },
   {
    "duration": 18366,
    "start_time": "2021-11-15T08:31:03.248Z"
   },
   {
    "duration": 63213,
    "start_time": "2021-11-15T08:33:03.015Z"
   },
   {
    "duration": 63073,
    "start_time": "2021-11-15T08:34:37.308Z"
   },
   {
    "duration": 54,
    "start_time": "2021-11-15T08:38:11.755Z"
   },
   {
    "duration": 7,
    "start_time": "2021-11-15T08:43:34.671Z"
   },
   {
    "duration": 11024,
    "start_time": "2021-11-15T08:43:51.024Z"
   },
   {
    "duration": 10528,
    "start_time": "2021-11-15T08:44:33.914Z"
   },
   {
    "duration": 4,
    "start_time": "2021-11-15T08:45:01.118Z"
   },
   {
    "duration": 673,
    "start_time": "2021-11-15T08:45:10.238Z"
   },
   {
    "duration": 381,
    "start_time": "2021-11-15T08:45:16.698Z"
   },
   {
    "duration": 10279,
    "start_time": "2021-11-15T08:46:00.498Z"
   },
   {
    "duration": 769,
    "start_time": "2021-11-15T08:49:36.200Z"
   },
   {
    "duration": 4,
    "start_time": "2021-11-15T08:50:00.231Z"
   },
   {
    "duration": 10101,
    "start_time": "2021-11-15T08:50:03.728Z"
   },
   {
    "duration": 13,
    "start_time": "2021-11-15T08:50:21.261Z"
   },
   {
    "duration": 4,
    "start_time": "2021-11-15T09:06:26.548Z"
   },
   {
    "duration": 30373,
    "start_time": "2021-11-15T09:06:28.518Z"
   },
   {
    "duration": 4,
    "start_time": "2021-11-15T09:18:14.465Z"
   },
   {
    "duration": 28118,
    "start_time": "2021-11-15T09:18:16.967Z"
   },
   {
    "duration": 32071,
    "start_time": "2021-11-15T09:20:10.279Z"
   },
   {
    "duration": 445,
    "start_time": "2021-11-15T09:21:28.393Z"
   },
   {
    "duration": 4,
    "start_time": "2021-11-15T09:23:18.047Z"
   },
   {
    "duration": 582,
    "start_time": "2021-11-15T09:23:18.053Z"
   },
   {
    "duration": 395,
    "start_time": "2021-11-15T09:23:18.637Z"
   },
   {
    "duration": 7,
    "start_time": "2021-11-15T09:23:19.034Z"
   },
   {
    "duration": 15,
    "start_time": "2021-11-15T09:23:19.043Z"
   },
   {
    "duration": 12,
    "start_time": "2021-11-15T09:23:19.060Z"
   },
   {
    "duration": 36,
    "start_time": "2021-11-15T09:23:19.074Z"
   },
   {
    "duration": 7,
    "start_time": "2021-11-15T09:23:19.112Z"
   },
   {
    "duration": 158,
    "start_time": "2021-11-15T09:23:19.122Z"
   },
   {
    "duration": 3,
    "start_time": "2021-11-15T09:23:19.282Z"
   },
   {
    "duration": 140,
    "start_time": "2021-11-15T09:23:19.287Z"
   },
   {
    "duration": 30,
    "start_time": "2021-11-15T09:23:19.429Z"
   },
   {
    "duration": 56,
    "start_time": "2021-11-15T09:23:19.461Z"
   },
   {
    "duration": 27,
    "start_time": "2021-11-15T09:23:19.519Z"
   },
   {
    "duration": 39,
    "start_time": "2021-11-15T09:23:19.548Z"
   },
   {
    "duration": 49,
    "start_time": "2021-11-15T09:23:19.588Z"
   },
   {
    "duration": 42,
    "start_time": "2021-11-15T09:23:19.639Z"
   },
   {
    "duration": 40,
    "start_time": "2021-11-15T09:23:19.683Z"
   },
   {
    "duration": 38,
    "start_time": "2021-11-15T09:23:19.724Z"
   },
   {
    "duration": 56,
    "start_time": "2021-11-15T09:23:19.763Z"
   },
   {
    "duration": 45,
    "start_time": "2021-11-15T09:23:19.821Z"
   },
   {
    "duration": 71,
    "start_time": "2021-11-15T09:23:19.867Z"
   },
   {
    "duration": 71,
    "start_time": "2021-11-15T09:23:19.940Z"
   },
   {
    "duration": 28,
    "start_time": "2021-11-15T09:23:20.013Z"
   },
   {
    "duration": 37,
    "start_time": "2021-11-15T09:23:20.043Z"
   },
   {
    "duration": 36,
    "start_time": "2021-11-15T09:23:20.082Z"
   },
   {
    "duration": 35,
    "start_time": "2021-11-15T09:23:20.122Z"
   },
   {
    "duration": 22,
    "start_time": "2021-11-15T09:23:20.159Z"
   },
   {
    "duration": 79,
    "start_time": "2021-11-15T09:23:20.182Z"
   },
   {
    "duration": 99,
    "start_time": "2021-11-15T09:23:20.263Z"
   },
   {
    "duration": 16,
    "start_time": "2021-11-15T09:23:20.364Z"
   },
   {
    "duration": 156,
    "start_time": "2021-11-15T09:23:20.382Z"
   },
   {
    "duration": 109,
    "start_time": "2021-11-15T09:23:20.539Z"
   },
   {
    "duration": 105,
    "start_time": "2021-11-15T09:23:20.650Z"
   },
   {
    "duration": 126,
    "start_time": "2021-11-15T09:23:20.757Z"
   },
   {
    "duration": 34575,
    "start_time": "2021-11-15T09:23:20.885Z"
   },
   {
    "duration": 71,
    "start_time": "2021-11-15T09:23:55.462Z"
   },
   {
    "duration": 118,
    "start_time": "2021-11-15T09:23:55.535Z"
   },
   {
    "duration": 122,
    "start_time": "2021-11-15T09:23:55.655Z"
   },
   {
    "duration": 15,
    "start_time": "2021-11-15T09:23:55.778Z"
   },
   {
    "duration": 434,
    "start_time": "2021-11-15T09:23:55.795Z"
   },
   {
    "duration": 83,
    "start_time": "2021-11-15T09:23:56.231Z"
   },
   {
    "duration": 3,
    "start_time": "2021-11-15T09:23:56.315Z"
   },
   {
    "duration": 306,
    "start_time": "2021-11-15T09:23:56.319Z"
   },
   {
    "duration": 94,
    "start_time": "2021-11-15T09:23:56.627Z"
   },
   {
    "duration": 37,
    "start_time": "2021-11-15T09:23:56.723Z"
   },
   {
    "duration": 61,
    "start_time": "2021-11-15T09:23:56.762Z"
   },
   {
    "duration": 4,
    "start_time": "2021-11-15T09:23:56.825Z"
   },
   {
    "duration": 29479,
    "start_time": "2021-11-15T09:23:56.830Z"
   },
   {
    "duration": 45141,
    "start_time": "2021-11-15T09:24:26.311Z"
   },
   {
    "duration": 468,
    "start_time": "2021-11-15T09:29:46.014Z"
   },
   {
    "duration": 21902,
    "start_time": "2021-11-15T09:30:13.601Z"
   },
   {
    "duration": 558,
    "start_time": "2021-11-15T09:31:00.853Z"
   },
   {
    "duration": 412,
    "start_time": "2021-11-15T09:32:42.612Z"
   },
   {
    "duration": 363,
    "start_time": "2021-11-15T09:33:37.467Z"
   },
   {
    "duration": 63087,
    "start_time": "2021-11-15T09:34:08.420Z"
   },
   {
    "duration": 117,
    "start_time": "2021-11-15T09:35:31.099Z"
   },
   {
    "duration": 12,
    "start_time": "2021-11-15T09:35:34.967Z"
   },
   {
    "duration": 1595,
    "start_time": "2021-11-15T10:08:30.512Z"
   },
   {
    "duration": 7,
    "start_time": "2021-11-15T10:09:54.772Z"
   },
   {
    "duration": 11,
    "start_time": "2021-11-15T10:10:06.836Z"
   }
  ],
  "kernelspec": {
   "display_name": "Python 3",
   "language": "python",
   "name": "python3"
  },
  "language_info": {
   "codemirror_mode": {
    "name": "ipython",
    "version": 3
   },
   "file_extension": ".py",
   "mimetype": "text/x-python",
   "name": "python",
   "nbconvert_exporter": "python",
   "pygments_lexer": "ipython3",
   "version": "3.8.3"
  },
  "toc": {
   "base_numbering": 1,
   "nav_menu": {},
   "number_sections": true,
   "sideBar": true,
   "skip_h1_title": true,
   "title_cell": "Table of Contents",
   "title_sidebar": "Contents",
   "toc_cell": false,
   "toc_position": {},
   "toc_section_display": true,
   "toc_window_display": false
  }
 },
 "nbformat": 4,
 "nbformat_minor": 2
}
